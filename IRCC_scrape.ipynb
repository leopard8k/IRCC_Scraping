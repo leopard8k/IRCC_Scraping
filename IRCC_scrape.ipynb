{
  "nbformat": 4,
  "nbformat_minor": 0,
  "metadata": {
    "kernelspec": {
      "display_name": "Python 3",
      "language": "python",
      "name": "python3"
    },
    "language_info": {
      "codemirror_mode": {
        "name": "ipython",
        "version": 3
      },
      "file_extension": ".py",
      "mimetype": "text/x-python",
      "name": "python",
      "nbconvert_exporter": "python",
      "pygments_lexer": "ipython3",
      "version": "3.6.4"
    },
    "colab": {
      "name": "Copy of IRCC_scrape.ipynb",
      "provenance": []
    }
  },
  "cells": [
    {
      "cell_type": "markdown",
      "metadata": {
        "id": "itmkSuvcsYpM"
      },
      "source": [
        "# Webscrape IRCC"
      ]
    },
    {
      "cell_type": "code",
      "metadata": {
        "id": "BsLhvdarsYpR"
      },
      "source": [
        "import requests\n",
        "import urllib.request\n",
        "import time\n",
        "from bs4 import BeautifulSoup\n",
        "import re"
      ],
      "execution_count": null,
      "outputs": []
    },
    {
      "cell_type": "markdown",
      "metadata": {
        "id": "HkOA1-T9sYpS"
      },
      "source": [
        "### Set the URL you want to webscrape from"
      ]
    },
    {
      "cell_type": "code",
      "metadata": {
        "id": "GkNw1ZyGsYpS"
      },
      "source": [
        "CND_SITE = 'https://www.canada.ca'\r\n",
        "IRCC_SUFFIX='/en/immigration-refugees-citizenship/'\r\n",
        "filter = re.compile('^' + IRCC_SUFFIX + '.*')\r\n",
        "url = CND_SITE + IRCC_SUFFIX"
      ],
      "execution_count": null,
      "outputs": []
    },
    {
      "cell_type": "markdown",
      "metadata": {
        "id": "ZqW2MSx6sYpT"
      },
      "source": [
        "### Connect to the URL"
      ]
    },
    {
      "cell_type": "code",
      "metadata": {
        "id": "clwWxk6ssYpU"
      },
      "source": [
        "response = requests.get(url)"
      ],
      "execution_count": null,
      "outputs": []
    },
    {
      "cell_type": "code",
      "metadata": {
        "id": "WqaA2Bp6sYpV",
        "colab": {
          "base_uri": "https://localhost:8080/"
        },
        "outputId": "cdf0b505-59cf-4fc0-c31b-4c7a9353aeeb"
      },
      "source": [
        "response #200 means it went through"
      ],
      "execution_count": null,
      "outputs": [
        {
          "output_type": "execute_result",
          "data": {
            "text/plain": [
              "<Response [200]>"
            ]
          },
          "metadata": {
            "tags": []
          },
          "execution_count": 54
        }
      ]
    },
    {
      "cell_type": "markdown",
      "metadata": {
        "id": "M516eU03sYpW"
      },
      "source": [
        "### Parse HTML and save to BeautifulSoup object"
      ]
    },
    {
      "cell_type": "code",
      "metadata": {
        "id": "RiV_RcyksYpW"
      },
      "source": [
        "soup = BeautifulSoup(response.text, \"html.parser\")"
      ],
      "execution_count": null,
      "outputs": []
    },
    {
      "cell_type": "markdown",
      "metadata": {
        "id": "Plrren2CsYpc"
      },
      "source": [
        "## To download the whole data set, let's do a for loop through all a tags"
      ]
    },
    {
      "cell_type": "code",
      "metadata": {
        "id": "KWJDGaTgsYpe"
      },
      "source": [
        "count = 10000\r\n",
        "for ahref in [a['href'] for a in soup.findAll('a', href=filter)]: #'a' tags are for links\r\n",
        "  download_url = CND_SITE + ahref\r\n",
        "  count += 1\r\n",
        "  urllib.request.urlretrieve(download_url,'./file-'+str(count)) \r\n",
        "  time.sleep(1)\r\n"
      ],
      "execution_count": null,
      "outputs": []
    },
    {
      "cell_type": "code",
      "metadata": {
        "id": "RiVM4dme9nhv"
      },
      "source": [
        ""
      ],
      "execution_count": null,
      "outputs": []
    },
    {
      "cell_type": "code",
      "metadata": {
        "id": "7zPM7a1wuRmX"
      },
      "source": [
        ""
      ],
      "execution_count": null,
      "outputs": []
    }
  ]
}