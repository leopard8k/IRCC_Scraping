{
  "nbformat": 4,
  "nbformat_minor": 0,
  "metadata": {
    "kernelspec": {
      "display_name": "Python 3",
      "language": "python",
      "name": "python3"
    },
    "language_info": {
      "codemirror_mode": {
        "name": "ipython",
        "version": 3
      },
      "file_extension": ".py",
      "mimetype": "text/x-python",
      "name": "python",
      "nbconvert_exporter": "python",
      "pygments_lexer": "ipython3",
      "version": "3.6.4"
    },
    "colab": {
      "name": "Copy of IRCC_scrape.ipynb",
      "provenance": []
    }
  },
  "cells": [
    {
      "cell_type": "markdown",
      "metadata": {
        "id": "itmkSuvcsYpM"
      },
      "source": [
        "# Webscrape IRCC"
      ]
    },
    {
      "cell_type": "code",
      "metadata": {
        "id": "BsLhvdarsYpR"
      },
      "source": [
        "import requests\n",
        "import urllib.request\n",
        "import time\n",
        "from bs4 import BeautifulSoup\n",
        "import re"
      ],
      "execution_count": 13,
      "outputs": []
    },
    {
      "cell_type": "markdown",
      "metadata": {
        "id": "HkOA1-T9sYpS"
      },
      "source": [
        "### Set the URL you want to webscrape from"
      ]
    },
    {
      "cell_type": "code",
      "metadata": {
        "id": "GkNw1ZyGsYpS"
      },
      "source": [
        "CND_SITE = 'https://www.canada.ca'\r\n",
        "IRCC_SUFFIX='/en/immigration-refugees-citizenship/'\r\n",
        "filter = re.compile('^' + IRCC_SUFFIX + '.*')\r\n",
        "exclude_some = re.compile(\"#\")\r\n",
        "url = CND_SITE + IRCC_SUFFIX"
      ],
      "execution_count": 14,
      "outputs": []
    },
    {
      "cell_type": "code",
      "metadata": {
        "id": "Ijy4quOlI_4M"
      },
      "source": [
        "def get_hrefs(url):\r\n",
        "  response = requests.get(url)\r\n",
        "  soup = BeautifulSoup(response.text, \"html.parser\")\r\n",
        "  return set(sorted([a['href'] for a in soup.findAll('a', href=filter) if not exclude_some.search(a['href'])]))"
      ],
      "execution_count": 19,
      "outputs": []
    },
    {
      "cell_type": "markdown",
      "metadata": {
        "id": "ZqW2MSx6sYpT"
      },
      "source": [
        "### Connect to the site - get the first page and loop through links to get children\r\n",
        "> #### Paramateres\r\n",
        ">> #### SCRAPE_DEPTH: determines how many layers we loop through - less: quicker; more: more pages; setting it at 2 returns a bit over 5000 links; setting it too high make it take longer to complete\r\n",
        ">> #### WEBCALLS_WITH_NO_BREAK: determines how often we take a one-second break from scraping. It helps to prevent from flooding the site and risk our IP be banned"
      ]
    },
    {
      "cell_type": "code",
      "metadata": {
        "colab": {
          "base_uri": "https://localhost:8080/"
        },
        "id": "fh3QjR87Jr28",
        "outputId": "2ce83c90-121a-40f6-84ae-e5738c16d263"
      },
      "source": [
        "scraped_uris = get_hrefs(url)\r\n",
        "# in my experience two iterations returns over 5000 links\r\n",
        "#   one can experience with more if necessary\r\n",
        "SCRAPE_DEPTH = 1\r\n",
        "WEBCALLS_WITH_NO_BREAK = 10\r\n",
        "\r\n",
        "for i in range(SCRAPE_DEPTH):\r\n",
        "  new_uris = set()\r\n",
        "  web_calls=0\r\n",
        "  for suffix in scraped_uris:\r\n",
        "    new_uris |= get_hrefs(CND_SITE+suffix)\r\n",
        "    # take a second between every few site calls to not flood the site\r\n",
        "    web_calls += 1\r\n",
        "    if web_calls >= WEBCALLS_WITH_NO_BREAK:\r\n",
        "      time.sleep(1)\r\n",
        "      web_calls = 0\r\n",
        "  scraped_uris |= new_uris\r\n",
        "\r\n",
        "len(scraped_uris)"
      ],
      "execution_count": 21,
      "outputs": [
        {
          "output_type": "execute_result",
          "data": {
            "text/plain": [
              "629"
            ]
          },
          "metadata": {
            "tags": []
          },
          "execution_count": 21
        }
      ]
    },
    {
      "cell_type": "markdown",
      "metadata": {
        "id": "Plrren2CsYpc"
      },
      "source": [
        "## To download the whole data set, let's do a for loop through all a tags"
      ]
    },
    {
      "cell_type": "code",
      "metadata": {
        "id": "KWJDGaTgsYpe"
      },
      "source": [
        "count = 10000\r\n",
        "for ahref in scraped_uris:\r\n",
        "  download_url = CND_SITE + ahref\r\n",
        "  count += 1\r\n",
        "  urllib.request.urlretrieve(download_url,'./file-'+str(count)) \r\n",
        "  time.sleep(1)\r\n"
      ],
      "execution_count": 24,
      "outputs": []
    },
    {
      "cell_type": "code",
      "metadata": {
        "id": "7zPM7a1wuRmX",
        "colab": {
          "base_uri": "https://localhost:8080/"
        },
        "outputId": "76130ad5-0331-4955-cd35-adbcf2e3b9de"
      },
      "source": [
        "!ls"
      ],
      "execution_count": 25,
      "outputs": [
        {
          "output_type": "stream",
          "text": [
            "file-10001  file-10106\tfile-10211  file-10316\tfile-10421  file-10526\n",
            "file-10002  file-10107\tfile-10212  file-10317\tfile-10422  file-10527\n",
            "file-10003  file-10108\tfile-10213  file-10318\tfile-10423  file-10528\n",
            "file-10004  file-10109\tfile-10214  file-10319\tfile-10424  file-10529\n",
            "file-10005  file-10110\tfile-10215  file-10320\tfile-10425  file-10530\n",
            "file-10006  file-10111\tfile-10216  file-10321\tfile-10426  file-10531\n",
            "file-10007  file-10112\tfile-10217  file-10322\tfile-10427  file-10532\n",
            "file-10008  file-10113\tfile-10218  file-10323\tfile-10428  file-10533\n",
            "file-10009  file-10114\tfile-10219  file-10324\tfile-10429  file-10534\n",
            "file-10010  file-10115\tfile-10220  file-10325\tfile-10430  file-10535\n",
            "file-10011  file-10116\tfile-10221  file-10326\tfile-10431  file-10536\n",
            "file-10012  file-10117\tfile-10222  file-10327\tfile-10432  file-10537\n",
            "file-10013  file-10118\tfile-10223  file-10328\tfile-10433  file-10538\n",
            "file-10014  file-10119\tfile-10224  file-10329\tfile-10434  file-10539\n",
            "file-10015  file-10120\tfile-10225  file-10330\tfile-10435  file-10540\n",
            "file-10016  file-10121\tfile-10226  file-10331\tfile-10436  file-10541\n",
            "file-10017  file-10122\tfile-10227  file-10332\tfile-10437  file-10542\n",
            "file-10018  file-10123\tfile-10228  file-10333\tfile-10438  file-10543\n",
            "file-10019  file-10124\tfile-10229  file-10334\tfile-10439  file-10544\n",
            "file-10020  file-10125\tfile-10230  file-10335\tfile-10440  file-10545\n",
            "file-10021  file-10126\tfile-10231  file-10336\tfile-10441  file-10546\n",
            "file-10022  file-10127\tfile-10232  file-10337\tfile-10442  file-10547\n",
            "file-10023  file-10128\tfile-10233  file-10338\tfile-10443  file-10548\n",
            "file-10024  file-10129\tfile-10234  file-10339\tfile-10444  file-10549\n",
            "file-10025  file-10130\tfile-10235  file-10340\tfile-10445  file-10550\n",
            "file-10026  file-10131\tfile-10236  file-10341\tfile-10446  file-10551\n",
            "file-10027  file-10132\tfile-10237  file-10342\tfile-10447  file-10552\n",
            "file-10028  file-10133\tfile-10238  file-10343\tfile-10448  file-10553\n",
            "file-10029  file-10134\tfile-10239  file-10344\tfile-10449  file-10554\n",
            "file-10030  file-10135\tfile-10240  file-10345\tfile-10450  file-10555\n",
            "file-10031  file-10136\tfile-10241  file-10346\tfile-10451  file-10556\n",
            "file-10032  file-10137\tfile-10242  file-10347\tfile-10452  file-10557\n",
            "file-10033  file-10138\tfile-10243  file-10348\tfile-10453  file-10558\n",
            "file-10034  file-10139\tfile-10244  file-10349\tfile-10454  file-10559\n",
            "file-10035  file-10140\tfile-10245  file-10350\tfile-10455  file-10560\n",
            "file-10036  file-10141\tfile-10246  file-10351\tfile-10456  file-10561\n",
            "file-10037  file-10142\tfile-10247  file-10352\tfile-10457  file-10562\n",
            "file-10038  file-10143\tfile-10248  file-10353\tfile-10458  file-10563\n",
            "file-10039  file-10144\tfile-10249  file-10354\tfile-10459  file-10564\n",
            "file-10040  file-10145\tfile-10250  file-10355\tfile-10460  file-10565\n",
            "file-10041  file-10146\tfile-10251  file-10356\tfile-10461  file-10566\n",
            "file-10042  file-10147\tfile-10252  file-10357\tfile-10462  file-10567\n",
            "file-10043  file-10148\tfile-10253  file-10358\tfile-10463  file-10568\n",
            "file-10044  file-10149\tfile-10254  file-10359\tfile-10464  file-10569\n",
            "file-10045  file-10150\tfile-10255  file-10360\tfile-10465  file-10570\n",
            "file-10046  file-10151\tfile-10256  file-10361\tfile-10466  file-10571\n",
            "file-10047  file-10152\tfile-10257  file-10362\tfile-10467  file-10572\n",
            "file-10048  file-10153\tfile-10258  file-10363\tfile-10468  file-10573\n",
            "file-10049  file-10154\tfile-10259  file-10364\tfile-10469  file-10574\n",
            "file-10050  file-10155\tfile-10260  file-10365\tfile-10470  file-10575\n",
            "file-10051  file-10156\tfile-10261  file-10366\tfile-10471  file-10576\n",
            "file-10052  file-10157\tfile-10262  file-10367\tfile-10472  file-10577\n",
            "file-10053  file-10158\tfile-10263  file-10368\tfile-10473  file-10578\n",
            "file-10054  file-10159\tfile-10264  file-10369\tfile-10474  file-10579\n",
            "file-10055  file-10160\tfile-10265  file-10370\tfile-10475  file-10580\n",
            "file-10056  file-10161\tfile-10266  file-10371\tfile-10476  file-10581\n",
            "file-10057  file-10162\tfile-10267  file-10372\tfile-10477  file-10582\n",
            "file-10058  file-10163\tfile-10268  file-10373\tfile-10478  file-10583\n",
            "file-10059  file-10164\tfile-10269  file-10374\tfile-10479  file-10584\n",
            "file-10060  file-10165\tfile-10270  file-10375\tfile-10480  file-10585\n",
            "file-10061  file-10166\tfile-10271  file-10376\tfile-10481  file-10586\n",
            "file-10062  file-10167\tfile-10272  file-10377\tfile-10482  file-10587\n",
            "file-10063  file-10168\tfile-10273  file-10378\tfile-10483  file-10588\n",
            "file-10064  file-10169\tfile-10274  file-10379\tfile-10484  file-10589\n",
            "file-10065  file-10170\tfile-10275  file-10380\tfile-10485  file-10590\n",
            "file-10066  file-10171\tfile-10276  file-10381\tfile-10486  file-10591\n",
            "file-10067  file-10172\tfile-10277  file-10382\tfile-10487  file-10592\n",
            "file-10068  file-10173\tfile-10278  file-10383\tfile-10488  file-10593\n",
            "file-10069  file-10174\tfile-10279  file-10384\tfile-10489  file-10594\n",
            "file-10070  file-10175\tfile-10280  file-10385\tfile-10490  file-10595\n",
            "file-10071  file-10176\tfile-10281  file-10386\tfile-10491  file-10596\n",
            "file-10072  file-10177\tfile-10282  file-10387\tfile-10492  file-10597\n",
            "file-10073  file-10178\tfile-10283  file-10388\tfile-10493  file-10598\n",
            "file-10074  file-10179\tfile-10284  file-10389\tfile-10494  file-10599\n",
            "file-10075  file-10180\tfile-10285  file-10390\tfile-10495  file-10600\n",
            "file-10076  file-10181\tfile-10286  file-10391\tfile-10496  file-10601\n",
            "file-10077  file-10182\tfile-10287  file-10392\tfile-10497  file-10602\n",
            "file-10078  file-10183\tfile-10288  file-10393\tfile-10498  file-10603\n",
            "file-10079  file-10184\tfile-10289  file-10394\tfile-10499  file-10604\n",
            "file-10080  file-10185\tfile-10290  file-10395\tfile-10500  file-10605\n",
            "file-10081  file-10186\tfile-10291  file-10396\tfile-10501  file-10606\n",
            "file-10082  file-10187\tfile-10292  file-10397\tfile-10502  file-10607\n",
            "file-10083  file-10188\tfile-10293  file-10398\tfile-10503  file-10608\n",
            "file-10084  file-10189\tfile-10294  file-10399\tfile-10504  file-10609\n",
            "file-10085  file-10190\tfile-10295  file-10400\tfile-10505  file-10610\n",
            "file-10086  file-10191\tfile-10296  file-10401\tfile-10506  file-10611\n",
            "file-10087  file-10192\tfile-10297  file-10402\tfile-10507  file-10612\n",
            "file-10088  file-10193\tfile-10298  file-10403\tfile-10508  file-10613\n",
            "file-10089  file-10194\tfile-10299  file-10404\tfile-10509  file-10614\n",
            "file-10090  file-10195\tfile-10300  file-10405\tfile-10510  file-10615\n",
            "file-10091  file-10196\tfile-10301  file-10406\tfile-10511  file-10616\n",
            "file-10092  file-10197\tfile-10302  file-10407\tfile-10512  file-10617\n",
            "file-10093  file-10198\tfile-10303  file-10408\tfile-10513  file-10618\n",
            "file-10094  file-10199\tfile-10304  file-10409\tfile-10514  file-10619\n",
            "file-10095  file-10200\tfile-10305  file-10410\tfile-10515  file-10620\n",
            "file-10096  file-10201\tfile-10306  file-10411\tfile-10516  file-10621\n",
            "file-10097  file-10202\tfile-10307  file-10412\tfile-10517  file-10622\n",
            "file-10098  file-10203\tfile-10308  file-10413\tfile-10518  file-10623\n",
            "file-10099  file-10204\tfile-10309  file-10414\tfile-10519  file-10624\n",
            "file-10100  file-10205\tfile-10310  file-10415\tfile-10520  file-10625\n",
            "file-10101  file-10206\tfile-10311  file-10416\tfile-10521  file-10626\n",
            "file-10102  file-10207\tfile-10312  file-10417\tfile-10522  file-10627\n",
            "file-10103  file-10208\tfile-10313  file-10418\tfile-10523  file-10628\n",
            "file-10104  file-10209\tfile-10314  file-10419\tfile-10524  file-10629\n",
            "file-10105  file-10210\tfile-10315  file-10420\tfile-10525  sample_data\n"
          ],
          "name": "stdout"
        }
      ]
    },
    {
      "cell_type": "code",
      "metadata": {
        "id": "VsyYaaD6eb9T"
      },
      "source": [
        ""
      ],
      "execution_count": null,
      "outputs": []
    }
  ]
}