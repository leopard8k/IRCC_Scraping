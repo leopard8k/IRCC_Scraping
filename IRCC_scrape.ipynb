{
  "nbformat": 4,
  "nbformat_minor": 0,
  "metadata": {
    "kernelspec": {
      "display_name": "Python 3",
      "language": "python",
      "name": "python3"
    },
    "language_info": {
      "codemirror_mode": {
        "name": "ipython",
        "version": 3
      },
      "file_extension": ".py",
      "mimetype": "text/x-python",
      "name": "python",
      "nbconvert_exporter": "python",
      "pygments_lexer": "ipython3",
      "version": "3.6.4"
    },
    "colab": {
      "name": "Copy of IRCC_scrape.ipynb",
      "provenance": []
    }
  },
  "cells": [
    {
      "cell_type": "markdown",
      "metadata": {
        "id": "itmkSuvcsYpM"
      },
      "source": [
        "# Webscrape IRCC"
      ]
    },
    {
      "cell_type": "code",
      "metadata": {
        "id": "BsLhvdarsYpR"
      },
      "source": [
        "import requests\n",
        "import urllib.request\n",
        "import time\n",
        "from bs4 import BeautifulSoup\n",
        "import re"
      ],
      "execution_count": 11,
      "outputs": []
    },
    {
      "cell_type": "markdown",
      "metadata": {
        "id": "HkOA1-T9sYpS"
      },
      "source": [
        "### Set the URL you want to webscrape from"
      ]
    },
    {
      "cell_type": "code",
      "metadata": {
        "id": "GkNw1ZyGsYpS"
      },
      "source": [
        "CND_SITE = 'https://www.canada.ca'\r\n",
        "IRCC_SUFFIX='/en/immigration-refugees-citizenship/'\r\n",
        "filter = re.compile('^' + IRCC_SUFFIX + '.*')\r\n",
        "url = CND_SITE + IRCC_SUFFIX"
      ],
      "execution_count": 12,
      "outputs": []
    },
    {
      "cell_type": "code",
      "metadata": {
        "id": "Ijy4quOlI_4M"
      },
      "source": [
        "def get_hrefs(url):\r\n",
        "  response = requests.get(url)\r\n",
        "  soup = BeautifulSoup(response.text, \"html.parser\")\r\n",
        "  return set(sorted([a['href'] for a in soup.findAll('a', href=filter)]))"
      ],
      "execution_count": 25,
      "outputs": []
    },
    {
      "cell_type": "markdown",
      "metadata": {
        "id": "ZqW2MSx6sYpT"
      },
      "source": [
        "### Connect to the URL"
      ]
    },
    {
      "cell_type": "code",
      "metadata": {
        "id": "fh3QjR87Jr28"
      },
      "source": [
        "scraped_uris = get_hrefs(url)\r\n",
        "for i in range(2):\r\n",
        "  new_uris = set()\r\n",
        "  web_calls=0\r\n",
        "  for suffix in scraped_uris:\r\n",
        "    new_uris |= get_hrefs(CND_SITE+suffix)\r\n",
        "    # take a second between every 10 site calls to not flood the site\r\n",
        "    web_calls += 1\r\n",
        "    if web_calls >= 10:\r\n",
        "      time.sleep(1)\r\n",
        "      web_calls = 0\r\n",
        "  scraped_uris |= new_uris\r\n",
        "\r\n",
        "len(scraped_uris)"
      ],
      "execution_count": null,
      "outputs": []
    },
    {
      "cell_type": "code",
      "metadata": {
        "id": "clwWxk6ssYpU"
      },
      "source": [
        "response = requests.get(url)"
      ],
      "execution_count": null,
      "outputs": []
    },
    {
      "cell_type": "code",
      "metadata": {
        "id": "WqaA2Bp6sYpV",
        "colab": {
          "base_uri": "https://localhost:8080/"
        },
        "outputId": "9e1849df-eda8-40f4-d98a-d3ba1b3b65f5"
      },
      "source": [
        "response #200 means it went through"
      ],
      "execution_count": 14,
      "outputs": [
        {
          "output_type": "execute_result",
          "data": {
            "text/plain": [
              "<Response [200]>"
            ]
          },
          "metadata": {
            "tags": []
          },
          "execution_count": 14
        }
      ]
    },
    {
      "cell_type": "markdown",
      "metadata": {
        "id": "M516eU03sYpW"
      },
      "source": [
        "### Parse HTML and save to BeautifulSoup object"
      ]
    },
    {
      "cell_type": "code",
      "metadata": {
        "id": "RiV_RcyksYpW"
      },
      "source": [
        "soup = BeautifulSoup(response.text, \"html.parser\")"
      ],
      "execution_count": 15,
      "outputs": []
    },
    {
      "cell_type": "markdown",
      "metadata": {
        "id": "Plrren2CsYpc"
      },
      "source": [
        "## To download the whole data set, let's do a for loop through all a tags"
      ]
    },
    {
      "cell_type": "code",
      "metadata": {
        "id": "KWJDGaTgsYpe"
      },
      "source": [
        "count = 10000\r\n",
        "for ahref in [a['href'] for a in soup.findAll('a', href=filter)]: #'a' tags are for links\r\n",
        "  download_url = CND_SITE + ahref\r\n",
        "  count += 1\r\n",
        "  urllib.request.urlretrieve(download_url,'./file-'+str(count)) \r\n",
        "  time.sleep(1)\r\n"
      ],
      "execution_count": null,
      "outputs": []
    },
    {
      "cell_type": "code",
      "metadata": {
        "id": "RiVM4dme9nhv",
        "colab": {
          "base_uri": "https://localhost:8080/"
        },
        "outputId": "dfc8c778-c6da-43eb-b022-44def8ae47ae"
      },
      "source": [
        "set([a['href'] for a in soup.findAll('a', href=filter)])"
      ],
      "execution_count": 18,
      "outputs": [
        {
          "output_type": "execute_result",
          "data": {
            "text/plain": [
              "{'/en/immigration-refugees-citizenship/campaigns/francophone-immigration-outside-quebec.html',\n",
              " '/en/immigration-refugees-citizenship/corporate/careers.html',\n",
              " '/en/immigration-refugees-citizenship/corporate/contact-ircc.html',\n",
              " '/en/immigration-refugees-citizenship/corporate/mandate.html',\n",
              " '/en/immigration-refugees-citizenship/corporate/mandate/citizenship-commission.html',\n",
              " '/en/immigration-refugees-citizenship/corporate/mandate/corporate-initiatives.html',\n",
              " '/en/immigration-refugees-citizenship/corporate/minister.html',\n",
              " '/en/immigration-refugees-citizenship/corporate/partners-service-providers.html',\n",
              " '/en/immigration-refugees-citizenship/corporate/publications-manuals.html',\n",
              " '/en/immigration-refugees-citizenship/corporate/publications-manuals/discover-canada.html',\n",
              " '/en/immigration-refugees-citizenship/corporate/publications-manuals/operational-bulletins-manuals.html',\n",
              " '/en/immigration-refugees-citizenship/corporate/publications-manuals/publication-welcome-canada-what-you-should-know.html',\n",
              " '/en/immigration-refugees-citizenship/corporate/reports-statistics/audits.html',\n",
              " '/en/immigration-refugees-citizenship/corporate/reports-statistics/evaluations.html',\n",
              " '/en/immigration-refugees-citizenship/corporate/reports-statistics/research.html',\n",
              " '/en/immigration-refugees-citizenship/corporate/reports-statistics/statistics-open-data.html',\n",
              " '/en/immigration-refugees-citizenship/corporate/transparency.html',\n",
              " '/en/immigration-refugees-citizenship/news.html',\n",
              " '/en/immigration-refugees-citizenship/news/2020/11/canada-announces-immigration-measures-supporting-hong-kong-residents-and-canadians-in-hong-kong.html',\n",
              " '/en/immigration-refugees-citizenship/services/application.html',\n",
              " '/en/immigration-refugees-citizenship/services/application/account.html',\n",
              " '/en/immigration-refugees-citizenship/services/application/application-forms-guides.html',\n",
              " '/en/immigration-refugees-citizenship/services/application/check-processing-times.html',\n",
              " '/en/immigration-refugees-citizenship/services/application/check-status.html',\n",
              " '/en/immigration-refugees-citizenship/services/canadian-citizenship.html',\n",
              " '/en/immigration-refugees-citizenship/services/canadians.html',\n",
              " '/en/immigration-refugees-citizenship/services/coronavirus-covid19.html',\n",
              " '/en/immigration-refugees-citizenship/services/immigrate-canada.html',\n",
              " '/en/immigration-refugees-citizenship/services/immigrate-canada/atlantic-immigration-pilot/hire-immigrant.html',\n",
              " '/en/immigration-refugees-citizenship/services/immigrate-canada/express-entry.html',\n",
              " '/en/immigration-refugees-citizenship/services/new-immigrants.html',\n",
              " '/en/immigration-refugees-citizenship/services/refugees.html',\n",
              " '/en/immigration-refugees-citizenship/services/study-canada.html',\n",
              " '/en/immigration-refugees-citizenship/services/visit-canada.html',\n",
              " '/en/immigration-refugees-citizenship/services/work-canada.html',\n",
              " '/en/immigration-refugees-citizenship/services/work-canada/permit/open-work-permit-hong-kong-recent-graduates.html'}"
            ]
          },
          "metadata": {
            "tags": []
          },
          "execution_count": 18
        }
      ]
    },
    {
      "cell_type": "code",
      "metadata": {
        "id": "7zPM7a1wuRmX"
      },
      "source": [
        ""
      ],
      "execution_count": null,
      "outputs": []
    }
  ]
}