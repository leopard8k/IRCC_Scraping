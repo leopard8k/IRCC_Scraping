{
  "nbformat": 4,
  "nbformat_minor": 0,
  "metadata": {
    "kernelspec": {
      "display_name": "Python 3",
      "language": "python",
      "name": "python3"
    },
    "language_info": {
      "codemirror_mode": {
        "name": "ipython",
        "version": 3
      },
      "file_extension": ".py",
      "mimetype": "text/x-python",
      "name": "python",
      "nbconvert_exporter": "python",
      "pygments_lexer": "ipython3",
      "version": "3.7.6"
    },
    "colab": {
      "name": "Tutorial1_Basic_QA_Pipeline.ipynb",
      "provenance": [],
      "include_colab_link": true
    },
    "accelerator": "GPU",
    "widgets": {
      "application/vnd.jupyter.widget-state+json": {
        "e7d54e219f5441ab92aa1693e9aeddac": {
          "model_module": "@jupyter-widgets/controls",
          "model_name": "HBoxModel",
          "state": {
            "_view_name": "HBoxView",
            "_dom_classes": [],
            "_model_name": "HBoxModel",
            "_view_module": "@jupyter-widgets/controls",
            "_model_module_version": "1.5.0",
            "_view_count": null,
            "_view_module_version": "1.5.0",
            "box_style": "",
            "layout": "IPY_MODEL_6e141520c1ba437580a9b6d375f1bfa2",
            "_model_module": "@jupyter-widgets/controls",
            "children": [
              "IPY_MODEL_faa3b335bbb841b5aac55566ab224074",
              "IPY_MODEL_db3c59cfc5904d328a26504d470bb350"
            ]
          }
        },
        "6e141520c1ba437580a9b6d375f1bfa2": {
          "model_module": "@jupyter-widgets/base",
          "model_name": "LayoutModel",
          "state": {
            "_view_name": "LayoutView",
            "grid_template_rows": null,
            "right": null,
            "justify_content": null,
            "_view_module": "@jupyter-widgets/base",
            "overflow": null,
            "_model_module_version": "1.2.0",
            "_view_count": null,
            "flex_flow": null,
            "width": null,
            "min_width": null,
            "border": null,
            "align_items": null,
            "bottom": null,
            "_model_module": "@jupyter-widgets/base",
            "top": null,
            "grid_column": null,
            "overflow_y": null,
            "overflow_x": null,
            "grid_auto_flow": null,
            "grid_area": null,
            "grid_template_columns": null,
            "flex": null,
            "_model_name": "LayoutModel",
            "justify_items": null,
            "grid_row": null,
            "max_height": null,
            "align_content": null,
            "visibility": null,
            "align_self": null,
            "height": null,
            "min_height": null,
            "padding": null,
            "grid_auto_rows": null,
            "grid_gap": null,
            "max_width": null,
            "order": null,
            "_view_module_version": "1.2.0",
            "grid_template_areas": null,
            "object_position": null,
            "object_fit": null,
            "grid_auto_columns": null,
            "margin": null,
            "display": null,
            "left": null
          }
        },
        "faa3b335bbb841b5aac55566ab224074": {
          "model_module": "@jupyter-widgets/controls",
          "model_name": "FloatProgressModel",
          "state": {
            "_view_name": "ProgressView",
            "style": "IPY_MODEL_0a07c68a033c4e9c9d94d7e8b335e10f",
            "_dom_classes": [],
            "description": "Downloading: 100%",
            "_model_name": "FloatProgressModel",
            "bar_style": "success",
            "max": 571,
            "_view_module": "@jupyter-widgets/controls",
            "_model_module_version": "1.5.0",
            "value": 571,
            "_view_count": null,
            "_view_module_version": "1.5.0",
            "orientation": "horizontal",
            "min": 0,
            "description_tooltip": null,
            "_model_module": "@jupyter-widgets/controls",
            "layout": "IPY_MODEL_063b0a1f57a447568c02f72882ee18f9"
          }
        },
        "db3c59cfc5904d328a26504d470bb350": {
          "model_module": "@jupyter-widgets/controls",
          "model_name": "HTMLModel",
          "state": {
            "_view_name": "HTMLView",
            "style": "IPY_MODEL_21244cb5d47e4263b9d6f5564834f85a",
            "_dom_classes": [],
            "description": "",
            "_model_name": "HTMLModel",
            "placeholder": "​",
            "_view_module": "@jupyter-widgets/controls",
            "_model_module_version": "1.5.0",
            "value": " 571/571 [00:10&lt;00:00, 53.9B/s]",
            "_view_count": null,
            "_view_module_version": "1.5.0",
            "description_tooltip": null,
            "_model_module": "@jupyter-widgets/controls",
            "layout": "IPY_MODEL_c03c58e5720543818c419fdd79934706"
          }
        },
        "0a07c68a033c4e9c9d94d7e8b335e10f": {
          "model_module": "@jupyter-widgets/controls",
          "model_name": "ProgressStyleModel",
          "state": {
            "_view_name": "StyleView",
            "_model_name": "ProgressStyleModel",
            "description_width": "initial",
            "_view_module": "@jupyter-widgets/base",
            "_model_module_version": "1.5.0",
            "_view_count": null,
            "_view_module_version": "1.2.0",
            "bar_color": null,
            "_model_module": "@jupyter-widgets/controls"
          }
        },
        "063b0a1f57a447568c02f72882ee18f9": {
          "model_module": "@jupyter-widgets/base",
          "model_name": "LayoutModel",
          "state": {
            "_view_name": "LayoutView",
            "grid_template_rows": null,
            "right": null,
            "justify_content": null,
            "_view_module": "@jupyter-widgets/base",
            "overflow": null,
            "_model_module_version": "1.2.0",
            "_view_count": null,
            "flex_flow": null,
            "width": null,
            "min_width": null,
            "border": null,
            "align_items": null,
            "bottom": null,
            "_model_module": "@jupyter-widgets/base",
            "top": null,
            "grid_column": null,
            "overflow_y": null,
            "overflow_x": null,
            "grid_auto_flow": null,
            "grid_area": null,
            "grid_template_columns": null,
            "flex": null,
            "_model_name": "LayoutModel",
            "justify_items": null,
            "grid_row": null,
            "max_height": null,
            "align_content": null,
            "visibility": null,
            "align_self": null,
            "height": null,
            "min_height": null,
            "padding": null,
            "grid_auto_rows": null,
            "grid_gap": null,
            "max_width": null,
            "order": null,
            "_view_module_version": "1.2.0",
            "grid_template_areas": null,
            "object_position": null,
            "object_fit": null,
            "grid_auto_columns": null,
            "margin": null,
            "display": null,
            "left": null
          }
        },
        "21244cb5d47e4263b9d6f5564834f85a": {
          "model_module": "@jupyter-widgets/controls",
          "model_name": "DescriptionStyleModel",
          "state": {
            "_view_name": "StyleView",
            "_model_name": "DescriptionStyleModel",
            "description_width": "",
            "_view_module": "@jupyter-widgets/base",
            "_model_module_version": "1.5.0",
            "_view_count": null,
            "_view_module_version": "1.2.0",
            "_model_module": "@jupyter-widgets/controls"
          }
        },
        "c03c58e5720543818c419fdd79934706": {
          "model_module": "@jupyter-widgets/base",
          "model_name": "LayoutModel",
          "state": {
            "_view_name": "LayoutView",
            "grid_template_rows": null,
            "right": null,
            "justify_content": null,
            "_view_module": "@jupyter-widgets/base",
            "overflow": null,
            "_model_module_version": "1.2.0",
            "_view_count": null,
            "flex_flow": null,
            "width": null,
            "min_width": null,
            "border": null,
            "align_items": null,
            "bottom": null,
            "_model_module": "@jupyter-widgets/base",
            "top": null,
            "grid_column": null,
            "overflow_y": null,
            "overflow_x": null,
            "grid_auto_flow": null,
            "grid_area": null,
            "grid_template_columns": null,
            "flex": null,
            "_model_name": "LayoutModel",
            "justify_items": null,
            "grid_row": null,
            "max_height": null,
            "align_content": null,
            "visibility": null,
            "align_self": null,
            "height": null,
            "min_height": null,
            "padding": null,
            "grid_auto_rows": null,
            "grid_gap": null,
            "max_width": null,
            "order": null,
            "_view_module_version": "1.2.0",
            "grid_template_areas": null,
            "object_position": null,
            "object_fit": null,
            "grid_auto_columns": null,
            "margin": null,
            "display": null,
            "left": null
          }
        },
        "bb497eb7a122488a817e70385780b7e9": {
          "model_module": "@jupyter-widgets/controls",
          "model_name": "HBoxModel",
          "state": {
            "_view_name": "HBoxView",
            "_dom_classes": [],
            "_model_name": "HBoxModel",
            "_view_module": "@jupyter-widgets/controls",
            "_model_module_version": "1.5.0",
            "_view_count": null,
            "_view_module_version": "1.5.0",
            "box_style": "",
            "layout": "IPY_MODEL_73e808f3a8974b98989c4919db92f7e3",
            "_model_module": "@jupyter-widgets/controls",
            "children": [
              "IPY_MODEL_cb5e5d9bd47e4ac9af0a2aa4b626493a",
              "IPY_MODEL_88ef74ff10d248aeb401075a488a318a"
            ]
          }
        },
        "73e808f3a8974b98989c4919db92f7e3": {
          "model_module": "@jupyter-widgets/base",
          "model_name": "LayoutModel",
          "state": {
            "_view_name": "LayoutView",
            "grid_template_rows": null,
            "right": null,
            "justify_content": null,
            "_view_module": "@jupyter-widgets/base",
            "overflow": null,
            "_model_module_version": "1.2.0",
            "_view_count": null,
            "flex_flow": null,
            "width": null,
            "min_width": null,
            "border": null,
            "align_items": null,
            "bottom": null,
            "_model_module": "@jupyter-widgets/base",
            "top": null,
            "grid_column": null,
            "overflow_y": null,
            "overflow_x": null,
            "grid_auto_flow": null,
            "grid_area": null,
            "grid_template_columns": null,
            "flex": null,
            "_model_name": "LayoutModel",
            "justify_items": null,
            "grid_row": null,
            "max_height": null,
            "align_content": null,
            "visibility": null,
            "align_self": null,
            "height": null,
            "min_height": null,
            "padding": null,
            "grid_auto_rows": null,
            "grid_gap": null,
            "max_width": null,
            "order": null,
            "_view_module_version": "1.2.0",
            "grid_template_areas": null,
            "object_position": null,
            "object_fit": null,
            "grid_auto_columns": null,
            "margin": null,
            "display": null,
            "left": null
          }
        },
        "cb5e5d9bd47e4ac9af0a2aa4b626493a": {
          "model_module": "@jupyter-widgets/controls",
          "model_name": "FloatProgressModel",
          "state": {
            "_view_name": "ProgressView",
            "style": "IPY_MODEL_a49748e871da427a9f54d2cb50a30f28",
            "_dom_classes": [],
            "description": "Downloading: 100%",
            "_model_name": "FloatProgressModel",
            "bar_style": "success",
            "max": 496313727,
            "_view_module": "@jupyter-widgets/controls",
            "_model_module_version": "1.5.0",
            "value": 496313727,
            "_view_count": null,
            "_view_module_version": "1.5.0",
            "orientation": "horizontal",
            "min": 0,
            "description_tooltip": null,
            "_model_module": "@jupyter-widgets/controls",
            "layout": "IPY_MODEL_d2cda2b998cf46309cf9cb2542e99429"
          }
        },
        "88ef74ff10d248aeb401075a488a318a": {
          "model_module": "@jupyter-widgets/controls",
          "model_name": "HTMLModel",
          "state": {
            "_view_name": "HTMLView",
            "style": "IPY_MODEL_ce53682d998d486fb627a1de7ab182de",
            "_dom_classes": [],
            "description": "",
            "_model_name": "HTMLModel",
            "placeholder": "​",
            "_view_module": "@jupyter-widgets/controls",
            "_model_module_version": "1.5.0",
            "value": " 496M/496M [00:10&lt;00:00, 47.8MB/s]",
            "_view_count": null,
            "_view_module_version": "1.5.0",
            "description_tooltip": null,
            "_model_module": "@jupyter-widgets/controls",
            "layout": "IPY_MODEL_73446ad8f4a34df28f3183a37542c293"
          }
        },
        "a49748e871da427a9f54d2cb50a30f28": {
          "model_module": "@jupyter-widgets/controls",
          "model_name": "ProgressStyleModel",
          "state": {
            "_view_name": "StyleView",
            "_model_name": "ProgressStyleModel",
            "description_width": "initial",
            "_view_module": "@jupyter-widgets/base",
            "_model_module_version": "1.5.0",
            "_view_count": null,
            "_view_module_version": "1.2.0",
            "bar_color": null,
            "_model_module": "@jupyter-widgets/controls"
          }
        },
        "d2cda2b998cf46309cf9cb2542e99429": {
          "model_module": "@jupyter-widgets/base",
          "model_name": "LayoutModel",
          "state": {
            "_view_name": "LayoutView",
            "grid_template_rows": null,
            "right": null,
            "justify_content": null,
            "_view_module": "@jupyter-widgets/base",
            "overflow": null,
            "_model_module_version": "1.2.0",
            "_view_count": null,
            "flex_flow": null,
            "width": null,
            "min_width": null,
            "border": null,
            "align_items": null,
            "bottom": null,
            "_model_module": "@jupyter-widgets/base",
            "top": null,
            "grid_column": null,
            "overflow_y": null,
            "overflow_x": null,
            "grid_auto_flow": null,
            "grid_area": null,
            "grid_template_columns": null,
            "flex": null,
            "_model_name": "LayoutModel",
            "justify_items": null,
            "grid_row": null,
            "max_height": null,
            "align_content": null,
            "visibility": null,
            "align_self": null,
            "height": null,
            "min_height": null,
            "padding": null,
            "grid_auto_rows": null,
            "grid_gap": null,
            "max_width": null,
            "order": null,
            "_view_module_version": "1.2.0",
            "grid_template_areas": null,
            "object_position": null,
            "object_fit": null,
            "grid_auto_columns": null,
            "margin": null,
            "display": null,
            "left": null
          }
        },
        "ce53682d998d486fb627a1de7ab182de": {
          "model_module": "@jupyter-widgets/controls",
          "model_name": "DescriptionStyleModel",
          "state": {
            "_view_name": "StyleView",
            "_model_name": "DescriptionStyleModel",
            "description_width": "",
            "_view_module": "@jupyter-widgets/base",
            "_model_module_version": "1.5.0",
            "_view_count": null,
            "_view_module_version": "1.2.0",
            "_model_module": "@jupyter-widgets/controls"
          }
        },
        "73446ad8f4a34df28f3183a37542c293": {
          "model_module": "@jupyter-widgets/base",
          "model_name": "LayoutModel",
          "state": {
            "_view_name": "LayoutView",
            "grid_template_rows": null,
            "right": null,
            "justify_content": null,
            "_view_module": "@jupyter-widgets/base",
            "overflow": null,
            "_model_module_version": "1.2.0",
            "_view_count": null,
            "flex_flow": null,
            "width": null,
            "min_width": null,
            "border": null,
            "align_items": null,
            "bottom": null,
            "_model_module": "@jupyter-widgets/base",
            "top": null,
            "grid_column": null,
            "overflow_y": null,
            "overflow_x": null,
            "grid_auto_flow": null,
            "grid_area": null,
            "grid_template_columns": null,
            "flex": null,
            "_model_name": "LayoutModel",
            "justify_items": null,
            "grid_row": null,
            "max_height": null,
            "align_content": null,
            "visibility": null,
            "align_self": null,
            "height": null,
            "min_height": null,
            "padding": null,
            "grid_auto_rows": null,
            "grid_gap": null,
            "max_width": null,
            "order": null,
            "_view_module_version": "1.2.0",
            "grid_template_areas": null,
            "object_position": null,
            "object_fit": null,
            "grid_auto_columns": null,
            "margin": null,
            "display": null,
            "left": null
          }
        },
        "a9911e420d844b538f8b38afaf398085": {
          "model_module": "@jupyter-widgets/controls",
          "model_name": "HBoxModel",
          "state": {
            "_view_name": "HBoxView",
            "_dom_classes": [],
            "_model_name": "HBoxModel",
            "_view_module": "@jupyter-widgets/controls",
            "_model_module_version": "1.5.0",
            "_view_count": null,
            "_view_module_version": "1.5.0",
            "box_style": "",
            "layout": "IPY_MODEL_4491cac23d5f4c5a897de102987ee33c",
            "_model_module": "@jupyter-widgets/controls",
            "children": [
              "IPY_MODEL_9a66e13731d94d48be2bf2477da02516",
              "IPY_MODEL_0ddf7dadd5754f29af026502513f9d5d"
            ]
          }
        },
        "4491cac23d5f4c5a897de102987ee33c": {
          "model_module": "@jupyter-widgets/base",
          "model_name": "LayoutModel",
          "state": {
            "_view_name": "LayoutView",
            "grid_template_rows": null,
            "right": null,
            "justify_content": null,
            "_view_module": "@jupyter-widgets/base",
            "overflow": null,
            "_model_module_version": "1.2.0",
            "_view_count": null,
            "flex_flow": null,
            "width": null,
            "min_width": null,
            "border": null,
            "align_items": null,
            "bottom": null,
            "_model_module": "@jupyter-widgets/base",
            "top": null,
            "grid_column": null,
            "overflow_y": null,
            "overflow_x": null,
            "grid_auto_flow": null,
            "grid_area": null,
            "grid_template_columns": null,
            "flex": null,
            "_model_name": "LayoutModel",
            "justify_items": null,
            "grid_row": null,
            "max_height": null,
            "align_content": null,
            "visibility": null,
            "align_self": null,
            "height": null,
            "min_height": null,
            "padding": null,
            "grid_auto_rows": null,
            "grid_gap": null,
            "max_width": null,
            "order": null,
            "_view_module_version": "1.2.0",
            "grid_template_areas": null,
            "object_position": null,
            "object_fit": null,
            "grid_auto_columns": null,
            "margin": null,
            "display": null,
            "left": null
          }
        },
        "9a66e13731d94d48be2bf2477da02516": {
          "model_module": "@jupyter-widgets/controls",
          "model_name": "FloatProgressModel",
          "state": {
            "_view_name": "ProgressView",
            "style": "IPY_MODEL_ceb2959a5a6b4227ac10cc053662f9b0",
            "_dom_classes": [],
            "description": "Downloading: 100%",
            "_model_name": "FloatProgressModel",
            "bar_style": "success",
            "max": 898822,
            "_view_module": "@jupyter-widgets/controls",
            "_model_module_version": "1.5.0",
            "value": 898822,
            "_view_count": null,
            "_view_module_version": "1.5.0",
            "orientation": "horizontal",
            "min": 0,
            "description_tooltip": null,
            "_model_module": "@jupyter-widgets/controls",
            "layout": "IPY_MODEL_9928164ed74443c5b99173cfde9bed60"
          }
        },
        "0ddf7dadd5754f29af026502513f9d5d": {
          "model_module": "@jupyter-widgets/controls",
          "model_name": "HTMLModel",
          "state": {
            "_view_name": "HTMLView",
            "style": "IPY_MODEL_c9975bf1eec14ef2966dd28befc16323",
            "_dom_classes": [],
            "description": "",
            "_model_name": "HTMLModel",
            "placeholder": "​",
            "_view_module": "@jupyter-widgets/controls",
            "_model_module_version": "1.5.0",
            "value": " 899k/899k [00:00&lt;00:00, 6.22MB/s]",
            "_view_count": null,
            "_view_module_version": "1.5.0",
            "description_tooltip": null,
            "_model_module": "@jupyter-widgets/controls",
            "layout": "IPY_MODEL_b8b55e3e968b42adbb259b95f7d1b795"
          }
        },
        "ceb2959a5a6b4227ac10cc053662f9b0": {
          "model_module": "@jupyter-widgets/controls",
          "model_name": "ProgressStyleModel",
          "state": {
            "_view_name": "StyleView",
            "_model_name": "ProgressStyleModel",
            "description_width": "initial",
            "_view_module": "@jupyter-widgets/base",
            "_model_module_version": "1.5.0",
            "_view_count": null,
            "_view_module_version": "1.2.0",
            "bar_color": null,
            "_model_module": "@jupyter-widgets/controls"
          }
        },
        "9928164ed74443c5b99173cfde9bed60": {
          "model_module": "@jupyter-widgets/base",
          "model_name": "LayoutModel",
          "state": {
            "_view_name": "LayoutView",
            "grid_template_rows": null,
            "right": null,
            "justify_content": null,
            "_view_module": "@jupyter-widgets/base",
            "overflow": null,
            "_model_module_version": "1.2.0",
            "_view_count": null,
            "flex_flow": null,
            "width": null,
            "min_width": null,
            "border": null,
            "align_items": null,
            "bottom": null,
            "_model_module": "@jupyter-widgets/base",
            "top": null,
            "grid_column": null,
            "overflow_y": null,
            "overflow_x": null,
            "grid_auto_flow": null,
            "grid_area": null,
            "grid_template_columns": null,
            "flex": null,
            "_model_name": "LayoutModel",
            "justify_items": null,
            "grid_row": null,
            "max_height": null,
            "align_content": null,
            "visibility": null,
            "align_self": null,
            "height": null,
            "min_height": null,
            "padding": null,
            "grid_auto_rows": null,
            "grid_gap": null,
            "max_width": null,
            "order": null,
            "_view_module_version": "1.2.0",
            "grid_template_areas": null,
            "object_position": null,
            "object_fit": null,
            "grid_auto_columns": null,
            "margin": null,
            "display": null,
            "left": null
          }
        },
        "c9975bf1eec14ef2966dd28befc16323": {
          "model_module": "@jupyter-widgets/controls",
          "model_name": "DescriptionStyleModel",
          "state": {
            "_view_name": "StyleView",
            "_model_name": "DescriptionStyleModel",
            "description_width": "",
            "_view_module": "@jupyter-widgets/base",
            "_model_module_version": "1.5.0",
            "_view_count": null,
            "_view_module_version": "1.2.0",
            "_model_module": "@jupyter-widgets/controls"
          }
        },
        "b8b55e3e968b42adbb259b95f7d1b795": {
          "model_module": "@jupyter-widgets/base",
          "model_name": "LayoutModel",
          "state": {
            "_view_name": "LayoutView",
            "grid_template_rows": null,
            "right": null,
            "justify_content": null,
            "_view_module": "@jupyter-widgets/base",
            "overflow": null,
            "_model_module_version": "1.2.0",
            "_view_count": null,
            "flex_flow": null,
            "width": null,
            "min_width": null,
            "border": null,
            "align_items": null,
            "bottom": null,
            "_model_module": "@jupyter-widgets/base",
            "top": null,
            "grid_column": null,
            "overflow_y": null,
            "overflow_x": null,
            "grid_auto_flow": null,
            "grid_area": null,
            "grid_template_columns": null,
            "flex": null,
            "_model_name": "LayoutModel",
            "justify_items": null,
            "grid_row": null,
            "max_height": null,
            "align_content": null,
            "visibility": null,
            "align_self": null,
            "height": null,
            "min_height": null,
            "padding": null,
            "grid_auto_rows": null,
            "grid_gap": null,
            "max_width": null,
            "order": null,
            "_view_module_version": "1.2.0",
            "grid_template_areas": null,
            "object_position": null,
            "object_fit": null,
            "grid_auto_columns": null,
            "margin": null,
            "display": null,
            "left": null
          }
        },
        "3a1721b3458a4e188cce2a6da4593a14": {
          "model_module": "@jupyter-widgets/controls",
          "model_name": "HBoxModel",
          "state": {
            "_view_name": "HBoxView",
            "_dom_classes": [],
            "_model_name": "HBoxModel",
            "_view_module": "@jupyter-widgets/controls",
            "_model_module_version": "1.5.0",
            "_view_count": null,
            "_view_module_version": "1.5.0",
            "box_style": "",
            "layout": "IPY_MODEL_9f96fa17d1bb424ea00d2da9249741e3",
            "_model_module": "@jupyter-widgets/controls",
            "children": [
              "IPY_MODEL_5cbfbf753a6e47cc8a2c46d677e46452",
              "IPY_MODEL_1fbc17f4b89242d2b9f535c9248a49e1"
            ]
          }
        },
        "9f96fa17d1bb424ea00d2da9249741e3": {
          "model_module": "@jupyter-widgets/base",
          "model_name": "LayoutModel",
          "state": {
            "_view_name": "LayoutView",
            "grid_template_rows": null,
            "right": null,
            "justify_content": null,
            "_view_module": "@jupyter-widgets/base",
            "overflow": null,
            "_model_module_version": "1.2.0",
            "_view_count": null,
            "flex_flow": null,
            "width": null,
            "min_width": null,
            "border": null,
            "align_items": null,
            "bottom": null,
            "_model_module": "@jupyter-widgets/base",
            "top": null,
            "grid_column": null,
            "overflow_y": null,
            "overflow_x": null,
            "grid_auto_flow": null,
            "grid_area": null,
            "grid_template_columns": null,
            "flex": null,
            "_model_name": "LayoutModel",
            "justify_items": null,
            "grid_row": null,
            "max_height": null,
            "align_content": null,
            "visibility": null,
            "align_self": null,
            "height": null,
            "min_height": null,
            "padding": null,
            "grid_auto_rows": null,
            "grid_gap": null,
            "max_width": null,
            "order": null,
            "_view_module_version": "1.2.0",
            "grid_template_areas": null,
            "object_position": null,
            "object_fit": null,
            "grid_auto_columns": null,
            "margin": null,
            "display": null,
            "left": null
          }
        },
        "5cbfbf753a6e47cc8a2c46d677e46452": {
          "model_module": "@jupyter-widgets/controls",
          "model_name": "FloatProgressModel",
          "state": {
            "_view_name": "ProgressView",
            "style": "IPY_MODEL_0401504a8da34440869e9689be422e33",
            "_dom_classes": [],
            "description": "Downloading: 100%",
            "_model_name": "FloatProgressModel",
            "bar_style": "success",
            "max": 456318,
            "_view_module": "@jupyter-widgets/controls",
            "_model_module_version": "1.5.0",
            "value": 456318,
            "_view_count": null,
            "_view_module_version": "1.5.0",
            "orientation": "horizontal",
            "min": 0,
            "description_tooltip": null,
            "_model_module": "@jupyter-widgets/controls",
            "layout": "IPY_MODEL_42105b6664b9449ab1a4cb31bd8f428b"
          }
        },
        "1fbc17f4b89242d2b9f535c9248a49e1": {
          "model_module": "@jupyter-widgets/controls",
          "model_name": "HTMLModel",
          "state": {
            "_view_name": "HTMLView",
            "style": "IPY_MODEL_922b354253e74cfdbfd1937a00e1c8f4",
            "_dom_classes": [],
            "description": "",
            "_model_name": "HTMLModel",
            "placeholder": "​",
            "_view_module": "@jupyter-widgets/controls",
            "_model_module_version": "1.5.0",
            "value": " 456k/456k [00:00&lt;00:00, 1.33MB/s]",
            "_view_count": null,
            "_view_module_version": "1.5.0",
            "description_tooltip": null,
            "_model_module": "@jupyter-widgets/controls",
            "layout": "IPY_MODEL_98e643ccd1674c70bd679529188ec019"
          }
        },
        "0401504a8da34440869e9689be422e33": {
          "model_module": "@jupyter-widgets/controls",
          "model_name": "ProgressStyleModel",
          "state": {
            "_view_name": "StyleView",
            "_model_name": "ProgressStyleModel",
            "description_width": "initial",
            "_view_module": "@jupyter-widgets/base",
            "_model_module_version": "1.5.0",
            "_view_count": null,
            "_view_module_version": "1.2.0",
            "bar_color": null,
            "_model_module": "@jupyter-widgets/controls"
          }
        },
        "42105b6664b9449ab1a4cb31bd8f428b": {
          "model_module": "@jupyter-widgets/base",
          "model_name": "LayoutModel",
          "state": {
            "_view_name": "LayoutView",
            "grid_template_rows": null,
            "right": null,
            "justify_content": null,
            "_view_module": "@jupyter-widgets/base",
            "overflow": null,
            "_model_module_version": "1.2.0",
            "_view_count": null,
            "flex_flow": null,
            "width": null,
            "min_width": null,
            "border": null,
            "align_items": null,
            "bottom": null,
            "_model_module": "@jupyter-widgets/base",
            "top": null,
            "grid_column": null,
            "overflow_y": null,
            "overflow_x": null,
            "grid_auto_flow": null,
            "grid_area": null,
            "grid_template_columns": null,
            "flex": null,
            "_model_name": "LayoutModel",
            "justify_items": null,
            "grid_row": null,
            "max_height": null,
            "align_content": null,
            "visibility": null,
            "align_self": null,
            "height": null,
            "min_height": null,
            "padding": null,
            "grid_auto_rows": null,
            "grid_gap": null,
            "max_width": null,
            "order": null,
            "_view_module_version": "1.2.0",
            "grid_template_areas": null,
            "object_position": null,
            "object_fit": null,
            "grid_auto_columns": null,
            "margin": null,
            "display": null,
            "left": null
          }
        },
        "922b354253e74cfdbfd1937a00e1c8f4": {
          "model_module": "@jupyter-widgets/controls",
          "model_name": "DescriptionStyleModel",
          "state": {
            "_view_name": "StyleView",
            "_model_name": "DescriptionStyleModel",
            "description_width": "",
            "_view_module": "@jupyter-widgets/base",
            "_model_module_version": "1.5.0",
            "_view_count": null,
            "_view_module_version": "1.2.0",
            "_model_module": "@jupyter-widgets/controls"
          }
        },
        "98e643ccd1674c70bd679529188ec019": {
          "model_module": "@jupyter-widgets/base",
          "model_name": "LayoutModel",
          "state": {
            "_view_name": "LayoutView",
            "grid_template_rows": null,
            "right": null,
            "justify_content": null,
            "_view_module": "@jupyter-widgets/base",
            "overflow": null,
            "_model_module_version": "1.2.0",
            "_view_count": null,
            "flex_flow": null,
            "width": null,
            "min_width": null,
            "border": null,
            "align_items": null,
            "bottom": null,
            "_model_module": "@jupyter-widgets/base",
            "top": null,
            "grid_column": null,
            "overflow_y": null,
            "overflow_x": null,
            "grid_auto_flow": null,
            "grid_area": null,
            "grid_template_columns": null,
            "flex": null,
            "_model_name": "LayoutModel",
            "justify_items": null,
            "grid_row": null,
            "max_height": null,
            "align_content": null,
            "visibility": null,
            "align_self": null,
            "height": null,
            "min_height": null,
            "padding": null,
            "grid_auto_rows": null,
            "grid_gap": null,
            "max_width": null,
            "order": null,
            "_view_module_version": "1.2.0",
            "grid_template_areas": null,
            "object_position": null,
            "object_fit": null,
            "grid_auto_columns": null,
            "margin": null,
            "display": null,
            "left": null
          }
        },
        "5cfb981d375047878b1d2804a8fff199": {
          "model_module": "@jupyter-widgets/controls",
          "model_name": "HBoxModel",
          "state": {
            "_view_name": "HBoxView",
            "_dom_classes": [],
            "_model_name": "HBoxModel",
            "_view_module": "@jupyter-widgets/controls",
            "_model_module_version": "1.5.0",
            "_view_count": null,
            "_view_module_version": "1.5.0",
            "box_style": "",
            "layout": "IPY_MODEL_dbe2750c4d9b4cf2bcb98c3503a34a7b",
            "_model_module": "@jupyter-widgets/controls",
            "children": [
              "IPY_MODEL_bf0eba7943b547ac807af132b220ce82",
              "IPY_MODEL_6392d5e1bf6443edaacd2e250f665bd6"
            ]
          }
        },
        "dbe2750c4d9b4cf2bcb98c3503a34a7b": {
          "model_module": "@jupyter-widgets/base",
          "model_name": "LayoutModel",
          "state": {
            "_view_name": "LayoutView",
            "grid_template_rows": null,
            "right": null,
            "justify_content": null,
            "_view_module": "@jupyter-widgets/base",
            "overflow": null,
            "_model_module_version": "1.2.0",
            "_view_count": null,
            "flex_flow": null,
            "width": null,
            "min_width": null,
            "border": null,
            "align_items": null,
            "bottom": null,
            "_model_module": "@jupyter-widgets/base",
            "top": null,
            "grid_column": null,
            "overflow_y": null,
            "overflow_x": null,
            "grid_auto_flow": null,
            "grid_area": null,
            "grid_template_columns": null,
            "flex": null,
            "_model_name": "LayoutModel",
            "justify_items": null,
            "grid_row": null,
            "max_height": null,
            "align_content": null,
            "visibility": null,
            "align_self": null,
            "height": null,
            "min_height": null,
            "padding": null,
            "grid_auto_rows": null,
            "grid_gap": null,
            "max_width": null,
            "order": null,
            "_view_module_version": "1.2.0",
            "grid_template_areas": null,
            "object_position": null,
            "object_fit": null,
            "grid_auto_columns": null,
            "margin": null,
            "display": null,
            "left": null
          }
        },
        "bf0eba7943b547ac807af132b220ce82": {
          "model_module": "@jupyter-widgets/controls",
          "model_name": "FloatProgressModel",
          "state": {
            "_view_name": "ProgressView",
            "style": "IPY_MODEL_333261a6e7174a768d57d8a96f27b6c7",
            "_dom_classes": [],
            "description": "Downloading: 100%",
            "_model_name": "FloatProgressModel",
            "bar_style": "success",
            "max": 772,
            "_view_module": "@jupyter-widgets/controls",
            "_model_module_version": "1.5.0",
            "value": 772,
            "_view_count": null,
            "_view_module_version": "1.5.0",
            "orientation": "horizontal",
            "min": 0,
            "description_tooltip": null,
            "_model_module": "@jupyter-widgets/controls",
            "layout": "IPY_MODEL_814be7343bbf47a0aaee2df7de515c8b"
          }
        },
        "6392d5e1bf6443edaacd2e250f665bd6": {
          "model_module": "@jupyter-widgets/controls",
          "model_name": "HTMLModel",
          "state": {
            "_view_name": "HTMLView",
            "style": "IPY_MODEL_442c4b68a9b449f69a123fd201abbe02",
            "_dom_classes": [],
            "description": "",
            "_model_name": "HTMLModel",
            "placeholder": "​",
            "_view_module": "@jupyter-widgets/controls",
            "_model_module_version": "1.5.0",
            "value": " 772/772 [00:00&lt;00:00, 3.91kB/s]",
            "_view_count": null,
            "_view_module_version": "1.5.0",
            "description_tooltip": null,
            "_model_module": "@jupyter-widgets/controls",
            "layout": "IPY_MODEL_aad5a06e1b764b48b7ed6313eea685ee"
          }
        },
        "333261a6e7174a768d57d8a96f27b6c7": {
          "model_module": "@jupyter-widgets/controls",
          "model_name": "ProgressStyleModel",
          "state": {
            "_view_name": "StyleView",
            "_model_name": "ProgressStyleModel",
            "description_width": "initial",
            "_view_module": "@jupyter-widgets/base",
            "_model_module_version": "1.5.0",
            "_view_count": null,
            "_view_module_version": "1.2.0",
            "bar_color": null,
            "_model_module": "@jupyter-widgets/controls"
          }
        },
        "814be7343bbf47a0aaee2df7de515c8b": {
          "model_module": "@jupyter-widgets/base",
          "model_name": "LayoutModel",
          "state": {
            "_view_name": "LayoutView",
            "grid_template_rows": null,
            "right": null,
            "justify_content": null,
            "_view_module": "@jupyter-widgets/base",
            "overflow": null,
            "_model_module_version": "1.2.0",
            "_view_count": null,
            "flex_flow": null,
            "width": null,
            "min_width": null,
            "border": null,
            "align_items": null,
            "bottom": null,
            "_model_module": "@jupyter-widgets/base",
            "top": null,
            "grid_column": null,
            "overflow_y": null,
            "overflow_x": null,
            "grid_auto_flow": null,
            "grid_area": null,
            "grid_template_columns": null,
            "flex": null,
            "_model_name": "LayoutModel",
            "justify_items": null,
            "grid_row": null,
            "max_height": null,
            "align_content": null,
            "visibility": null,
            "align_self": null,
            "height": null,
            "min_height": null,
            "padding": null,
            "grid_auto_rows": null,
            "grid_gap": null,
            "max_width": null,
            "order": null,
            "_view_module_version": "1.2.0",
            "grid_template_areas": null,
            "object_position": null,
            "object_fit": null,
            "grid_auto_columns": null,
            "margin": null,
            "display": null,
            "left": null
          }
        },
        "442c4b68a9b449f69a123fd201abbe02": {
          "model_module": "@jupyter-widgets/controls",
          "model_name": "DescriptionStyleModel",
          "state": {
            "_view_name": "StyleView",
            "_model_name": "DescriptionStyleModel",
            "description_width": "",
            "_view_module": "@jupyter-widgets/base",
            "_model_module_version": "1.5.0",
            "_view_count": null,
            "_view_module_version": "1.2.0",
            "_model_module": "@jupyter-widgets/controls"
          }
        },
        "aad5a06e1b764b48b7ed6313eea685ee": {
          "model_module": "@jupyter-widgets/base",
          "model_name": "LayoutModel",
          "state": {
            "_view_name": "LayoutView",
            "grid_template_rows": null,
            "right": null,
            "justify_content": null,
            "_view_module": "@jupyter-widgets/base",
            "overflow": null,
            "_model_module_version": "1.2.0",
            "_view_count": null,
            "flex_flow": null,
            "width": null,
            "min_width": null,
            "border": null,
            "align_items": null,
            "bottom": null,
            "_model_module": "@jupyter-widgets/base",
            "top": null,
            "grid_column": null,
            "overflow_y": null,
            "overflow_x": null,
            "grid_auto_flow": null,
            "grid_area": null,
            "grid_template_columns": null,
            "flex": null,
            "_model_name": "LayoutModel",
            "justify_items": null,
            "grid_row": null,
            "max_height": null,
            "align_content": null,
            "visibility": null,
            "align_self": null,
            "height": null,
            "min_height": null,
            "padding": null,
            "grid_auto_rows": null,
            "grid_gap": null,
            "max_width": null,
            "order": null,
            "_view_module_version": "1.2.0",
            "grid_template_areas": null,
            "object_position": null,
            "object_fit": null,
            "grid_auto_columns": null,
            "margin": null,
            "display": null,
            "left": null
          }
        },
        "b1330f77af984010a96445e22b81141a": {
          "model_module": "@jupyter-widgets/controls",
          "model_name": "HBoxModel",
          "state": {
            "_view_name": "HBoxView",
            "_dom_classes": [],
            "_model_name": "HBoxModel",
            "_view_module": "@jupyter-widgets/controls",
            "_model_module_version": "1.5.0",
            "_view_count": null,
            "_view_module_version": "1.5.0",
            "box_style": "",
            "layout": "IPY_MODEL_a71975476e764af495b35ba96c46d978",
            "_model_module": "@jupyter-widgets/controls",
            "children": [
              "IPY_MODEL_48fcbcc7163b4162871dfed4f239a861",
              "IPY_MODEL_30637ab1a02c4750990fa563e0c6df10"
            ]
          }
        },
        "a71975476e764af495b35ba96c46d978": {
          "model_module": "@jupyter-widgets/base",
          "model_name": "LayoutModel",
          "state": {
            "_view_name": "LayoutView",
            "grid_template_rows": null,
            "right": null,
            "justify_content": null,
            "_view_module": "@jupyter-widgets/base",
            "overflow": null,
            "_model_module_version": "1.2.0",
            "_view_count": null,
            "flex_flow": null,
            "width": null,
            "min_width": null,
            "border": null,
            "align_items": null,
            "bottom": null,
            "_model_module": "@jupyter-widgets/base",
            "top": null,
            "grid_column": null,
            "overflow_y": null,
            "overflow_x": null,
            "grid_auto_flow": null,
            "grid_area": null,
            "grid_template_columns": null,
            "flex": null,
            "_model_name": "LayoutModel",
            "justify_items": null,
            "grid_row": null,
            "max_height": null,
            "align_content": null,
            "visibility": null,
            "align_self": null,
            "height": null,
            "min_height": null,
            "padding": null,
            "grid_auto_rows": null,
            "grid_gap": null,
            "max_width": null,
            "order": null,
            "_view_module_version": "1.2.0",
            "grid_template_areas": null,
            "object_position": null,
            "object_fit": null,
            "grid_auto_columns": null,
            "margin": null,
            "display": null,
            "left": null
          }
        },
        "48fcbcc7163b4162871dfed4f239a861": {
          "model_module": "@jupyter-widgets/controls",
          "model_name": "FloatProgressModel",
          "state": {
            "_view_name": "ProgressView",
            "style": "IPY_MODEL_44742e06618245df86a8e6cf9e00ae29",
            "_dom_classes": [],
            "description": "Downloading: 100%",
            "_model_name": "FloatProgressModel",
            "bar_style": "success",
            "max": 79,
            "_view_module": "@jupyter-widgets/controls",
            "_model_module_version": "1.5.0",
            "value": 79,
            "_view_count": null,
            "_view_module_version": "1.5.0",
            "orientation": "horizontal",
            "min": 0,
            "description_tooltip": null,
            "_model_module": "@jupyter-widgets/controls",
            "layout": "IPY_MODEL_042eefd81f39404c9adf45ba096bd1d9"
          }
        },
        "30637ab1a02c4750990fa563e0c6df10": {
          "model_module": "@jupyter-widgets/controls",
          "model_name": "HTMLModel",
          "state": {
            "_view_name": "HTMLView",
            "style": "IPY_MODEL_8d48de9142aa4eaabefbe54f4711456c",
            "_dom_classes": [],
            "description": "",
            "_model_name": "HTMLModel",
            "placeholder": "​",
            "_view_module": "@jupyter-widgets/controls",
            "_model_module_version": "1.5.0",
            "value": " 79.0/79.0 [00:00&lt;00:00, 740B/s]",
            "_view_count": null,
            "_view_module_version": "1.5.0",
            "description_tooltip": null,
            "_model_module": "@jupyter-widgets/controls",
            "layout": "IPY_MODEL_8da57e01ac8d4f3c9f9dbedce639bde1"
          }
        },
        "44742e06618245df86a8e6cf9e00ae29": {
          "model_module": "@jupyter-widgets/controls",
          "model_name": "ProgressStyleModel",
          "state": {
            "_view_name": "StyleView",
            "_model_name": "ProgressStyleModel",
            "description_width": "initial",
            "_view_module": "@jupyter-widgets/base",
            "_model_module_version": "1.5.0",
            "_view_count": null,
            "_view_module_version": "1.2.0",
            "bar_color": null,
            "_model_module": "@jupyter-widgets/controls"
          }
        },
        "042eefd81f39404c9adf45ba096bd1d9": {
          "model_module": "@jupyter-widgets/base",
          "model_name": "LayoutModel",
          "state": {
            "_view_name": "LayoutView",
            "grid_template_rows": null,
            "right": null,
            "justify_content": null,
            "_view_module": "@jupyter-widgets/base",
            "overflow": null,
            "_model_module_version": "1.2.0",
            "_view_count": null,
            "flex_flow": null,
            "width": null,
            "min_width": null,
            "border": null,
            "align_items": null,
            "bottom": null,
            "_model_module": "@jupyter-widgets/base",
            "top": null,
            "grid_column": null,
            "overflow_y": null,
            "overflow_x": null,
            "grid_auto_flow": null,
            "grid_area": null,
            "grid_template_columns": null,
            "flex": null,
            "_model_name": "LayoutModel",
            "justify_items": null,
            "grid_row": null,
            "max_height": null,
            "align_content": null,
            "visibility": null,
            "align_self": null,
            "height": null,
            "min_height": null,
            "padding": null,
            "grid_auto_rows": null,
            "grid_gap": null,
            "max_width": null,
            "order": null,
            "_view_module_version": "1.2.0",
            "grid_template_areas": null,
            "object_position": null,
            "object_fit": null,
            "grid_auto_columns": null,
            "margin": null,
            "display": null,
            "left": null
          }
        },
        "8d48de9142aa4eaabefbe54f4711456c": {
          "model_module": "@jupyter-widgets/controls",
          "model_name": "DescriptionStyleModel",
          "state": {
            "_view_name": "StyleView",
            "_model_name": "DescriptionStyleModel",
            "description_width": "",
            "_view_module": "@jupyter-widgets/base",
            "_model_module_version": "1.5.0",
            "_view_count": null,
            "_view_module_version": "1.2.0",
            "_model_module": "@jupyter-widgets/controls"
          }
        },
        "8da57e01ac8d4f3c9f9dbedce639bde1": {
          "model_module": "@jupyter-widgets/base",
          "model_name": "LayoutModel",
          "state": {
            "_view_name": "LayoutView",
            "grid_template_rows": null,
            "right": null,
            "justify_content": null,
            "_view_module": "@jupyter-widgets/base",
            "overflow": null,
            "_model_module_version": "1.2.0",
            "_view_count": null,
            "flex_flow": null,
            "width": null,
            "min_width": null,
            "border": null,
            "align_items": null,
            "bottom": null,
            "_model_module": "@jupyter-widgets/base",
            "top": null,
            "grid_column": null,
            "overflow_y": null,
            "overflow_x": null,
            "grid_auto_flow": null,
            "grid_area": null,
            "grid_template_columns": null,
            "flex": null,
            "_model_name": "LayoutModel",
            "justify_items": null,
            "grid_row": null,
            "max_height": null,
            "align_content": null,
            "visibility": null,
            "align_self": null,
            "height": null,
            "min_height": null,
            "padding": null,
            "grid_auto_rows": null,
            "grid_gap": null,
            "max_width": null,
            "order": null,
            "_view_module_version": "1.2.0",
            "grid_template_areas": null,
            "object_position": null,
            "object_fit": null,
            "grid_auto_columns": null,
            "margin": null,
            "display": null,
            "left": null
          }
        }
      }
    }
  },
  "cells": [
    {
      "cell_type": "markdown",
      "metadata": {
        "id": "view-in-github",
        "colab_type": "text"
      },
      "source": [
        "<a href=\"https://colab.research.google.com/github/leopard8k/IRCC_Scraping/blob/master/IRCC_Basic_QA_Pipeline.ipynb\" target=\"_parent\"><img src=\"https://colab.research.google.com/assets/colab-badge.svg\" alt=\"Open In Colab\"/></a>"
      ]
    },
    {
      "cell_type": "code",
      "metadata": {
        "id": "TMhtCoqGm8aV"
      },
      "source": [
        "import requests\r\n",
        "import urllib.request\r\n",
        "import time\r\n",
        "from bs4 import BeautifulSoup\r\n",
        "import re"
      ],
      "execution_count": null,
      "outputs": []
    },
    {
      "cell_type": "code",
      "metadata": {
        "id": "NOQhNyN3nOY6"
      },
      "source": [
        "CND_SITE = 'https://www.canada.ca'\r\n",
        "IRCC_SUFFIX='/en/immigration-refugees-citizenship/'\r\n",
        "filter = re.compile('^' + IRCC_SUFFIX + '.*')\r\n",
        "exclude_some = re.compile(\"#\")\r\n",
        "url = CND_SITE + IRCC_SUFFIX"
      ],
      "execution_count": null,
      "outputs": []
    },
    {
      "cell_type": "code",
      "metadata": {
        "id": "0jWv3FdinTyd"
      },
      "source": [
        "def get_hrefs(url):\r\n",
        "  response = requests.get(url)\r\n",
        "  soup = BeautifulSoup(response.text, \"html.parser\")\r\n",
        "  return set(sorted([a['href'] for a in soup.findAll('a', href=filter) if not exclude_some.search(a['href'])]))"
      ],
      "execution_count": null,
      "outputs": []
    },
    {
      "cell_type": "code",
      "metadata": {
        "colab": {
          "base_uri": "https://localhost:8080/"
        },
        "id": "L4kffGgTndja",
        "outputId": "c65c9be7-8e17-4471-9a14-442d4dce02a2"
      },
      "source": [
        "scraped_uris = get_hrefs(url)\r\n",
        "# in my experience two iterations returns over 5000 links\r\n",
        "#   one can experience with more if necessary\r\n",
        "SCRAPE_DEPTH = 1\r\n",
        "WEBCALLS_WITH_NO_BREAK = 10\r\n",
        "\r\n",
        "for i in range(SCRAPE_DEPTH):\r\n",
        "  new_uris = set()\r\n",
        "  web_calls=0\r\n",
        "  for suffix in scraped_uris:\r\n",
        "    new_uris |= get_hrefs(CND_SITE+suffix)\r\n",
        "    # take a second between every few site calls to not flood the site\r\n",
        "    web_calls += 1\r\n",
        "    if web_calls >= WEBCALLS_WITH_NO_BREAK:\r\n",
        "      time.sleep(1)\r\n",
        "      web_calls = 0\r\n",
        "  scraped_uris |= new_uris\r\n",
        "\r\n",
        "len(scraped_uris)"
      ],
      "execution_count": null,
      "outputs": [
        {
          "output_type": "execute_result",
          "data": {
            "text/plain": [
              "629"
            ]
          },
          "metadata": {
            "tags": []
          },
          "execution_count": 5
        }
      ]
    },
    {
      "cell_type": "code",
      "metadata": {
        "id": "9d6LfR--nlXf"
      },
      "source": [
        "count = 10000\r\n",
        "for ahref in scraped_uris:\r\n",
        "  download_url = CND_SITE + ahref\r\n",
        "  count += 1\r\n",
        "  urllib.request.urlretrieve(download_url,'./file-'+str(count)+'.html') \r\n",
        "  time.sleep(1)"
      ],
      "execution_count": 6,
      "outputs": []
    },
    {
      "cell_type": "code",
      "metadata": {
        "colab": {
          "base_uri": "https://localhost:8080/"
        },
        "id": "C03tlPO6uCZ_",
        "outputId": "8992e8d6-ebd0-4c88-8e81-26ba16eba483"
      },
      "source": [
        "!pip install html2text"
      ],
      "execution_count": 55,
      "outputs": [
        {
          "output_type": "stream",
          "text": [
            "Collecting html2text\n",
            "  Downloading https://files.pythonhosted.org/packages/ae/88/14655f727f66b3e3199f4467bafcc88283e6c31b562686bf606264e09181/html2text-2020.1.16-py3-none-any.whl\n",
            "Installing collected packages: html2text\n",
            "Successfully installed html2text-2020.1.16\n"
          ],
          "name": "stdout"
        }
      ]
    },
    {
      "cell_type": "code",
      "metadata": {
        "id": "uVtz5EG8txpB"
      },
      "source": [
        "!mkdir dataIRCC\r\n",
        "!for file in file*html;do html2text ${file} > dataIRCC/${file}.txt;done"
      ],
      "execution_count": null,
      "outputs": []
    },
    {
      "cell_type": "code",
      "metadata": {
        "pycharm": {
          "name": "#%%\n"
        },
        "id": "UtYUeXYOleU9",
        "colab": {
          "base_uri": "https://localhost:8080/"
        },
        "outputId": "b478d166-29ff-45b0-9212-91f44553c505"
      },
      "source": [
        "# Make sure you have a GPU running\n",
        "!nvidia-smi"
      ],
      "execution_count": 9,
      "outputs": [
        {
          "output_type": "stream",
          "text": [
            "Fri Feb 26 22:59:09 2021       \n",
            "+-----------------------------------------------------------------------------+\n",
            "| NVIDIA-SMI 460.39       Driver Version: 460.32.03    CUDA Version: 11.2     |\n",
            "|-------------------------------+----------------------+----------------------+\n",
            "| GPU  Name        Persistence-M| Bus-Id        Disp.A | Volatile Uncorr. ECC |\n",
            "| Fan  Temp  Perf  Pwr:Usage/Cap|         Memory-Usage | GPU-Util  Compute M. |\n",
            "|                               |                      |               MIG M. |\n",
            "|===============================+======================+======================|\n",
            "|   0  Tesla T4            Off  | 00000000:00:04.0 Off |                    0 |\n",
            "| N/A   35C    P8     9W /  70W |      0MiB / 15109MiB |      0%      Default |\n",
            "|                               |                      |                  N/A |\n",
            "+-------------------------------+----------------------+----------------------+\n",
            "                                                                               \n",
            "+-----------------------------------------------------------------------------+\n",
            "| Processes:                                                                  |\n",
            "|  GPU   GI   CI        PID   Type   Process name                  GPU Memory |\n",
            "|        ID   ID                                                   Usage      |\n",
            "|=============================================================================|\n",
            "|  No running processes found                                                 |\n",
            "+-----------------------------------------------------------------------------+\n"
          ],
          "name": "stdout"
        }
      ]
    },
    {
      "cell_type": "code",
      "metadata": {
        "id": "2mckDJzOleU_"
      },
      "source": [
        "# Install the latest release of Haystack in your own environment \n",
        "#! pip install farm-haystack\n",
        "\n",
        "# Install the latest master of Haystack\n",
        "!pip install git+https://github.com/deepset-ai/haystack.git\n",
        "!pip install urllib3==1.25.4\n"
      ],
      "execution_count": null,
      "outputs": []
    },
    {
      "cell_type": "code",
      "metadata": {
        "id": "1IKhcy99leVA",
        "colab": {
          "base_uri": "https://localhost:8080/"
        },
        "outputId": "363beef7-843b-459d-8b19-4a737e02fb4e"
      },
      "source": [
        "from haystack.preprocessor.cleaning import clean_wiki_text\n",
        "from haystack.preprocessor.utils import convert_files_to_dicts, fetch_archive_from_http\n",
        "from haystack.reader.farm import FARMReader\n",
        "from haystack.reader.transformers import TransformersReader\n",
        "from haystack.utils import print_answers"
      ],
      "execution_count": 11,
      "outputs": [
        {
          "output_type": "stream",
          "text": [
            "02/26/2021 23:00:09 - INFO - faiss.loader -   Loading faiss with AVX2 support.\n",
            "02/26/2021 23:00:09 - INFO - faiss.loader -   Loading faiss.\n",
            "02/26/2021 23:00:10 - INFO - farm.modeling.prediction_head -   Better speed can be achieved with apex installed from https://www.github.com/nvidia/apex .\n"
          ],
          "name": "stderr"
        }
      ]
    },
    {
      "cell_type": "markdown",
      "metadata": {
        "id": "ILd3GtpHleVB"
      },
      "source": [
        "## Document Store\n",
        "\n",
        "Haystack finds answers to queries within the documents stored in a `DocumentStore`. The current implementations of `DocumentStore` include `ElasticsearchDocumentStore`, `FAISSDocumentStore`,  `SQLDocumentStore`, and `InMemoryDocumentStore`.\n",
        "\n",
        "**Here:** We recommended Elasticsearch as it comes preloaded with features like [full-text queries](https://www.elastic.co/guide/en/elasticsearch/reference/current/full-text-queries.html), [BM25 retrieval](https://www.elastic.co/elasticon/conf/2016/sf/improved-text-scoring-with-bm25), and [vector storage for text embeddings](https://www.elastic.co/guide/en/elasticsearch/reference/7.6/dense-vector.html).\n",
        "\n",
        "**Alternatives:** If you are unable to setup an Elasticsearch instance, then follow the [Tutorial 3](https://github.com/deepset-ai/haystack/blob/master/tutorials/Tutorial3_Basic_QA_Pipeline_without_Elasticsearch.ipynb) for using SQL/InMemory document stores.\n",
        "\n",
        "**Hint**: This tutorial creates a new document store instance with Wikipedia articles on Game of Thrones. However, you can configure Haystack to work with your existing document stores.\n",
        "\n",
        "### Start an Elasticsearch server\n",
        "You can start Elasticsearch on your local machine instance using Docker. If Docker is not readily available in your environment (eg., in Colab notebooks), then you can manually download and execute Elasticsearch from source."
      ]
    },
    {
      "cell_type": "code",
      "metadata": {
        "id": "kCfVbeSOleVC",
        "outputId": "c06cdaf4-780b-482f-cc9c-f91a61a93c40"
      },
      "source": [
        "# Recommended: Start Elasticsearch using Docker\n",
        "#! docker run -d -p 9200:9200 -e \"discovery.type=single-node\" elasticsearch:7.9.2"
      ],
      "execution_count": null,
      "outputs": [
        {
          "output_type": "stream",
          "text": [
            "0ae423cd9c30d6f02ca2073e430d4e1f4403d88b8ec316411ec4c198bad3d416\r\n"
          ],
          "name": "stdout"
        }
      ]
    },
    {
      "cell_type": "code",
      "metadata": {
        "id": "E1L3zFomleVF"
      },
      "source": [
        "# In Colab / No Docker environments: Start Elasticsearch from source\n",
        "! wget https://artifacts.elastic.co/downloads/elasticsearch/elasticsearch-7.9.2-linux-x86_64.tar.gz -q\n",
        "! tar -xzf elasticsearch-7.9.2-linux-x86_64.tar.gz\n",
        "! chown -R daemon:daemon elasticsearch-7.9.2\n",
        "\n",
        "import os\n",
        "from subprocess import Popen, PIPE, STDOUT\n",
        "es_server = Popen(['elasticsearch-7.9.2/bin/elasticsearch'],\n",
        "                   stdout=PIPE, stderr=STDOUT,\n",
        "                   preexec_fn=lambda: os.setuid(1)  # as daemon\n",
        "                  )\n",
        "# wait until ES has started\n",
        "! sleep 30"
      ],
      "execution_count": 12,
      "outputs": []
    },
    {
      "cell_type": "code",
      "metadata": {
        "pycharm": {
          "name": "#%%\n"
        },
        "id": "2JzRRGO-leVG",
        "colab": {
          "base_uri": "https://localhost:8080/"
        },
        "outputId": "9304b0d5-a6b2-42bd-873e-32df6b856da3"
      },
      "source": [
        "# Connect to Elasticsearch\n",
        "\n",
        "from haystack.document_store.elasticsearch import ElasticsearchDocumentStore\n",
        "document_store = ElasticsearchDocumentStore(host=\"localhost\", username=\"\", password=\"\", index=\"document\")"
      ],
      "execution_count": 13,
      "outputs": [
        {
          "output_type": "stream",
          "text": [
            "02/26/2021 23:00:55 - INFO - elasticsearch -   HEAD http://localhost:9200/ [status:200 request:0.083s]\n",
            "02/26/2021 23:00:56 - INFO - elasticsearch -   PUT http://localhost:9200/document [status:200 request:0.339s]\n",
            "02/26/2021 23:00:56 - INFO - elasticsearch -   PUT http://localhost:9200/label [status:200 request:0.177s]\n"
          ],
          "name": "stderr"
        }
      ]
    },
    {
      "cell_type": "markdown",
      "metadata": {
        "pycharm": {
          "name": "#%% md\n"
        },
        "id": "lxIMemRXleVJ"
      },
      "source": [
        "## Preprocessing of documents\n",
        "\n",
        "Haystack provides a customizable pipeline for:\n",
        " - converting files into texts\n",
        " - cleaning texts\n",
        " - splitting texts\n",
        " - writing them to a Document Store\n"
      ]
    },
    {
      "cell_type": "code",
      "metadata": {
        "pycharm": {
          "name": "#%%\n"
        },
        "id": "Asmqw4swleVK",
        "colab": {
          "base_uri": "https://localhost:8080/"
        },
        "outputId": "c389b703-7911-4850-e98e-bfcf4f6e9623"
      },
      "source": [
        "\n",
        "doc_dir = \"dataIRCC\"\n",
        "\n",
        "# Convert files to dicts\n",
        "# You can optionally supply a cleaning function that is applied to each doc (e.g. to remove footers)\n",
        "# It must take a str as input, and return a str.\n",
        "dicts = convert_files_to_dicts(dir_path=doc_dir, split_paragraphs=False)\n",
        "\n",
        "# We now have a list of dictionaries that we can write to our document store.\n",
        "# If your texts come from a different source (e.g. a DB), you can of course skip convert_files_to_dicts() and create the dictionaries yourself.\n",
        "# The default format here is:\n",
        "# {\n",
        "#    'text': \"<DOCUMENT_TEXT_HERE>\",\n",
        "#    'meta': {'name': \"<DOCUMENT_NAME_HERE>\", ...}\n",
        "#}\n",
        "# (Optionally: you can also add more key-value-pairs here, that will be indexed as fields in Elasticsearch and\n",
        "# can be accessed later for filtering or shown in the responses of the Finder)\n",
        "\n",
        "# Let's have a look at the first 3 entries:\n",
        "print(dicts[:3])\n",
        "\n",
        "# Now, let's write the dicts containing documents to our DB.\n",
        "document_store.write_documents(dicts)"
      ],
      "execution_count": 35,
      "outputs": [
        {
          "output_type": "stream",
          "text": [
            "02/26/2021 23:28:30 - INFO - haystack.preprocessor.utils -   Converting dataIRCC/file-10287.txt\n",
            "02/26/2021 23:28:30 - INFO - haystack.preprocessor.utils -   Converting dataIRCC/file-10467.txt\n",
            "02/26/2021 23:28:30 - INFO - haystack.preprocessor.utils -   Converting dataIRCC/file-10567.txt\n",
            "02/26/2021 23:28:30 - INFO - haystack.preprocessor.utils -   Converting dataIRCC/file-10446.txt\n",
            "02/26/2021 23:28:30 - INFO - haystack.preprocessor.utils -   Converting dataIRCC/file-10283.txt\n",
            "02/26/2021 23:28:30 - INFO - haystack.preprocessor.utils -   Converting dataIRCC/file-10202.txt\n",
            "02/26/2021 23:28:30 - INFO - haystack.preprocessor.utils -   Converting dataIRCC/file-10291.txt\n",
            "02/26/2021 23:28:30 - INFO - haystack.preprocessor.utils -   Converting dataIRCC/file-10267.txt\n",
            "02/26/2021 23:28:30 - INFO - haystack.preprocessor.utils -   Converting dataIRCC/file-10237.txt\n",
            "02/26/2021 23:28:30 - INFO - haystack.preprocessor.utils -   Converting dataIRCC/file-10296.txt\n",
            "02/26/2021 23:28:30 - INFO - haystack.preprocessor.utils -   Converting dataIRCC/file-10298.txt\n",
            "02/26/2021 23:28:30 - INFO - haystack.preprocessor.utils -   Converting dataIRCC/file-10211.txt\n",
            "02/26/2021 23:28:30 - INFO - haystack.preprocessor.utils -   Converting dataIRCC/file-10603.txt\n",
            "02/26/2021 23:28:30 - INFO - haystack.preprocessor.utils -   Converting dataIRCC/file-10405.txt\n",
            "02/26/2021 23:28:30 - INFO - haystack.preprocessor.utils -   Converting dataIRCC/file-10143.txt\n",
            "02/26/2021 23:28:30 - INFO - haystack.preprocessor.utils -   Converting dataIRCC/file-10473.txt\n",
            "02/26/2021 23:28:30 - INFO - haystack.preprocessor.utils -   Converting dataIRCC/file-10250.txt\n",
            "02/26/2021 23:28:30 - INFO - haystack.preprocessor.utils -   Converting dataIRCC/file-10047.txt\n",
            "02/26/2021 23:28:30 - INFO - haystack.preprocessor.utils -   Converting dataIRCC/file-10596.txt\n",
            "02/26/2021 23:28:30 - INFO - haystack.preprocessor.utils -   Converting dataIRCC/file-10233.txt\n",
            "02/26/2021 23:28:30 - INFO - haystack.preprocessor.utils -   Converting dataIRCC/file-10447.txt\n",
            "02/26/2021 23:28:30 - INFO - haystack.preprocessor.utils -   Converting dataIRCC/file-10519.txt\n",
            "02/26/2021 23:28:30 - INFO - haystack.preprocessor.utils -   Converting dataIRCC/file-10537.txt\n",
            "02/26/2021 23:28:30 - INFO - haystack.preprocessor.utils -   Converting dataIRCC/file-10358.txt\n",
            "02/26/2021 23:28:30 - INFO - haystack.preprocessor.utils -   Converting dataIRCC/file-10259.txt\n",
            "02/26/2021 23:28:30 - INFO - haystack.preprocessor.utils -   Converting dataIRCC/file-10373.txt\n",
            "02/26/2021 23:28:30 - INFO - haystack.preprocessor.utils -   Converting dataIRCC/file-10566.txt\n",
            "02/26/2021 23:28:30 - INFO - haystack.preprocessor.utils -   Converting dataIRCC/file-10530.txt\n",
            "02/26/2021 23:28:30 - INFO - haystack.preprocessor.utils -   Converting dataIRCC/file-10606.txt\n",
            "02/26/2021 23:28:30 - INFO - haystack.preprocessor.utils -   Converting dataIRCC/file-10073.txt\n",
            "02/26/2021 23:28:30 - INFO - haystack.preprocessor.utils -   Converting dataIRCC/file-10129.txt\n",
            "02/26/2021 23:28:30 - INFO - haystack.preprocessor.utils -   Converting dataIRCC/file-10523.txt\n",
            "02/26/2021 23:28:30 - INFO - haystack.preprocessor.utils -   Converting dataIRCC/file-10325.txt\n",
            "02/26/2021 23:28:30 - INFO - haystack.preprocessor.utils -   Converting dataIRCC/file-10354.txt\n",
            "02/26/2021 23:28:30 - INFO - haystack.preprocessor.utils -   Converting dataIRCC/file-10299.txt\n",
            "02/26/2021 23:28:30 - INFO - haystack.preprocessor.utils -   Converting dataIRCC/file-10526.txt\n",
            "02/26/2021 23:28:30 - INFO - haystack.preprocessor.utils -   Converting dataIRCC/file-10036.txt\n",
            "02/26/2021 23:28:30 - INFO - haystack.preprocessor.utils -   Converting dataIRCC/file-10525.txt\n",
            "02/26/2021 23:28:30 - INFO - haystack.preprocessor.utils -   Converting dataIRCC/file-10288.txt\n",
            "02/26/2021 23:28:30 - INFO - haystack.preprocessor.utils -   Converting dataIRCC/file-10483.txt\n",
            "02/26/2021 23:28:30 - INFO - haystack.preprocessor.utils -   Converting dataIRCC/file-10184.txt\n",
            "02/26/2021 23:28:30 - INFO - haystack.preprocessor.utils -   Converting dataIRCC/file-10437.txt\n",
            "02/26/2021 23:28:30 - INFO - haystack.preprocessor.utils -   Converting dataIRCC/file-10059.txt\n",
            "02/26/2021 23:28:30 - INFO - haystack.preprocessor.utils -   Converting dataIRCC/file-10263.txt\n",
            "02/26/2021 23:28:30 - INFO - haystack.preprocessor.utils -   Converting dataIRCC/file-10594.txt\n",
            "02/26/2021 23:28:30 - INFO - haystack.preprocessor.utils -   Converting dataIRCC/file-10556.txt\n",
            "02/26/2021 23:28:30 - INFO - haystack.preprocessor.utils -   Converting dataIRCC/file-10375.txt\n",
            "02/26/2021 23:28:30 - INFO - haystack.preprocessor.utils -   Converting dataIRCC/file-10443.txt\n",
            "02/26/2021 23:28:30 - INFO - haystack.preprocessor.utils -   Converting dataIRCC/file-10302.txt\n",
            "02/26/2021 23:28:30 - INFO - haystack.preprocessor.utils -   Converting dataIRCC/file-10317.txt\n",
            "02/26/2021 23:28:30 - INFO - haystack.preprocessor.utils -   Converting dataIRCC/file-10170.txt\n",
            "02/26/2021 23:28:30 - INFO - haystack.preprocessor.utils -   Converting dataIRCC/file-10042.txt\n",
            "02/26/2021 23:28:30 - INFO - haystack.preprocessor.utils -   Converting dataIRCC/file-10409.txt\n",
            "02/26/2021 23:28:30 - INFO - haystack.preprocessor.utils -   Converting dataIRCC/file-10334.txt\n",
            "02/26/2021 23:28:30 - INFO - haystack.preprocessor.utils -   Converting dataIRCC/file-10216.txt\n",
            "02/26/2021 23:28:30 - INFO - haystack.preprocessor.utils -   Converting dataIRCC/file-10442.txt\n",
            "02/26/2021 23:28:30 - INFO - haystack.preprocessor.utils -   Converting dataIRCC/file-10009.txt\n",
            "02/26/2021 23:28:30 - INFO - haystack.preprocessor.utils -   Converting dataIRCC/file-10055.txt\n",
            "02/26/2021 23:28:30 - INFO - haystack.preprocessor.utils -   Converting dataIRCC/file-10541.txt\n",
            "02/26/2021 23:28:30 - INFO - haystack.preprocessor.utils -   Converting dataIRCC/file-10205.txt\n",
            "02/26/2021 23:28:30 - INFO - haystack.preprocessor.utils -   Converting dataIRCC/file-10575.txt\n",
            "02/26/2021 23:28:30 - INFO - haystack.preprocessor.utils -   Converting dataIRCC/file-10035.txt\n",
            "02/26/2021 23:28:30 - INFO - haystack.preprocessor.utils -   Converting dataIRCC/file-10441.txt\n",
            "02/26/2021 23:28:30 - INFO - haystack.preprocessor.utils -   Converting dataIRCC/file-10429.txt\n",
            "02/26/2021 23:28:30 - INFO - haystack.preprocessor.utils -   Converting dataIRCC/file-10038.txt\n",
            "02/26/2021 23:28:30 - INFO - haystack.preprocessor.utils -   Converting dataIRCC/file-10180.txt\n",
            "02/26/2021 23:28:30 - INFO - haystack.preprocessor.utils -   Converting dataIRCC/file-10199.txt\n",
            "02/26/2021 23:28:30 - INFO - haystack.preprocessor.utils -   Converting dataIRCC/file-10569.txt\n",
            "02/26/2021 23:28:30 - INFO - haystack.preprocessor.utils -   Converting dataIRCC/file-10145.txt\n",
            "02/26/2021 23:28:30 - INFO - haystack.preprocessor.utils -   Converting dataIRCC/file-10037.txt\n",
            "02/26/2021 23:28:30 - INFO - haystack.preprocessor.utils -   Converting dataIRCC/file-10494.txt\n",
            "02/26/2021 23:28:30 - INFO - haystack.preprocessor.utils -   Converting dataIRCC/file-10626.txt\n",
            "02/26/2021 23:28:30 - INFO - haystack.preprocessor.utils -   Converting dataIRCC/file-10105.txt\n",
            "02/26/2021 23:28:30 - INFO - haystack.preprocessor.utils -   Converting dataIRCC/file-10228.txt\n",
            "02/26/2021 23:28:30 - INFO - haystack.preprocessor.utils -   Converting dataIRCC/file-10139.txt\n",
            "02/26/2021 23:28:30 - INFO - haystack.preprocessor.utils -   Converting dataIRCC/file-10492.txt\n",
            "02/26/2021 23:28:30 - INFO - haystack.preprocessor.utils -   Converting dataIRCC/file-10397.txt\n",
            "02/26/2021 23:28:30 - INFO - haystack.preprocessor.utils -   Converting dataIRCC/file-10320.txt\n",
            "02/26/2021 23:28:30 - INFO - haystack.preprocessor.utils -   Converting dataIRCC/file-10137.txt\n",
            "02/26/2021 23:28:30 - INFO - haystack.preprocessor.utils -   Converting dataIRCC/file-10226.txt\n",
            "02/26/2021 23:28:30 - INFO - haystack.preprocessor.utils -   Converting dataIRCC/file-10270.txt\n",
            "02/26/2021 23:28:30 - INFO - haystack.preprocessor.utils -   Converting dataIRCC/file-10587.txt\n",
            "02/26/2021 23:28:30 - INFO - haystack.preprocessor.utils -   Converting dataIRCC/file-10166.txt\n",
            "02/26/2021 23:28:30 - INFO - haystack.preprocessor.utils -   Converting dataIRCC/file-10273.txt\n",
            "02/26/2021 23:28:30 - INFO - haystack.preprocessor.utils -   Converting dataIRCC/file-10533.txt\n",
            "02/26/2021 23:28:30 - INFO - haystack.preprocessor.utils -   Converting dataIRCC/file-10524.txt\n",
            "02/26/2021 23:28:30 - INFO - haystack.preprocessor.utils -   Converting dataIRCC/file-10598.txt\n",
            "02/26/2021 23:28:30 - INFO - haystack.preprocessor.utils -   Converting dataIRCC/file-10361.txt\n",
            "02/26/2021 23:28:31 - INFO - haystack.preprocessor.utils -   Converting dataIRCC/file-10171.txt\n",
            "02/26/2021 23:28:31 - INFO - haystack.preprocessor.utils -   Converting dataIRCC/file-10486.txt\n",
            "02/26/2021 23:28:31 - INFO - haystack.preprocessor.utils -   Converting dataIRCC/file-10094.txt\n",
            "02/26/2021 23:28:31 - INFO - haystack.preprocessor.utils -   Converting dataIRCC/file-10019.txt\n",
            "02/26/2021 23:28:31 - INFO - haystack.preprocessor.utils -   Converting dataIRCC/file-10107.txt\n",
            "02/26/2021 23:28:31 - INFO - haystack.preprocessor.utils -   Converting dataIRCC/file-10101.txt\n",
            "02/26/2021 23:28:31 - INFO - haystack.preprocessor.utils -   Converting dataIRCC/file-10417.txt\n",
            "02/26/2021 23:28:31 - INFO - haystack.preprocessor.utils -   Converting dataIRCC/file-10197.txt\n",
            "02/26/2021 23:28:31 - INFO - haystack.preprocessor.utils -   Converting dataIRCC/file-10539.txt\n",
            "02/26/2021 23:28:31 - INFO - haystack.preprocessor.utils -   Converting dataIRCC/file-10193.txt\n",
            "02/26/2021 23:28:31 - INFO - haystack.preprocessor.utils -   Converting dataIRCC/file-10031.txt\n",
            "02/26/2021 23:28:31 - INFO - haystack.preprocessor.utils -   Converting dataIRCC/file-10353.txt\n",
            "02/26/2021 23:28:31 - INFO - haystack.preprocessor.utils -   Converting dataIRCC/file-10241.txt\n",
            "02/26/2021 23:28:31 - INFO - haystack.preprocessor.utils -   Converting dataIRCC/file-10253.txt\n",
            "02/26/2021 23:28:31 - INFO - haystack.preprocessor.utils -   Converting dataIRCC/file-10344.txt\n",
            "02/26/2021 23:28:31 - INFO - haystack.preprocessor.utils -   Converting dataIRCC/file-10027.txt\n",
            "02/26/2021 23:28:31 - INFO - haystack.preprocessor.utils -   Converting dataIRCC/file-10167.txt\n",
            "02/26/2021 23:28:31 - INFO - haystack.preprocessor.utils -   Converting dataIRCC/file-10357.txt\n",
            "02/26/2021 23:28:31 - INFO - haystack.preprocessor.utils -   Converting dataIRCC/file-10314.txt\n",
            "02/26/2021 23:28:31 - INFO - haystack.preprocessor.utils -   Converting dataIRCC/file-10044.txt\n",
            "02/26/2021 23:28:31 - INFO - haystack.preprocessor.utils -   Converting dataIRCC/file-10304.txt\n",
            "02/26/2021 23:28:31 - INFO - haystack.preprocessor.utils -   Converting dataIRCC/file-10117.txt\n",
            "02/26/2021 23:28:31 - INFO - haystack.preprocessor.utils -   Converting dataIRCC/file-10079.txt\n",
            "02/26/2021 23:28:31 - INFO - haystack.preprocessor.utils -   Converting dataIRCC/file-10045.txt\n",
            "02/26/2021 23:28:31 - INFO - haystack.preprocessor.utils -   Converting dataIRCC/file-10183.txt\n",
            "02/26/2021 23:28:31 - INFO - haystack.preprocessor.utils -   Converting dataIRCC/file-10165.txt\n",
            "02/26/2021 23:28:31 - INFO - haystack.preprocessor.utils -   Converting dataIRCC/file-10377.txt\n",
            "02/26/2021 23:28:31 - INFO - haystack.preprocessor.utils -   Converting dataIRCC/file-10436.txt\n",
            "02/26/2021 23:28:31 - INFO - haystack.preprocessor.utils -   Converting dataIRCC/file-10331.txt\n",
            "02/26/2021 23:28:31 - INFO - haystack.preprocessor.utils -   Converting dataIRCC/file-10578.txt\n",
            "02/26/2021 23:28:31 - INFO - haystack.preprocessor.utils -   Converting dataIRCC/file-10404.txt\n",
            "02/26/2021 23:28:31 - INFO - haystack.preprocessor.utils -   Converting dataIRCC/file-10543.txt\n",
            "02/26/2021 23:28:31 - INFO - haystack.preprocessor.utils -   Converting dataIRCC/file-10307.txt\n",
            "02/26/2021 23:28:31 - INFO - haystack.preprocessor.utils -   Converting dataIRCC/file-10305.txt\n",
            "02/26/2021 23:28:31 - INFO - haystack.preprocessor.utils -   Converting dataIRCC/file-10491.txt\n",
            "02/26/2021 23:28:31 - INFO - haystack.preprocessor.utils -   Converting dataIRCC/file-10450.txt\n",
            "02/26/2021 23:28:31 - INFO - haystack.preprocessor.utils -   Converting dataIRCC/file-10176.txt\n",
            "02/26/2021 23:28:31 - INFO - haystack.preprocessor.utils -   Converting dataIRCC/file-10376.txt\n",
            "02/26/2021 23:28:31 - INFO - haystack.preprocessor.utils -   Converting dataIRCC/file-10223.txt\n",
            "02/26/2021 23:28:31 - INFO - haystack.preprocessor.utils -   Converting dataIRCC/file-10002.txt\n",
            "02/26/2021 23:28:31 - INFO - haystack.preprocessor.utils -   Converting dataIRCC/file-10316.txt\n",
            "02/26/2021 23:28:31 - INFO - haystack.preprocessor.utils -   Converting dataIRCC/file-10179.txt\n",
            "02/26/2021 23:28:31 - INFO - haystack.preprocessor.utils -   Converting dataIRCC/file-10162.txt\n",
            "02/26/2021 23:28:31 - INFO - haystack.preprocessor.utils -   Converting dataIRCC/file-10479.txt\n",
            "02/26/2021 23:28:31 - INFO - haystack.preprocessor.utils -   Converting dataIRCC/file-10604.txt\n",
            "02/26/2021 23:28:31 - INFO - haystack.preprocessor.utils -   Converting dataIRCC/file-10581.txt\n",
            "02/26/2021 23:28:31 - INFO - haystack.preprocessor.utils -   Converting dataIRCC/file-10355.txt\n",
            "02/26/2021 23:28:31 - INFO - haystack.preprocessor.utils -   Converting dataIRCC/file-10276.txt\n",
            "02/26/2021 23:28:31 - INFO - haystack.preprocessor.utils -   Converting dataIRCC/file-10026.txt\n",
            "02/26/2021 23:28:31 - INFO - haystack.preprocessor.utils -   Converting dataIRCC/file-10583.txt\n",
            "02/26/2021 23:28:31 - INFO - haystack.preprocessor.utils -   Converting dataIRCC/file-10077.txt\n",
            "02/26/2021 23:28:31 - INFO - haystack.preprocessor.utils -   Converting dataIRCC/file-10564.txt\n",
            "02/26/2021 23:28:31 - INFO - haystack.preprocessor.utils -   Converting dataIRCC/file-10343.txt\n",
            "02/26/2021 23:28:31 - INFO - haystack.preprocessor.utils -   Converting dataIRCC/file-10453.txt\n",
            "02/26/2021 23:28:31 - INFO - haystack.preprocessor.utils -   Converting dataIRCC/file-10120.txt\n",
            "02/26/2021 23:28:31 - INFO - haystack.preprocessor.utils -   Converting dataIRCC/file-10413.txt\n",
            "02/26/2021 23:28:31 - INFO - haystack.preprocessor.utils -   Converting dataIRCC/file-10123.txt\n",
            "02/26/2021 23:28:31 - INFO - haystack.preprocessor.utils -   Converting dataIRCC/file-10618.txt\n",
            "02/26/2021 23:28:31 - INFO - haystack.preprocessor.utils -   Converting dataIRCC/file-10308.txt\n",
            "02/26/2021 23:28:31 - INFO - haystack.preprocessor.utils -   Converting dataIRCC/file-10451.txt\n",
            "02/26/2021 23:28:31 - INFO - haystack.preprocessor.utils -   Converting dataIRCC/file-10212.txt\n",
            "02/26/2021 23:28:31 - INFO - haystack.preprocessor.utils -   Converting dataIRCC/file-10023.txt\n",
            "02/26/2021 23:28:31 - INFO - haystack.preprocessor.utils -   Converting dataIRCC/file-10621.txt\n",
            "02/26/2021 23:28:31 - INFO - haystack.preprocessor.utils -   Converting dataIRCC/file-10294.txt\n",
            "02/26/2021 23:28:31 - INFO - haystack.preprocessor.utils -   Converting dataIRCC/file-10096.txt\n",
            "02/26/2021 23:28:31 - INFO - haystack.preprocessor.utils -   Converting dataIRCC/file-10340.txt\n",
            "02/26/2021 23:28:31 - INFO - haystack.preprocessor.utils -   Converting dataIRCC/file-10396.txt\n",
            "02/26/2021 23:28:31 - INFO - haystack.preprocessor.utils -   Converting dataIRCC/file-10207.txt\n",
            "02/26/2021 23:28:31 - INFO - haystack.preprocessor.utils -   Converting dataIRCC/file-10360.txt\n",
            "02/26/2021 23:28:31 - INFO - haystack.preprocessor.utils -   Converting dataIRCC/file-10051.txt\n",
            "02/26/2021 23:28:31 - INFO - haystack.preprocessor.utils -   Converting dataIRCC/file-10574.txt\n",
            "02/26/2021 23:28:31 - INFO - haystack.preprocessor.utils -   Converting dataIRCC/file-10041.txt\n",
            "02/26/2021 23:28:31 - INFO - haystack.preprocessor.utils -   Converting dataIRCC/file-10481.txt\n",
            "02/26/2021 23:28:31 - INFO - haystack.preprocessor.utils -   Converting dataIRCC/file-10052.txt\n",
            "02/26/2021 23:28:31 - INFO - haystack.preprocessor.utils -   Converting dataIRCC/file-10507.txt\n",
            "02/26/2021 23:28:31 - INFO - haystack.preprocessor.utils -   Converting dataIRCC/file-10609.txt\n",
            "02/26/2021 23:28:31 - INFO - haystack.preprocessor.utils -   Converting dataIRCC/file-10381.txt\n",
            "02/26/2021 23:28:31 - INFO - haystack.preprocessor.utils -   Converting dataIRCC/file-10531.txt\n",
            "02/26/2021 23:28:31 - INFO - haystack.preprocessor.utils -   Converting dataIRCC/file-10328.txt\n",
            "02/26/2021 23:28:31 - INFO - haystack.preprocessor.utils -   Converting dataIRCC/file-10435.txt\n",
            "02/26/2021 23:28:31 - INFO - haystack.preprocessor.utils -   Converting dataIRCC/file-10247.txt\n",
            "02/26/2021 23:28:31 - INFO - haystack.preprocessor.utils -   Converting dataIRCC/file-10040.txt\n",
            "02/26/2021 23:28:31 - INFO - haystack.preprocessor.utils -   Converting dataIRCC/file-10108.txt\n",
            "02/26/2021 23:28:31 - INFO - haystack.preprocessor.utils -   Converting dataIRCC/file-10300.txt\n",
            "02/26/2021 23:28:31 - INFO - haystack.preprocessor.utils -   Converting dataIRCC/file-10245.txt\n",
            "02/26/2021 23:28:31 - INFO - haystack.preprocessor.utils -   Converting dataIRCC/file-10301.txt\n",
            "02/26/2021 23:28:31 - INFO - haystack.preprocessor.utils -   Converting dataIRCC/file-10330.txt\n",
            "02/26/2021 23:28:31 - INFO - haystack.preprocessor.utils -   Converting dataIRCC/file-10097.txt\n",
            "02/26/2021 23:28:31 - INFO - haystack.preprocessor.utils -   Converting dataIRCC/file-10378.txt\n",
            "02/26/2021 23:28:31 - INFO - haystack.preprocessor.utils -   Converting dataIRCC/file-10116.txt\n",
            "02/26/2021 23:28:31 - INFO - haystack.preprocessor.utils -   Converting dataIRCC/file-10190.txt\n",
            "02/26/2021 23:28:31 - INFO - haystack.preprocessor.utils -   Converting dataIRCC/file-10346.txt\n",
            "02/26/2021 23:28:31 - INFO - haystack.preprocessor.utils -   Converting dataIRCC/file-10106.txt\n",
            "02/26/2021 23:28:31 - INFO - haystack.preprocessor.utils -   Converting dataIRCC/file-10157.txt\n",
            "02/26/2021 23:28:31 - INFO - haystack.preprocessor.utils -   Converting dataIRCC/file-10028.txt\n",
            "02/26/2021 23:28:31 - INFO - haystack.preprocessor.utils -   Converting dataIRCC/file-10147.txt\n",
            "02/26/2021 23:28:31 - INFO - haystack.preprocessor.utils -   Converting dataIRCC/file-10625.txt\n",
            "02/26/2021 23:28:31 - INFO - haystack.preprocessor.utils -   Converting dataIRCC/file-10236.txt\n",
            "02/26/2021 23:28:32 - INFO - haystack.preprocessor.utils -   Converting dataIRCC/file-10210.txt\n",
            "02/26/2021 23:28:32 - INFO - haystack.preprocessor.utils -   Converting dataIRCC/file-10616.txt\n",
            "02/26/2021 23:28:32 - INFO - haystack.preprocessor.utils -   Converting dataIRCC/file-10546.txt\n",
            "02/26/2021 23:28:32 - INFO - haystack.preprocessor.utils -   Converting dataIRCC/file-10178.txt\n",
            "02/26/2021 23:28:32 - INFO - haystack.preprocessor.utils -   Converting dataIRCC/file-10303.txt\n",
            "02/26/2021 23:28:32 - INFO - haystack.preprocessor.utils -   Converting dataIRCC/file-10380.txt\n",
            "02/26/2021 23:28:32 - INFO - haystack.preprocessor.utils -   Converting dataIRCC/file-10152.txt\n",
            "02/26/2021 23:28:32 - INFO - haystack.preprocessor.utils -   Converting dataIRCC/file-10257.txt\n",
            "02/26/2021 23:28:32 - INFO - haystack.preprocessor.utils -   Converting dataIRCC/file-10500.txt\n",
            "02/26/2021 23:28:32 - INFO - haystack.preprocessor.utils -   Converting dataIRCC/file-10434.txt\n",
            "02/26/2021 23:28:32 - INFO - haystack.preprocessor.utils -   Converting dataIRCC/file-10372.txt\n",
            "02/26/2021 23:28:32 - INFO - haystack.preprocessor.utils -   Converting dataIRCC/file-10281.txt\n",
            "02/26/2021 23:28:32 - INFO - haystack.preprocessor.utils -   Converting dataIRCC/file-10192.txt\n",
            "02/26/2021 23:28:32 - INFO - haystack.preprocessor.utils -   Converting dataIRCC/file-10111.txt\n",
            "02/26/2021 23:28:32 - INFO - haystack.preprocessor.utils -   Converting dataIRCC/file-10385.txt\n",
            "02/26/2021 23:28:32 - INFO - haystack.preprocessor.utils -   Converting dataIRCC/file-10538.txt\n",
            "02/26/2021 23:28:32 - INFO - haystack.preprocessor.utils -   Converting dataIRCC/file-10188.txt\n",
            "02/26/2021 23:28:32 - INFO - haystack.preprocessor.utils -   Converting dataIRCC/file-10142.txt\n",
            "02/26/2021 23:28:32 - INFO - haystack.preprocessor.utils -   Converting dataIRCC/file-10278.txt\n",
            "02/26/2021 23:28:32 - INFO - haystack.preprocessor.utils -   Converting dataIRCC/file-10056.txt\n",
            "02/26/2021 23:28:32 - INFO - haystack.preprocessor.utils -   Converting dataIRCC/file-10362.txt\n",
            "02/26/2021 23:28:32 - INFO - haystack.preprocessor.utils -   Converting dataIRCC/file-10351.txt\n",
            "02/26/2021 23:28:32 - INFO - haystack.preprocessor.utils -   Converting dataIRCC/file-10448.txt\n",
            "02/26/2021 23:28:32 - INFO - haystack.preprocessor.utils -   Converting dataIRCC/file-10465.txt\n",
            "02/26/2021 23:28:32 - INFO - haystack.preprocessor.utils -   Converting dataIRCC/file-10560.txt\n",
            "02/26/2021 23:28:32 - INFO - haystack.preprocessor.utils -   Converting dataIRCC/file-10156.txt\n",
            "02/26/2021 23:28:32 - INFO - haystack.preprocessor.utils -   Converting dataIRCC/file-10342.txt\n",
            "02/26/2021 23:28:32 - INFO - haystack.preprocessor.utils -   Converting dataIRCC/file-10087.txt\n",
            "02/26/2021 23:28:32 - INFO - haystack.preprocessor.utils -   Converting dataIRCC/file-10280.txt\n",
            "02/26/2021 23:28:32 - INFO - haystack.preprocessor.utils -   Converting dataIRCC/file-10562.txt\n",
            "02/26/2021 23:28:32 - INFO - haystack.preprocessor.utils -   Converting dataIRCC/file-10155.txt\n",
            "02/26/2021 23:28:32 - INFO - haystack.preprocessor.utils -   Converting dataIRCC/file-10187.txt\n",
            "02/26/2021 23:28:32 - INFO - haystack.preprocessor.utils -   Converting dataIRCC/file-10318.txt\n",
            "02/26/2021 23:28:32 - INFO - haystack.preprocessor.utils -   Converting dataIRCC/file-10279.txt\n",
            "02/26/2021 23:28:32 - INFO - haystack.preprocessor.utils -   Converting dataIRCC/file-10293.txt\n",
            "02/26/2021 23:28:32 - INFO - haystack.preprocessor.utils -   Converting dataIRCC/file-10390.txt\n",
            "02/26/2021 23:28:32 - INFO - haystack.preprocessor.utils -   Converting dataIRCC/file-10222.txt\n",
            "02/26/2021 23:28:32 - INFO - haystack.preprocessor.utils -   Converting dataIRCC/file-10149.txt\n",
            "02/26/2021 23:28:32 - INFO - haystack.preprocessor.utils -   Converting dataIRCC/file-10174.txt\n",
            "02/26/2021 23:28:32 - INFO - haystack.preprocessor.utils -   Converting dataIRCC/file-10265.txt\n",
            "02/26/2021 23:28:32 - INFO - haystack.preprocessor.utils -   Converting dataIRCC/file-10082.txt\n",
            "02/26/2021 23:28:32 - INFO - haystack.preprocessor.utils -   Converting dataIRCC/file-10069.txt\n",
            "02/26/2021 23:28:32 - INFO - haystack.preprocessor.utils -   Converting dataIRCC/file-10608.txt\n",
            "02/26/2021 23:28:32 - INFO - haystack.preprocessor.utils -   Converting dataIRCC/file-10586.txt\n",
            "02/26/2021 23:28:32 - INFO - haystack.preprocessor.utils -   Converting dataIRCC/file-10398.txt\n",
            "02/26/2021 23:28:32 - INFO - haystack.preprocessor.utils -   Converting dataIRCC/file-10034.txt\n",
            "02/26/2021 23:28:32 - INFO - haystack.preprocessor.utils -   Converting dataIRCC/file-10075.txt\n",
            "02/26/2021 23:28:32 - INFO - haystack.preprocessor.utils -   Converting dataIRCC/file-10565.txt\n",
            "02/26/2021 23:28:32 - INFO - haystack.preprocessor.utils -   Converting dataIRCC/file-10081.txt\n",
            "02/26/2021 23:28:32 - INFO - haystack.preprocessor.utils -   Converting dataIRCC/file-10050.txt\n",
            "02/26/2021 23:28:32 - INFO - haystack.preprocessor.utils -   Converting dataIRCC/file-10394.txt\n",
            "02/26/2021 23:28:32 - INFO - haystack.preprocessor.utils -   Converting dataIRCC/file-10506.txt\n",
            "02/26/2021 23:28:32 - INFO - haystack.preprocessor.utils -   Converting dataIRCC/file-10173.txt\n",
            "02/26/2021 23:28:32 - INFO - haystack.preprocessor.utils -   Converting dataIRCC/file-10103.txt\n",
            "02/26/2021 23:28:32 - INFO - haystack.preprocessor.utils -   Converting dataIRCC/file-10080.txt\n",
            "02/26/2021 23:28:32 - INFO - haystack.preprocessor.utils -   Converting dataIRCC/file-10511.txt\n",
            "02/26/2021 23:28:32 - INFO - haystack.preprocessor.utils -   Converting dataIRCC/file-10238.txt\n",
            "02/26/2021 23:28:32 - INFO - haystack.preprocessor.utils -   Converting dataIRCC/file-10622.txt\n",
            "02/26/2021 23:28:32 - INFO - haystack.preprocessor.utils -   Converting dataIRCC/file-10022.txt\n",
            "02/26/2021 23:28:32 - INFO - haystack.preprocessor.utils -   Converting dataIRCC/file-10235.txt\n",
            "02/26/2021 23:28:32 - INFO - haystack.preprocessor.utils -   Converting dataIRCC/file-10003.txt\n",
            "02/26/2021 23:28:32 - INFO - haystack.preprocessor.utils -   Converting dataIRCC/file-10285.txt\n",
            "02/26/2021 23:28:32 - INFO - haystack.preprocessor.utils -   Converting dataIRCC/file-10181.txt\n",
            "02/26/2021 23:28:32 - INFO - haystack.preprocessor.utils -   Converting dataIRCC/file-10478.txt\n",
            "02/26/2021 23:28:32 - INFO - haystack.preprocessor.utils -   Converting dataIRCC/file-10251.txt\n",
            "02/26/2021 23:28:32 - INFO - haystack.preprocessor.utils -   Converting dataIRCC/file-10368.txt\n",
            "02/26/2021 23:28:32 - INFO - haystack.preprocessor.utils -   Converting dataIRCC/file-10255.txt\n",
            "02/26/2021 23:28:32 - INFO - haystack.preprocessor.utils -   Converting dataIRCC/file-10132.txt\n",
            "02/26/2021 23:28:32 - INFO - haystack.preprocessor.utils -   Converting dataIRCC/file-10469.txt\n",
            "02/26/2021 23:28:32 - INFO - haystack.preprocessor.utils -   Converting dataIRCC/file-10455.txt\n",
            "02/26/2021 23:28:32 - INFO - haystack.preprocessor.utils -   Converting dataIRCC/file-10125.txt\n",
            "02/26/2021 23:28:32 - INFO - haystack.preprocessor.utils -   Converting dataIRCC/file-10518.txt\n",
            "02/26/2021 23:28:32 - INFO - haystack.preprocessor.utils -   Converting dataIRCC/file-10312.txt\n",
            "02/26/2021 23:28:32 - INFO - haystack.preprocessor.utils -   Converting dataIRCC/file-10411.txt\n",
            "02/26/2021 23:28:32 - INFO - haystack.preprocessor.utils -   Converting dataIRCC/file-10592.txt\n",
            "02/26/2021 23:28:32 - INFO - haystack.preprocessor.utils -   Converting dataIRCC/file-10227.txt\n",
            "02/26/2021 23:28:32 - INFO - haystack.preprocessor.utils -   Converting dataIRCC/file-10466.txt\n",
            "02/26/2021 23:28:32 - INFO - haystack.preprocessor.utils -   Converting dataIRCC/file-10133.txt\n",
            "02/26/2021 23:28:32 - INFO - haystack.preprocessor.utils -   Converting dataIRCC/file-10323.txt\n",
            "02/26/2021 23:28:32 - INFO - haystack.preprocessor.utils -   Converting dataIRCC/file-10601.txt\n",
            "02/26/2021 23:28:32 - INFO - haystack.preprocessor.utils -   Converting dataIRCC/file-10412.txt\n",
            "02/26/2021 23:28:32 - INFO - haystack.preprocessor.utils -   Converting dataIRCC/file-10053.txt\n",
            "02/26/2021 23:28:32 - INFO - haystack.preprocessor.utils -   Converting dataIRCC/file-10485.txt\n",
            "02/26/2021 23:28:32 - INFO - haystack.preprocessor.utils -   Converting dataIRCC/file-10487.txt\n",
            "02/26/2021 23:28:32 - INFO - haystack.preprocessor.utils -   Converting dataIRCC/file-10113.txt\n",
            "02/26/2021 23:28:32 - INFO - haystack.preprocessor.utils -   Converting dataIRCC/file-10504.txt\n",
            "02/26/2021 23:28:32 - INFO - haystack.preprocessor.utils -   Converting dataIRCC/file-10495.txt\n",
            "02/26/2021 23:28:32 - INFO - haystack.preprocessor.utils -   Converting dataIRCC/file-10584.txt\n",
            "02/26/2021 23:28:32 - INFO - haystack.preprocessor.utils -   Converting dataIRCC/file-10016.txt\n",
            "02/26/2021 23:28:32 - INFO - haystack.preprocessor.utils -   Converting dataIRCC/file-10093.txt\n",
            "02/26/2021 23:28:32 - INFO - haystack.preprocessor.utils -   Converting dataIRCC/file-10460.txt\n",
            "02/26/2021 23:28:32 - INFO - haystack.preprocessor.utils -   Converting dataIRCC/file-10335.txt\n",
            "02/26/2021 23:28:32 - INFO - haystack.preprocessor.utils -   Converting dataIRCC/file-10277.txt\n",
            "02/26/2021 23:28:32 - INFO - haystack.preprocessor.utils -   Converting dataIRCC/file-10356.txt\n",
            "02/26/2021 23:28:32 - INFO - haystack.preprocessor.utils -   Converting dataIRCC/file-10006.txt\n",
            "02/26/2021 23:28:32 - INFO - haystack.preprocessor.utils -   Converting dataIRCC/file-10401.txt\n",
            "02/26/2021 23:28:33 - INFO - haystack.preprocessor.utils -   Converting dataIRCC/file-10246.txt\n",
            "02/26/2021 23:28:33 - INFO - haystack.preprocessor.utils -   Converting dataIRCC/file-10387.txt\n",
            "02/26/2021 23:28:33 - INFO - haystack.preprocessor.utils -   Converting dataIRCC/file-10146.txt\n",
            "02/26/2021 23:28:33 - INFO - haystack.preprocessor.utils -   Converting dataIRCC/file-10599.txt\n",
            "02/26/2021 23:28:33 - INFO - haystack.preprocessor.utils -   Converting dataIRCC/file-10399.txt\n",
            "02/26/2021 23:28:33 - INFO - haystack.preprocessor.utils -   Converting dataIRCC/file-10240.txt\n",
            "02/26/2021 23:28:33 - INFO - haystack.preprocessor.utils -   Converting dataIRCC/file-10338.txt\n",
            "02/26/2021 23:28:33 - INFO - haystack.preprocessor.utils -   Converting dataIRCC/file-10602.txt\n",
            "02/26/2021 23:28:33 - INFO - haystack.preprocessor.utils -   Converting dataIRCC/file-10310.txt\n",
            "02/26/2021 23:28:33 - INFO - haystack.preprocessor.utils -   Converting dataIRCC/file-10456.txt\n",
            "02/26/2021 23:28:33 - INFO - haystack.preprocessor.utils -   Converting dataIRCC/file-10527.txt\n",
            "02/26/2021 23:28:33 - INFO - haystack.preprocessor.utils -   Converting dataIRCC/file-10593.txt\n",
            "02/26/2021 23:28:33 - INFO - haystack.preprocessor.utils -   Converting dataIRCC/file-10536.txt\n",
            "02/26/2021 23:28:33 - INFO - haystack.preprocessor.utils -   Converting dataIRCC/file-10532.txt\n",
            "02/26/2021 23:28:33 - INFO - haystack.preprocessor.utils -   Converting dataIRCC/file-10274.txt\n",
            "02/26/2021 23:28:33 - INFO - haystack.preprocessor.utils -   Converting dataIRCC/file-10072.txt\n",
            "02/26/2021 23:28:33 - INFO - haystack.preprocessor.utils -   Converting dataIRCC/file-10008.txt\n",
            "02/26/2021 23:28:33 - INFO - haystack.preprocessor.utils -   Converting dataIRCC/file-10286.txt\n",
            "02/26/2021 23:28:33 - INFO - haystack.preprocessor.utils -   Converting dataIRCC/file-10062.txt\n",
            "02/26/2021 23:28:33 - INFO - haystack.preprocessor.utils -   Converting dataIRCC/file-10186.txt\n",
            "02/26/2021 23:28:33 - INFO - haystack.preprocessor.utils -   Converting dataIRCC/file-10159.txt\n",
            "02/26/2021 23:28:33 - INFO - haystack.preprocessor.utils -   Converting dataIRCC/file-10049.txt\n",
            "02/26/2021 23:28:33 - INFO - haystack.preprocessor.utils -   Converting dataIRCC/file-10266.txt\n",
            "02/26/2021 23:28:33 - INFO - haystack.preprocessor.utils -   Converting dataIRCC/file-10501.txt\n",
            "02/26/2021 23:28:33 - INFO - haystack.preprocessor.utils -   Converting dataIRCC/file-10220.txt\n",
            "02/26/2021 23:28:33 - INFO - haystack.preprocessor.utils -   Converting dataIRCC/file-10148.txt\n",
            "02/26/2021 23:28:33 - INFO - haystack.preprocessor.utils -   Converting dataIRCC/file-10089.txt\n",
            "02/26/2021 23:28:33 - INFO - haystack.preprocessor.utils -   Converting dataIRCC/file-10083.txt\n",
            "02/26/2021 23:28:33 - INFO - haystack.preprocessor.utils -   Converting dataIRCC/file-10254.txt\n",
            "02/26/2021 23:28:33 - INFO - haystack.preprocessor.utils -   Converting dataIRCC/file-10154.txt\n",
            "02/26/2021 23:28:33 - INFO - haystack.preprocessor.utils -   Converting dataIRCC/file-10551.txt\n",
            "02/26/2021 23:28:33 - INFO - haystack.preprocessor.utils -   Converting dataIRCC/file-10550.txt\n",
            "02/26/2021 23:28:33 - INFO - haystack.preprocessor.utils -   Converting dataIRCC/file-10406.txt\n",
            "02/26/2021 23:28:33 - INFO - haystack.preprocessor.utils -   Converting dataIRCC/file-10095.txt\n",
            "02/26/2021 23:28:33 - INFO - haystack.preprocessor.utils -   Converting dataIRCC/file-10503.txt\n",
            "02/26/2021 23:28:33 - INFO - haystack.preprocessor.utils -   Converting dataIRCC/file-10017.txt\n",
            "02/26/2021 23:28:33 - INFO - haystack.preprocessor.utils -   Converting dataIRCC/file-10033.txt\n",
            "02/26/2021 23:28:33 - INFO - haystack.preprocessor.utils -   Converting dataIRCC/file-10352.txt\n",
            "02/26/2021 23:28:33 - INFO - haystack.preprocessor.utils -   Converting dataIRCC/file-10229.txt\n",
            "02/26/2021 23:28:33 - INFO - haystack.preprocessor.utils -   Converting dataIRCC/file-10057.txt\n",
            "02/26/2021 23:28:33 - INFO - haystack.preprocessor.utils -   Converting dataIRCC/file-10470.txt\n",
            "02/26/2021 23:28:33 - INFO - haystack.preprocessor.utils -   Converting dataIRCC/file-10476.txt\n",
            "02/26/2021 23:28:33 - INFO - haystack.preprocessor.utils -   Converting dataIRCC/file-10595.txt\n",
            "02/26/2021 23:28:33 - INFO - haystack.preprocessor.utils -   Converting dataIRCC/file-10138.txt\n",
            "02/26/2021 23:28:33 - INFO - haystack.preprocessor.utils -   Converting dataIRCC/file-10589.txt\n",
            "02/26/2021 23:28:33 - INFO - haystack.preprocessor.utils -   Converting dataIRCC/file-10493.txt\n",
            "02/26/2021 23:28:33 - INFO - haystack.preprocessor.utils -   Converting dataIRCC/file-10462.txt\n",
            "02/26/2021 23:28:33 - INFO - haystack.preprocessor.utils -   Converting dataIRCC/file-10369.txt\n",
            "02/26/2021 23:28:33 - INFO - haystack.preprocessor.utils -   Converting dataIRCC/file-10347.txt\n",
            "02/26/2021 23:28:33 - INFO - haystack.preprocessor.utils -   Converting dataIRCC/file-10326.txt\n",
            "02/26/2021 23:28:33 - INFO - haystack.preprocessor.utils -   Converting dataIRCC/file-10067.txt\n",
            "02/26/2021 23:28:33 - INFO - haystack.preprocessor.utils -   Converting dataIRCC/file-10243.txt\n",
            "02/26/2021 23:28:33 - INFO - haystack.preprocessor.utils -   Converting dataIRCC/file-10242.txt\n",
            "02/26/2021 23:28:33 - INFO - haystack.preprocessor.utils -   Converting dataIRCC/file-10617.txt\n",
            "02/26/2021 23:28:33 - INFO - haystack.preprocessor.utils -   Converting dataIRCC/file-10021.txt\n",
            "02/26/2021 23:28:33 - INFO - haystack.preprocessor.utils -   Converting dataIRCC/file-10416.txt\n",
            "02/26/2021 23:28:33 - INFO - haystack.preprocessor.utils -   Converting dataIRCC/file-10452.txt\n",
            "02/26/2021 23:28:33 - INFO - haystack.preprocessor.utils -   Converting dataIRCC/file-10005.txt\n",
            "02/26/2021 23:28:33 - INFO - haystack.preprocessor.utils -   Converting dataIRCC/file-10520.txt\n",
            "02/26/2021 23:28:33 - INFO - haystack.preprocessor.utils -   Converting dataIRCC/file-10175.txt\n",
            "02/26/2021 23:28:33 - INFO - haystack.preprocessor.utils -   Converting dataIRCC/file-10514.txt\n",
            "02/26/2021 23:28:33 - INFO - haystack.preprocessor.utils -   Converting dataIRCC/file-10521.txt\n",
            "02/26/2021 23:28:33 - INFO - haystack.preprocessor.utils -   Converting dataIRCC/file-10471.txt\n",
            "02/26/2021 23:28:33 - INFO - haystack.preprocessor.utils -   Converting dataIRCC/file-10262.txt\n",
            "02/26/2021 23:28:33 - INFO - haystack.preprocessor.utils -   Converting dataIRCC/file-10284.txt\n",
            "02/26/2021 23:28:33 - INFO - haystack.preprocessor.utils -   Converting dataIRCC/file-10365.txt\n",
            "02/26/2021 23:28:33 - INFO - haystack.preprocessor.utils -   Converting dataIRCC/file-10349.txt\n",
            "02/26/2021 23:28:33 - INFO - haystack.preprocessor.utils -   Converting dataIRCC/file-10122.txt\n",
            "02/26/2021 23:28:33 - INFO - haystack.preprocessor.utils -   Converting dataIRCC/file-10268.txt\n",
            "02/26/2021 23:28:33 - INFO - haystack.preprocessor.utils -   Converting dataIRCC/file-10364.txt\n",
            "02/26/2021 23:28:33 - INFO - haystack.preprocessor.utils -   Converting dataIRCC/file-10201.txt\n",
            "02/26/2021 23:28:33 - INFO - haystack.preprocessor.utils -   Converting dataIRCC/file-10144.txt\n",
            "02/26/2021 23:28:33 - INFO - haystack.preprocessor.utils -   Converting dataIRCC/file-10333.txt\n",
            "02/26/2021 23:28:33 - INFO - haystack.preprocessor.utils -   Converting dataIRCC/file-10614.txt\n",
            "02/26/2021 23:28:33 - INFO - haystack.preprocessor.utils -   Converting dataIRCC/file-10313.txt\n",
            "02/26/2021 23:28:33 - INFO - haystack.preprocessor.utils -   Converting dataIRCC/file-10264.txt\n",
            "02/26/2021 23:28:33 - INFO - haystack.preprocessor.utils -   Converting dataIRCC/file-10568.txt\n",
            "02/26/2021 23:28:33 - INFO - haystack.preprocessor.utils -   Converting dataIRCC/file-10121.txt\n",
            "02/26/2021 23:28:33 - INFO - haystack.preprocessor.utils -   Converting dataIRCC/file-10271.txt\n",
            "02/26/2021 23:28:33 - INFO - haystack.preprocessor.utils -   Converting dataIRCC/file-10418.txt\n",
            "02/26/2021 23:28:33 - INFO - haystack.preprocessor.utils -   Converting dataIRCC/file-10225.txt\n",
            "02/26/2021 23:28:33 - INFO - haystack.preprocessor.utils -   Converting dataIRCC/file-10489.txt\n",
            "02/26/2021 23:28:33 - INFO - haystack.preprocessor.utils -   Converting dataIRCC/file-10161.txt\n",
            "02/26/2021 23:28:33 - INFO - haystack.preprocessor.utils -   Converting dataIRCC/file-10194.txt\n",
            "02/26/2021 23:28:33 - INFO - haystack.preprocessor.utils -   Converting dataIRCC/file-10134.txt\n",
            "02/26/2021 23:28:33 - INFO - haystack.preprocessor.utils -   Converting dataIRCC/file-10060.txt\n",
            "02/26/2021 23:28:33 - INFO - haystack.preprocessor.utils -   Converting dataIRCC/file-10553.txt\n",
            "02/26/2021 23:28:33 - INFO - haystack.preprocessor.utils -   Converting dataIRCC/file-10054.txt\n",
            "02/26/2021 23:28:33 - INFO - haystack.preprocessor.utils -   Converting dataIRCC/file-10131.txt\n",
            "02/26/2021 23:28:33 - INFO - haystack.preprocessor.utils -   Converting dataIRCC/file-10439.txt\n",
            "02/26/2021 23:28:33 - INFO - haystack.preprocessor.utils -   Converting dataIRCC/file-10231.txt\n",
            "02/26/2021 23:28:33 - INFO - haystack.preprocessor.utils -   Converting dataIRCC/file-10085.txt\n",
            "02/26/2021 23:28:33 - INFO - haystack.preprocessor.utils -   Converting dataIRCC/file-10213.txt\n",
            "02/26/2021 23:28:33 - INFO - haystack.preprocessor.utils -   Converting dataIRCC/file-10366.txt\n",
            "02/26/2021 23:28:33 - INFO - haystack.preprocessor.utils -   Converting dataIRCC/file-10367.txt\n",
            "02/26/2021 23:28:33 - INFO - haystack.preprocessor.utils -   Converting dataIRCC/file-10497.txt\n",
            "02/26/2021 23:28:33 - INFO - haystack.preprocessor.utils -   Converting dataIRCC/file-10389.txt\n",
            "02/26/2021 23:28:33 - INFO - haystack.preprocessor.utils -   Converting dataIRCC/file-10415.txt\n",
            "02/26/2021 23:28:33 - INFO - haystack.preprocessor.utils -   Converting dataIRCC/file-10219.txt\n",
            "02/26/2021 23:28:33 - INFO - haystack.preprocessor.utils -   Converting dataIRCC/file-10324.txt\n",
            "02/26/2021 23:28:33 - INFO - haystack.preprocessor.utils -   Converting dataIRCC/file-10007.txt\n",
            "02/26/2021 23:28:33 - INFO - haystack.preprocessor.utils -   Converting dataIRCC/file-10118.txt\n",
            "02/26/2021 23:28:33 - INFO - haystack.preprocessor.utils -   Converting dataIRCC/file-10424.txt\n",
            "02/26/2021 23:28:33 - INFO - haystack.preprocessor.utils -   Converting dataIRCC/file-10547.txt\n",
            "02/26/2021 23:28:33 - INFO - haystack.preprocessor.utils -   Converting dataIRCC/file-10297.txt\n",
            "02/26/2021 23:28:33 - INFO - haystack.preprocessor.utils -   Converting dataIRCC/file-10198.txt\n",
            "02/26/2021 23:28:33 - INFO - haystack.preprocessor.utils -   Converting dataIRCC/file-10024.txt\n",
            "02/26/2021 23:28:33 - INFO - haystack.preprocessor.utils -   Converting dataIRCC/file-10163.txt\n",
            "02/26/2021 23:28:33 - INFO - haystack.preprocessor.utils -   Converting dataIRCC/file-10384.txt\n",
            "02/26/2021 23:28:34 - INFO - haystack.preprocessor.utils -   Converting dataIRCC/file-10559.txt\n",
            "02/26/2021 23:28:34 - INFO - haystack.preprocessor.utils -   Converting dataIRCC/file-10509.txt\n",
            "02/26/2021 23:28:34 - INFO - haystack.preprocessor.utils -   Converting dataIRCC/file-10217.txt\n",
            "02/26/2021 23:28:34 - INFO - haystack.preprocessor.utils -   Converting dataIRCC/file-10576.txt\n",
            "02/26/2021 23:28:34 - INFO - haystack.preprocessor.utils -   Converting dataIRCC/file-10563.txt\n",
            "02/26/2021 23:28:34 - INFO - haystack.preprocessor.utils -   Converting dataIRCC/file-10545.txt\n",
            "02/26/2021 23:28:34 - INFO - haystack.preprocessor.utils -   Converting dataIRCC/file-10249.txt\n",
            "02/26/2021 23:28:34 - INFO - haystack.preprocessor.utils -   Converting dataIRCC/file-10549.txt\n",
            "02/26/2021 23:28:34 - INFO - haystack.preprocessor.utils -   Converting dataIRCC/file-10512.txt\n",
            "02/26/2021 23:28:34 - INFO - haystack.preprocessor.utils -   Converting dataIRCC/file-10030.txt\n",
            "02/26/2021 23:28:34 - INFO - haystack.preprocessor.utils -   Converting dataIRCC/file-10098.txt\n",
            "02/26/2021 23:28:34 - INFO - haystack.preprocessor.utils -   Converting dataIRCC/file-10208.txt\n",
            "02/26/2021 23:28:34 - INFO - haystack.preprocessor.utils -   Converting dataIRCC/file-10164.txt\n",
            "02/26/2021 23:28:34 - INFO - haystack.preprocessor.utils -   Converting dataIRCC/file-10100.txt\n",
            "02/26/2021 23:28:34 - INFO - haystack.preprocessor.utils -   Converting dataIRCC/file-10516.txt\n",
            "02/26/2021 23:28:34 - INFO - haystack.preprocessor.utils -   Converting dataIRCC/file-10619.txt\n",
            "02/26/2021 23:28:34 - INFO - haystack.preprocessor.utils -   Converting dataIRCC/file-10449.txt\n",
            "02/26/2021 23:28:34 - INFO - haystack.preprocessor.utils -   Converting dataIRCC/file-10151.txt\n",
            "02/26/2021 23:28:34 - INFO - haystack.preprocessor.utils -   Converting dataIRCC/file-10195.txt\n",
            "02/26/2021 23:28:34 - INFO - haystack.preprocessor.utils -   Converting dataIRCC/file-10585.txt\n",
            "02/26/2021 23:28:34 - INFO - haystack.preprocessor.utils -   Converting dataIRCC/file-10623.txt\n",
            "02/26/2021 23:28:34 - INFO - haystack.preprocessor.utils -   Converting dataIRCC/file-10554.txt\n",
            "02/26/2021 23:28:34 - INFO - haystack.preprocessor.utils -   Converting dataIRCC/file-10018.txt\n",
            "02/26/2021 23:28:34 - INFO - haystack.preprocessor.utils -   Converting dataIRCC/file-10392.txt\n",
            "02/26/2021 23:28:34 - INFO - haystack.preprocessor.utils -   Converting dataIRCC/file-10472.txt\n",
            "02/26/2021 23:28:34 - INFO - haystack.preprocessor.utils -   Converting dataIRCC/file-10102.txt\n",
            "02/26/2021 23:28:34 - INFO - haystack.preprocessor.utils -   Converting dataIRCC/file-10248.txt\n",
            "02/26/2021 23:28:34 - INFO - haystack.preprocessor.utils -   Converting dataIRCC/file-10611.txt\n",
            "02/26/2021 23:28:34 - INFO - haystack.preprocessor.utils -   Converting dataIRCC/file-10458.txt\n",
            "02/26/2021 23:28:34 - INFO - haystack.preprocessor.utils -   Converting dataIRCC/file-10496.txt\n",
            "02/26/2021 23:28:34 - INFO - haystack.preprocessor.utils -   Converting dataIRCC/file-10577.txt\n",
            "02/26/2021 23:28:34 - INFO - haystack.preprocessor.utils -   Converting dataIRCC/file-10029.txt\n",
            "02/26/2021 23:28:34 - INFO - haystack.preprocessor.utils -   Converting dataIRCC/file-10141.txt\n",
            "02/26/2021 23:28:34 - INFO - haystack.preprocessor.utils -   Converting dataIRCC/file-10261.txt\n",
            "02/26/2021 23:28:34 - INFO - haystack.preprocessor.utils -   Converting dataIRCC/file-10379.txt\n",
            "02/26/2021 23:28:34 - INFO - haystack.preprocessor.utils -   Converting dataIRCC/file-10544.txt\n",
            "02/26/2021 23:28:34 - INFO - haystack.preprocessor.utils -   Converting dataIRCC/file-10374.txt\n",
            "02/26/2021 23:28:34 - INFO - haystack.preprocessor.utils -   Converting dataIRCC/file-10206.txt\n",
            "02/26/2021 23:28:34 - INFO - haystack.preprocessor.utils -   Converting dataIRCC/file-10480.txt\n",
            "02/26/2021 23:28:34 - INFO - haystack.preprocessor.utils -   Converting dataIRCC/file-10421.txt\n",
            "02/26/2021 23:28:34 - INFO - haystack.preprocessor.utils -   Converting dataIRCC/file-10403.txt\n",
            "02/26/2021 23:28:34 - INFO - haystack.preprocessor.utils -   Converting dataIRCC/file-10011.txt\n",
            "02/26/2021 23:28:34 - INFO - haystack.preprocessor.utils -   Converting dataIRCC/file-10329.txt\n",
            "02/26/2021 23:28:34 - INFO - haystack.preprocessor.utils -   Converting dataIRCC/file-10126.txt\n",
            "02/26/2021 23:28:34 - INFO - haystack.preprocessor.utils -   Converting dataIRCC/file-10561.txt\n",
            "02/26/2021 23:28:34 - INFO - haystack.preprocessor.utils -   Converting dataIRCC/file-10010.txt\n",
            "02/26/2021 23:28:34 - INFO - haystack.preprocessor.utils -   Converting dataIRCC/file-10321.txt\n",
            "02/26/2021 23:28:34 - INFO - haystack.preprocessor.utils -   Converting dataIRCC/file-10063.txt\n",
            "02/26/2021 23:28:34 - INFO - haystack.preprocessor.utils -   Converting dataIRCC/file-10402.txt\n",
            "02/26/2021 23:28:34 - INFO - haystack.preprocessor.utils -   Converting dataIRCC/file-10382.txt\n",
            "02/26/2021 23:28:34 - INFO - haystack.preprocessor.utils -   Converting dataIRCC/file-10605.txt\n",
            "02/26/2021 23:28:34 - INFO - haystack.preprocessor.utils -   Converting dataIRCC/file-10440.txt\n",
            "02/26/2021 23:28:34 - INFO - haystack.preprocessor.utils -   Converting dataIRCC/file-10540.txt\n",
            "02/26/2021 23:28:34 - INFO - haystack.preprocessor.utils -   Converting dataIRCC/file-10327.txt\n",
            "02/26/2021 23:28:34 - INFO - haystack.preprocessor.utils -   Converting dataIRCC/file-10214.txt\n",
            "02/26/2021 23:28:34 - INFO - haystack.preprocessor.utils -   Converting dataIRCC/file-10172.txt\n",
            "02/26/2021 23:28:34 - INFO - haystack.preprocessor.utils -   Converting dataIRCC/file-10070.txt\n",
            "02/26/2021 23:28:34 - INFO - haystack.preprocessor.utils -   Converting dataIRCC/file-10066.txt\n",
            "02/26/2021 23:28:34 - INFO - haystack.preprocessor.utils -   Converting dataIRCC/file-10215.txt\n",
            "02/26/2021 23:28:34 - INFO - haystack.preprocessor.utils -   Converting dataIRCC/file-10348.txt\n",
            "02/26/2021 23:28:34 - INFO - haystack.preprocessor.utils -   Converting dataIRCC/file-10572.txt\n",
            "02/26/2021 23:28:34 - INFO - haystack.preprocessor.utils -   Converting dataIRCC/file-10084.txt\n",
            "02/26/2021 23:28:34 - INFO - haystack.preprocessor.utils -   Converting dataIRCC/file-10391.txt\n",
            "02/26/2021 23:28:34 - INFO - haystack.preprocessor.utils -   Converting dataIRCC/file-10528.txt\n",
            "02/26/2021 23:28:34 - INFO - haystack.preprocessor.utils -   Converting dataIRCC/file-10252.txt\n",
            "02/26/2021 23:28:34 - INFO - haystack.preprocessor.utils -   Converting dataIRCC/file-10104.txt\n",
            "02/26/2021 23:28:34 - INFO - haystack.preprocessor.utils -   Converting dataIRCC/file-10244.txt\n",
            "02/26/2021 23:28:34 - INFO - haystack.preprocessor.utils -   Converting dataIRCC/file-10410.txt\n",
            "02/26/2021 23:28:34 - INFO - haystack.preprocessor.utils -   Converting dataIRCC/file-10425.txt\n",
            "02/26/2021 23:28:34 - INFO - haystack.preprocessor.utils -   Converting dataIRCC/file-10432.txt\n",
            "02/26/2021 23:28:34 - INFO - haystack.preprocessor.utils -   Converting dataIRCC/file-10068.txt\n",
            "02/26/2021 23:28:34 - INFO - haystack.preprocessor.utils -   Converting dataIRCC/file-10457.txt\n",
            "02/26/2021 23:28:34 - INFO - haystack.preprocessor.utils -   Converting dataIRCC/file-10363.txt\n",
            "02/26/2021 23:28:34 - INFO - haystack.preprocessor.utils -   Converting dataIRCC/file-10119.txt\n",
            "02/26/2021 23:28:34 - INFO - haystack.preprocessor.utils -   Converting dataIRCC/file-10115.txt\n",
            "02/26/2021 23:28:34 - INFO - haystack.preprocessor.utils -   Converting dataIRCC/file-10431.txt\n",
            "02/26/2021 23:28:34 - INFO - haystack.preprocessor.utils -   Converting dataIRCC/file-10232.txt\n",
            "02/26/2021 23:28:34 - INFO - haystack.preprocessor.utils -   Converting dataIRCC/file-10499.txt\n",
            "02/26/2021 23:28:34 - INFO - haystack.preprocessor.utils -   Converting dataIRCC/file-10464.txt\n",
            "02/26/2021 23:28:34 - INFO - haystack.preprocessor.utils -   Converting dataIRCC/file-10350.txt\n",
            "02/26/2021 23:28:34 - INFO - haystack.preprocessor.utils -   Converting dataIRCC/file-10628.txt\n",
            "02/26/2021 23:28:34 - INFO - haystack.preprocessor.utils -   Converting dataIRCC/file-10012.txt\n",
            "02/26/2021 23:28:34 - INFO - haystack.preprocessor.utils -   Converting dataIRCC/file-10239.txt\n",
            "02/26/2021 23:28:34 - INFO - haystack.preprocessor.utils -   Converting dataIRCC/file-10548.txt\n",
            "02/26/2021 23:28:34 - INFO - haystack.preprocessor.utils -   Converting dataIRCC/file-10064.txt\n",
            "02/26/2021 23:28:34 - INFO - haystack.preprocessor.utils -   Converting dataIRCC/file-10078.txt\n",
            "02/26/2021 23:28:34 - INFO - haystack.preprocessor.utils -   Converting dataIRCC/file-10590.txt\n",
            "02/26/2021 23:28:34 - INFO - haystack.preprocessor.utils -   Converting dataIRCC/file-10025.txt\n",
            "02/26/2021 23:28:34 - INFO - haystack.preprocessor.utils -   Converting dataIRCC/file-10048.txt\n",
            "02/26/2021 23:28:34 - INFO - haystack.preprocessor.utils -   Converting dataIRCC/file-10322.txt\n",
            "02/26/2021 23:28:34 - INFO - haystack.preprocessor.utils -   Converting dataIRCC/file-10168.txt\n",
            "02/26/2021 23:28:34 - INFO - haystack.preprocessor.utils -   Converting dataIRCC/file-10169.txt\n",
            "02/26/2021 23:28:34 - INFO - haystack.preprocessor.utils -   Converting dataIRCC/file-10535.txt\n",
            "02/26/2021 23:28:34 - INFO - haystack.preprocessor.utils -   Converting dataIRCC/file-10090.txt\n",
            "02/26/2021 23:28:34 - INFO - haystack.preprocessor.utils -   Converting dataIRCC/file-10110.txt\n",
            "02/26/2021 23:28:34 - INFO - haystack.preprocessor.utils -   Converting dataIRCC/file-10088.txt\n",
            "02/26/2021 23:28:34 - INFO - haystack.preprocessor.utils -   Converting dataIRCC/file-10422.txt\n",
            "02/26/2021 23:28:34 - INFO - haystack.preprocessor.utils -   Converting dataIRCC/file-10269.txt\n",
            "02/26/2021 23:28:34 - INFO - haystack.preprocessor.utils -   Converting dataIRCC/file-10128.txt\n",
            "02/26/2021 23:28:34 - INFO - haystack.preprocessor.utils -   Converting dataIRCC/file-10039.txt\n",
            "02/26/2021 23:28:34 - INFO - haystack.preprocessor.utils -   Converting dataIRCC/file-10013.txt\n",
            "02/26/2021 23:28:35 - INFO - haystack.preprocessor.utils -   Converting dataIRCC/file-10182.txt\n",
            "02/26/2021 23:28:35 - INFO - haystack.preprocessor.utils -   Converting dataIRCC/file-10607.txt\n",
            "02/26/2021 23:28:35 - INFO - haystack.preprocessor.utils -   Converting dataIRCC/file-10588.txt\n",
            "02/26/2021 23:28:35 - INFO - haystack.preprocessor.utils -   Converting dataIRCC/file-10423.txt\n",
            "02/26/2021 23:28:35 - INFO - haystack.preprocessor.utils -   Converting dataIRCC/file-10534.txt\n",
            "02/26/2021 23:28:35 - INFO - haystack.preprocessor.utils -   Converting dataIRCC/file-10395.txt\n",
            "02/26/2021 23:28:35 - INFO - haystack.preprocessor.utils -   Converting dataIRCC/file-10612.txt\n",
            "02/26/2021 23:28:35 - INFO - haystack.preprocessor.utils -   Converting dataIRCC/file-10459.txt\n",
            "02/26/2021 23:28:35 - INFO - haystack.preprocessor.utils -   Converting dataIRCC/file-10510.txt\n",
            "02/26/2021 23:28:35 - INFO - haystack.preprocessor.utils -   Converting dataIRCC/file-10272.txt\n",
            "02/26/2021 23:28:35 - INFO - haystack.preprocessor.utils -   Converting dataIRCC/file-10218.txt\n",
            "02/26/2021 23:28:35 - INFO - haystack.preprocessor.utils -   Converting dataIRCC/file-10109.txt\n",
            "02/26/2021 23:28:35 - INFO - haystack.preprocessor.utils -   Converting dataIRCC/file-10615.txt\n",
            "02/26/2021 23:28:35 - INFO - haystack.preprocessor.utils -   Converting dataIRCC/file-10419.txt\n",
            "02/26/2021 23:28:35 - INFO - haystack.preprocessor.utils -   Converting dataIRCC/file-10153.txt\n",
            "02/26/2021 23:28:35 - INFO - haystack.preprocessor.utils -   Converting dataIRCC/file-10517.txt\n",
            "02/26/2021 23:28:35 - INFO - haystack.preprocessor.utils -   Converting dataIRCC/file-10359.txt\n",
            "02/26/2021 23:28:35 - INFO - haystack.preprocessor.utils -   Converting dataIRCC/file-10370.txt\n",
            "02/26/2021 23:28:35 - INFO - haystack.preprocessor.utils -   Converting dataIRCC/file-10371.txt\n",
            "02/26/2021 23:28:35 - INFO - haystack.preprocessor.utils -   Converting dataIRCC/file-10092.txt\n",
            "02/26/2021 23:28:35 - INFO - haystack.preprocessor.utils -   Converting dataIRCC/file-10112.txt\n",
            "02/26/2021 23:28:35 - INFO - haystack.preprocessor.utils -   Converting dataIRCC/file-10204.txt\n",
            "02/26/2021 23:28:35 - INFO - haystack.preprocessor.utils -   Converting dataIRCC/file-10580.txt\n",
            "02/26/2021 23:28:35 - INFO - haystack.preprocessor.utils -   Converting dataIRCC/file-10555.txt\n",
            "02/26/2021 23:28:35 - INFO - haystack.preprocessor.utils -   Converting dataIRCC/file-10557.txt\n",
            "02/26/2021 23:28:35 - INFO - haystack.preprocessor.utils -   Converting dataIRCC/file-10114.txt\n",
            "02/26/2021 23:28:35 - INFO - haystack.preprocessor.utils -   Converting dataIRCC/file-10600.txt\n",
            "02/26/2021 23:28:35 - INFO - haystack.preprocessor.utils -   Converting dataIRCC/file-10256.txt\n",
            "02/26/2021 23:28:35 - INFO - haystack.preprocessor.utils -   Converting dataIRCC/file-10160.txt\n",
            "02/26/2021 23:28:35 - INFO - haystack.preprocessor.utils -   Converting dataIRCC/file-10306.txt\n",
            "02/26/2021 23:28:35 - INFO - haystack.preprocessor.utils -   Converting dataIRCC/file-10433.txt\n",
            "02/26/2021 23:28:35 - INFO - haystack.preprocessor.utils -   Converting dataIRCC/file-10189.txt\n",
            "02/26/2021 23:28:35 - INFO - haystack.preprocessor.utils -   Converting dataIRCC/file-10490.txt\n",
            "02/26/2021 23:28:35 - INFO - haystack.preprocessor.utils -   Converting dataIRCC/file-10258.txt\n",
            "02/26/2021 23:28:35 - INFO - haystack.preprocessor.utils -   Converting dataIRCC/file-10319.txt\n",
            "02/26/2021 23:28:35 - INFO - haystack.preprocessor.utils -   Converting dataIRCC/file-10445.txt\n",
            "02/26/2021 23:28:35 - INFO - haystack.preprocessor.utils -   Converting dataIRCC/file-10032.txt\n",
            "02/26/2021 23:28:35 - INFO - haystack.preprocessor.utils -   Converting dataIRCC/file-10209.txt\n",
            "02/26/2021 23:28:35 - INFO - haystack.preprocessor.utils -   Converting dataIRCC/file-10014.txt\n",
            "02/26/2021 23:28:35 - INFO - haystack.preprocessor.utils -   Converting dataIRCC/file-10383.txt\n",
            "02/26/2021 23:28:35 - INFO - haystack.preprocessor.utils -   Converting dataIRCC/file-10629.txt\n",
            "02/26/2021 23:28:35 - INFO - haystack.preprocessor.utils -   Converting dataIRCC/file-10076.txt\n",
            "02/26/2021 23:28:35 - INFO - haystack.preprocessor.utils -   Converting dataIRCC/file-10191.txt\n",
            "02/26/2021 23:28:35 - INFO - haystack.preprocessor.utils -   Converting dataIRCC/file-10428.txt\n",
            "02/26/2021 23:28:35 - INFO - haystack.preprocessor.utils -   Converting dataIRCC/file-10597.txt\n",
            "02/26/2021 23:28:35 - INFO - haystack.preprocessor.utils -   Converting dataIRCC/file-10341.txt\n",
            "02/26/2021 23:28:35 - INFO - haystack.preprocessor.utils -   Converting dataIRCC/file-10488.txt\n",
            "02/26/2021 23:28:35 - INFO - haystack.preprocessor.utils -   Converting dataIRCC/file-10393.txt\n",
            "02/26/2021 23:28:35 - INFO - haystack.preprocessor.utils -   Converting dataIRCC/file-10061.txt\n",
            "02/26/2021 23:28:35 - INFO - haystack.preprocessor.utils -   Converting dataIRCC/file-10289.txt\n",
            "02/26/2021 23:28:35 - INFO - haystack.preprocessor.utils -   Converting dataIRCC/file-10484.txt\n",
            "02/26/2021 23:28:35 - INFO - haystack.preprocessor.utils -   Converting dataIRCC/file-10196.txt\n",
            "02/26/2021 23:28:35 - INFO - haystack.preprocessor.utils -   Converting dataIRCC/file-10315.txt\n",
            "02/26/2021 23:28:35 - INFO - haystack.preprocessor.utils -   Converting dataIRCC/file-10579.txt\n",
            "02/26/2021 23:28:35 - INFO - haystack.preprocessor.utils -   Converting dataIRCC/file-10482.txt\n",
            "02/26/2021 23:28:35 - INFO - haystack.preprocessor.utils -   Converting dataIRCC/file-10311.txt\n",
            "02/26/2021 23:28:35 - INFO - haystack.preprocessor.utils -   Converting dataIRCC/file-10477.txt\n",
            "02/26/2021 23:28:35 - INFO - haystack.preprocessor.utils -   Converting dataIRCC/file-10570.txt\n",
            "02/26/2021 23:28:35 - INFO - haystack.preprocessor.utils -   Converting dataIRCC/file-10332.txt\n",
            "02/26/2021 23:28:35 - INFO - haystack.preprocessor.utils -   Converting dataIRCC/file-10508.txt\n",
            "02/26/2021 23:28:35 - INFO - haystack.preprocessor.utils -   Converting dataIRCC/file-10571.txt\n",
            "02/26/2021 23:28:35 - INFO - haystack.preprocessor.utils -   Converting dataIRCC/file-10400.txt\n",
            "02/26/2021 23:28:35 - INFO - haystack.preprocessor.utils -   Converting dataIRCC/file-10420.txt\n",
            "02/26/2021 23:28:35 - INFO - haystack.preprocessor.utils -   Converting dataIRCC/file-10426.txt\n",
            "02/26/2021 23:28:35 - INFO - haystack.preprocessor.utils -   Converting dataIRCC/file-10582.txt\n",
            "02/26/2021 23:28:35 - INFO - haystack.preprocessor.utils -   Converting dataIRCC/file-10438.txt\n",
            "02/26/2021 23:28:35 - INFO - haystack.preprocessor.utils -   Converting dataIRCC/file-10071.txt\n",
            "02/26/2021 23:28:35 - INFO - haystack.preprocessor.utils -   Converting dataIRCC/file-10140.txt\n",
            "02/26/2021 23:28:35 - INFO - haystack.preprocessor.utils -   Converting dataIRCC/file-10309.txt\n",
            "02/26/2021 23:28:35 - INFO - haystack.preprocessor.utils -   Converting dataIRCC/file-10004.txt\n",
            "02/26/2021 23:28:35 - INFO - haystack.preprocessor.utils -   Converting dataIRCC/file-10260.txt\n",
            "02/26/2021 23:28:35 - INFO - haystack.preprocessor.utils -   Converting dataIRCC/file-10292.txt\n",
            "02/26/2021 23:28:35 - INFO - haystack.preprocessor.utils -   Converting dataIRCC/file-10158.txt\n",
            "02/26/2021 23:28:35 - INFO - haystack.preprocessor.utils -   Converting dataIRCC/file-10502.txt\n",
            "02/26/2021 23:28:35 - INFO - haystack.preprocessor.utils -   Converting dataIRCC/file-10407.txt\n",
            "02/26/2021 23:28:35 - INFO - haystack.preprocessor.utils -   Converting dataIRCC/file-10610.txt\n",
            "02/26/2021 23:28:35 - INFO - haystack.preprocessor.utils -   Converting dataIRCC/file-10065.txt\n",
            "02/26/2021 23:28:35 - INFO - haystack.preprocessor.utils -   Converting dataIRCC/file-10461.txt\n",
            "02/26/2021 23:28:35 - INFO - haystack.preprocessor.utils -   Converting dataIRCC/file-10221.txt\n",
            "02/26/2021 23:28:35 - INFO - haystack.preprocessor.utils -   Converting dataIRCC/file-10427.txt\n",
            "02/26/2021 23:28:35 - INFO - haystack.preprocessor.utils -   Converting dataIRCC/file-10386.txt\n",
            "02/26/2021 23:28:35 - INFO - haystack.preprocessor.utils -   Converting dataIRCC/file-10043.txt\n",
            "02/26/2021 23:28:35 - INFO - haystack.preprocessor.utils -   Converting dataIRCC/file-10388.txt\n",
            "02/26/2021 23:28:35 - INFO - haystack.preprocessor.utils -   Converting dataIRCC/file-10444.txt\n",
            "02/26/2021 23:28:35 - INFO - haystack.preprocessor.utils -   Converting dataIRCC/file-10591.txt\n",
            "02/26/2021 23:28:35 - INFO - haystack.preprocessor.utils -   Converting dataIRCC/file-10513.txt\n",
            "02/26/2021 23:28:35 - INFO - haystack.preprocessor.utils -   Converting dataIRCC/file-10430.txt\n",
            "02/26/2021 23:28:35 - INFO - haystack.preprocessor.utils -   Converting dataIRCC/file-10127.txt\n",
            "02/26/2021 23:28:35 - INFO - haystack.preprocessor.utils -   Converting dataIRCC/file-10136.txt\n",
            "02/26/2021 23:28:35 - INFO - haystack.preprocessor.utils -   Converting dataIRCC/file-10408.txt\n",
            "02/26/2021 23:28:35 - INFO - haystack.preprocessor.utils -   Converting dataIRCC/file-10230.txt\n",
            "02/26/2021 23:28:35 - INFO - haystack.preprocessor.utils -   Converting dataIRCC/file-10505.txt\n",
            "02/26/2021 23:28:35 - INFO - haystack.preprocessor.utils -   Converting dataIRCC/file-10295.txt\n",
            "02/26/2021 23:28:35 - INFO - haystack.preprocessor.utils -   Converting dataIRCC/file-10015.txt\n",
            "02/26/2021 23:28:35 - INFO - haystack.preprocessor.utils -   Converting dataIRCC/file-10203.txt\n",
            "02/26/2021 23:28:35 - INFO - haystack.preprocessor.utils -   Converting dataIRCC/file-10130.txt\n",
            "02/26/2021 23:28:35 - INFO - haystack.preprocessor.utils -   Converting dataIRCC/file-10074.txt\n",
            "02/26/2021 23:28:35 - INFO - haystack.preprocessor.utils -   Converting dataIRCC/file-10475.txt\n",
            "02/26/2021 23:28:35 - INFO - haystack.preprocessor.utils -   Converting dataIRCC/file-10290.txt\n",
            "02/26/2021 23:28:35 - INFO - haystack.preprocessor.utils -   Converting dataIRCC/file-10185.txt\n",
            "02/26/2021 23:28:35 - INFO - haystack.preprocessor.utils -   Converting dataIRCC/file-10150.txt\n",
            "02/26/2021 23:28:35 - INFO - haystack.preprocessor.utils -   Converting dataIRCC/file-10020.txt\n",
            "02/26/2021 23:28:35 - INFO - haystack.preprocessor.utils -   Converting dataIRCC/file-10463.txt\n",
            "02/26/2021 23:28:35 - INFO - haystack.preprocessor.utils -   Converting dataIRCC/file-10522.txt\n",
            "02/26/2021 23:28:35 - INFO - haystack.preprocessor.utils -   Converting dataIRCC/file-10086.txt\n",
            "02/26/2021 23:28:36 - INFO - haystack.preprocessor.utils -   Converting dataIRCC/file-10091.txt\n",
            "02/26/2021 23:28:36 - INFO - haystack.preprocessor.utils -   Converting dataIRCC/file-10529.txt\n",
            "02/26/2021 23:28:36 - INFO - haystack.preprocessor.utils -   Converting dataIRCC/file-10337.txt\n",
            "02/26/2021 23:28:36 - INFO - haystack.preprocessor.utils -   Converting dataIRCC/file-10099.txt\n",
            "02/26/2021 23:28:36 - INFO - haystack.preprocessor.utils -   Converting dataIRCC/file-10282.txt\n",
            "02/26/2021 23:28:36 - INFO - haystack.preprocessor.utils -   Converting dataIRCC/file-10454.txt\n",
            "02/26/2021 23:28:36 - INFO - haystack.preprocessor.utils -   Converting dataIRCC/file-10124.txt\n",
            "02/26/2021 23:28:36 - INFO - haystack.preprocessor.utils -   Converting dataIRCC/file-10620.txt\n",
            "02/26/2021 23:28:36 - INFO - haystack.preprocessor.utils -   Converting dataIRCC/file-10135.txt\n",
            "02/26/2021 23:28:36 - INFO - haystack.preprocessor.utils -   Converting dataIRCC/file-10336.txt\n",
            "02/26/2021 23:28:36 - INFO - haystack.preprocessor.utils -   Converting dataIRCC/file-10234.txt\n",
            "02/26/2021 23:28:36 - INFO - haystack.preprocessor.utils -   Converting dataIRCC/file-10498.txt\n",
            "02/26/2021 23:28:36 - INFO - haystack.preprocessor.utils -   Converting dataIRCC/file-10613.txt\n",
            "02/26/2021 23:28:36 - INFO - haystack.preprocessor.utils -   Converting dataIRCC/file-10177.txt\n",
            "02/26/2021 23:28:36 - INFO - haystack.preprocessor.utils -   Converting dataIRCC/file-10552.txt\n",
            "02/26/2021 23:28:36 - INFO - haystack.preprocessor.utils -   Converting dataIRCC/file-10474.txt\n",
            "02/26/2021 23:28:36 - INFO - haystack.preprocessor.utils -   Converting dataIRCC/file-10468.txt\n",
            "02/26/2021 23:28:36 - INFO - haystack.preprocessor.utils -   Converting dataIRCC/file-10339.txt\n",
            "02/26/2021 23:28:36 - INFO - haystack.preprocessor.utils -   Converting dataIRCC/file-10558.txt\n",
            "02/26/2021 23:28:36 - INFO - haystack.preprocessor.utils -   Converting dataIRCC/file-10275.txt\n",
            "02/26/2021 23:28:36 - INFO - haystack.preprocessor.utils -   Converting dataIRCC/file-10058.txt\n",
            "02/26/2021 23:28:36 - INFO - haystack.preprocessor.utils -   Converting dataIRCC/file-10046.txt\n",
            "02/26/2021 23:28:36 - INFO - haystack.preprocessor.utils -   Converting dataIRCC/file-10624.txt\n",
            "02/26/2021 23:28:36 - INFO - haystack.preprocessor.utils -   Converting dataIRCC/file-10542.txt\n",
            "02/26/2021 23:28:36 - INFO - haystack.preprocessor.utils -   Converting dataIRCC/file-10224.txt\n",
            "02/26/2021 23:28:36 - INFO - haystack.preprocessor.utils -   Converting dataIRCC/file-10001.txt\n",
            "02/26/2021 23:28:36 - INFO - haystack.preprocessor.utils -   Converting dataIRCC/file-10627.txt\n",
            "02/26/2021 23:28:36 - INFO - haystack.preprocessor.utils -   Converting dataIRCC/file-10200.txt\n",
            "02/26/2021 23:28:36 - INFO - haystack.preprocessor.utils -   Converting dataIRCC/file-10515.txt\n",
            "02/26/2021 23:28:36 - INFO - haystack.preprocessor.utils -   Converting dataIRCC/file-10345.txt\n",
            "02/26/2021 23:28:36 - INFO - haystack.preprocessor.utils -   Converting dataIRCC/file-10573.txt\n",
            "02/26/2021 23:28:36 - INFO - haystack.preprocessor.utils -   Converting dataIRCC/file-10414.txt\n"
          ],
          "name": "stderr"
        },
        {
          "output_type": "stream",
          "text": [
            "[{'text': '<!doctype html>\\n\\n\\n<html class=\"no-js\" dir=\"ltr\" lang=\"en\" xmlns=\"http://www.w3.org/1999/xhtml\">\\n\\n<head prefix=\"og: http://ogp.me/ns#\">\\n    \\n<meta http-equiv=\"X-UA-Compatible\" content=\"IE=edge\"/>\\n<meta charset=\"utf-8\"/>\\n<title>Review of the Migration Policy Development Program - Canada.ca</title>\\n<meta content=\"width=device-width,initial-scale=1\" name=\"viewport\"/>\\n\\n\\n\\t<link rel=\"schema.dcterms\" href=\"http://purl.org/dc/terms/\"/>\\n\\t\\n\\t\\t<meta name=\"description\" content=\"Review of the Migration Policy Development Program\"/>\\n\\t\\n\\t\\n\\t\\t<meta name=\"keywords\" content=\"Evaluation; Report; Migration Policy Development Program (MPDP); International migration policy and research; Inter-Governmental Consultations on Asylum, Refugee and Migration Policies (IGC); Regional Conference on Migration (RCM); Migration Policy Institute (MPI)\"/>\\n\\t\\n\\t\\n\\t\\t<meta name=\"author\" content=\"Immigration, Refugees and Citizenship Canada\"/>\\n\\t\\n\\t\\n\\t\\t<meta name=\"dcterms.title\" content=\"Review of the Migration Policy Development Program\"/>\\n\\t\\n\\t\\n\\t\\t<meta name=\"dcterms.description\" content=\"Review of the Migration Policy Development Program\"/>\\n\\t\\n\\t\\n\\t\\t<meta name=\"dcterms.creator\" content=\"Immigration, Refugees and Citizenship Canada\"/>\\n\\t\\n\\t\\n\\t\\n\\t\\t<meta name=\"dcterms.language\" title=\"ISO639-2/T\" content=\"eng\"/>\\n\\t\\n\\t\\n\\t\\n\\t\\t<meta name=\"dcterms.issued\" title=\"W3CDTF\" content=\"2008-11-17\"/>\\n\\t\\n\\t\\n\\t\\t<meta name=\"dcterms.modified\" title=\"W3CDTF\" content=\"2009-04-07\"/>\\n\\t\\n\\t\\n\\t\\t<meta name=\"dcterms.audience\" content=\"general public\"/>\\n\\t\\n\\t\\n\\t\\t<meta name=\"dcterms.spatial\" content=\"Canada\"/>\\n\\t\\n\\t\\n\\t\\t<meta name=\"dcterms.type\" content=\"assessments\"/>\\n\\t\\n\\t\\n\\t\\n\\t\\n\\t\\n\\t\\t<meta name=\"dcterms.source\" content=\"aem\"/>\\n\\t\\n\\t\\n\\t\\t<meta name=\"dcterms.identifier\" content=\"Immigration _Refugees_and_Citizenship_Canada\"/>\\n\\t\\n\\t\\n\\t\\n\\t\\n    \\n    \\n\\n\\n\\n\\t<meta prefix=\"fb: https://www.facebook.com/2008/fbml\" property=\"fb:pages\" content=\"378967748836213, 160339344047502, 184605778338568, 237796269600506, 10860597051, 14498271095, 209857686718, 160504807323251, 111156792247197, 113429762015861, 502566449790031, 312292485564363, 1471831713076413, 22724568071, 17294463927, 1442463402719857, 247990812241506, 730097607131117, 1142481292546228, 1765602380419601, 131514060764735, 307780276294187, 427238637642566, 525934210910141, 1016214671785090, 192657607776229, 586856208161152, 1146080748799944, 408143085978521, 490290084411688, 163828286987751, 565688503775086, 460123390028, 318424514044, 632493333805962, 370233926766473, 173004244677, 1562729973959056, 362400293941960, 769857139754987, 167891083224996, 466882737009651, 126404198009505, 135409166525475, 664638680273646, 169011506491295, 217171551640146, 182842831756930, 1464645710444681, 218822426028, 218740415905, 123326971154939, 125058490980757, 1062292210514762, 1768389106741505, 310939332270090, 285960408117397, 985916134909087, 655533774808209, 1522633664630497, 686814348097821, 230798677012118, 320520588000085, 103201203106202, 273375356172196, 61263506236, 353102841161, 1061339807224729, 1090791104267764, 395867780593657, 1597876400459657, 388427768185631, 937815283021844, 207409132619743, 1952090675003143, 206529629372368, 218566908564369, 175257766291975, 118472908172897, 767088219985590, 478573952173735, 465264530180856, 317418191615817, 428040827230778, 222493134493922, 196833853688656, 194633827256676, 252002641498535, 398018420213195, 265626156847421, 202442683196210, 384350631577399, 385499078129720, 178433945604162, 398240836869162, 326182960762584, 354672164565195, 375081249171867, 333050716732105, 118996871563050, 240349086055056, 119579301504003, 185184131584797, 333647780005544, 306255172770146, 369589566399283, 117461228379000, 349774478396157, 201995959908210, 307017162692056, 145928592172074, 122656527842056\">\\n\\n\\n\\t\\n\\n\\n    \\n\\n\\n\\t<script src=\"//assets.adobedtm.com/be5dfd287373/abb618326704/launch-3eac5e076135.min.js\"></script>\\n\\n\\n\\n\\n\\n\\n\\n\\n\\n\\n<link rel=\"stylesheet\" href=\"/etc/designs/canada/wet-boew/css/wet-boew.min.css\"/>\\n<link rel=\"stylesheet\" href=\"/etc/designs/canada/wet-boew/css/theme.min.css\"/>\\n<link rel=\"stylesheet\" href=\"https://use.fontawesome.com/releases/v5.8.1/css/all.css\" integrity=\"sha384-50oBUHEmvpQ+1lW4y57PTFmhCaXp0ML5d60M1M7uH2+nqUivzIebhndOJK28anvf\" crossorigin=\"anonymous\"/>\\n\\n\\n<link href=\"/etc/designs/canada/wet-boew/assets/favicon.ico\" rel=\"icon\" type=\"image/x-icon\"/>\\n\\n\\n<noscript><link rel=\"stylesheet\" href=\"/etc/designs/canada/wet-boew/css/noscript.min.css\"/></noscript>\\n<script>dataLayer = []; dataLayer1 = [];</script>\\n\\n                          <script>!function(a){var e=\"https://s.go-mpulse.net/boomerang/\",t=\"addEventListener\";if(\"False\"==\"True\")a.BOOMR_config=a.BOOMR_config||{},a.BOOMR_config.PageParams=a.BOOMR_config.PageParams||{},a.BOOMR_config.PageParams.pci=!0,e=\"https://s2.go-mpulse.net/boomerang/\";if(window.BOOMR_API_key=\"KBFUZ-C9D7G-RB8SX-GRGEN-HGMC9\",function(){function n(e){a.BOOMR_onload=e&&e.timeStamp||(new Date).getTime()}if(!a.BOOMR||!a.BOOMR.version&&!a.BOOMR.snippetExecuted){a.BOOMR=a.BOOMR||{},a.BOOMR.snippetExecuted=!0;var i,_,o,r=document.createElement(\"iframe\");if(a[t])a[t](\"load\",n,!1);else if(a.attachEvent)a.attachEvent(\"onload\",n);r.src=\"javascript:void(0)\",r.title=\"\",r.role=\"presentation\",(r.frameElement||r).style.cssText=\"width:0;height:0;border:0;display:none;\",o=document.getElementsByTagName(\"script\")[0],o.parentNode.insertBefore(r,o);try{_=r.contentWindow.document}catch(O){i=document.domain,r.src=\"javascript:var d=document.open();d.domain=\\'\"+i+\"\\';void(0);\",_=r.contentWindow.document}_.open()._l=function(){var a=this.createElement(\"script\");if(i)this.domain=i;a.id=\"boomr-if-as\",a.src=e+\"KBFUZ-C9D7G-RB8SX-GRGEN-HGMC9\",BOOMR_lstart=(new Date).getTime(),this.body.appendChild(a)},_.write(\"<bo\"+\\'dy onload=\"document._l();\">\\'),_.close()}}(),\"\".length>0)if(a&&\"performance\"in a&&a.performance&&\"function\"==typeof a.performance.setResourceTimingBufferSize)a.performance.setResourceTimingBufferSize();!function(){if(BOOMR=a.BOOMR||{},BOOMR.plugins=BOOMR.plugins||{},!BOOMR.plugins.AK){var e=\"\"==\"true\"?1:0,t=\"\",n=\"ejlm673iouyqkybzpm6a-f-799f87c81-clientnsv4-s.akamaihd.net\",i={\"ak.v\":\"30\",\"ak.cp\":\"368225\",\"ak.ai\":parseInt(\"231651\",10),\"ak.ol\":\"0\",\"ak.cr\":1,\"ak.ipv\":4,\"ak.proto\":\"http/1.1\",\"ak.rid\":\"a2ddf57\",\"ak.r\":26341,\"ak.a2\":e,\"ak.m\":\"dscb\",\"ak.n\":\"essl\",\"ak.bpcip\":\"34.86.207.0\",\"ak.cport\":47646,\"ak.gh\":\"65.158.180.167\",\"ak.quicv\":\"\",\"ak.tlsv\":\"tls1.3\",\"ak.0rtt\":\"\",\"ak.csrc\":\"-\",\"ak.acc\":\"reno\",\"ak.t\":\"1614379836\",\"ak.ak\":\"hOBiQwZUYzCg5VSAfCLimQ==V4UIUZ2mdnLBVZwF/LRJo80M6KvHl0kF2eDvQvbrjEyGFFhNJiwkvU3vxvxD7nDRUdUV00F1c6rzrPTHeQgiBCfzrUMjwHVyLWXwisTS2/ZRvYvxrrTGzULiQm906j2IFpK2BCZc1zv1DZSq1o954Y2NE7mcohu530A3nxpmPHwBWz1SAhn6Mf+RpvXWeG7RTPIQpVd/+BHWEGYTfZfcPsmMzMkAeKna+2P0D9gxIq8DUWZi2SbSs1ychTT1LgCCkQGtejP3WKCIHNonaw1CCN9CdSxbrdMKyBd81H22O7v7XItvxOe/0DW64Rx79HN3ZKtBANcaIb5J/g0k4tLanfeKGtGqP5VucJ2QGwp5mNSwJUb61RE49fsxoZVWJP5OXUoyvikltxjRqiBjp+lGIR4U2+cxSkB6rYWVMYGkYXs=\",\"ak.pv\":\"595\",\"ak.dpoabenc\":\"\"};if(\"\"!==t)i[\"ak.ruds\"]=t;var _={i:!1,av:function(e){var t=\"http.initiator\";if(e&&(!e[t]||\"spa_hard\"===e[t]))i[\"ak.feo\"]=void 0!==a.aFeoApplied?1:0,BOOMR.addVar(i)},rv:function(){var a=[\"ak.bpcip\",\"ak.cport\",\"ak.cr\",\"ak.csrc\",\"ak.gh\",\"ak.ipv\",\"ak.m\",\"ak.n\",\"ak.ol\",\"ak.proto\",\"ak.quicv\",\"ak.tlsv\",\"ak.0rtt\",\"ak.r\",\"ak.acc\",\"ak.t\"];BOOMR.removeVar(a)}};BOOMR.plugins.AK={akVars:i,akDNSPreFetchDomain:n,init:function(){if(!_.i){var a=BOOMR.subscribe;a(\"before_beacon\",_.av,null,null),a(\"onbeacon\",_.rv,null,null),_.i=!0}return this},is_complete:function(){return!0}}}}()}(window);</script></head>\\n\\n<body vocab=\"http://schema.org/\" typeof=\"WebPage\">\\n\\n    \\n\\n\\n\\n\\n    \\n        \\n        \\n        <div class=\"newpar new section\">\\n\\n</div>\\n\\n    \\n        \\n        \\n        <div class=\"par iparys_inherited\">\\n\\n    \\n    \\n    \\n    \\n        \\n        \\n        <div class=\"global-header\"><nav><ul id=\"wb-tphp\">\\n\\t<li class=\"wb-slc\"><a class=\"wb-sl\" href=\"#wb-cont\">Skip to main content</a></li>\\n\\t<li class=\"wb-slc\"><a class=\"wb-sl\" href=\"#wb-info\">Skip to &#34;About government&#34;</a></li>\\n\\t\\n</ul></nav>\\n\\n<header>\\n\\t<div id=\"wb-bnr\" class=\"container\">\\n\\t\\t<div class=\"row\">\\n\\t\\t\\t\\n\\t\\t\\t<section id=\"wb-lng\" class=\"col-xs-3 col-sm-12 pull-right text-right\">\\n    <h2 class=\"wb-inv\">Language selection</h2>\\n    <div class=\"row\">\\n        <div class=\"col-md-12\">\\n            <ul class=\"list-inline mrgn-bttm-0\">\\n                <li>\\n                    <a lang=\"fr\" href=\"/fr/immigration-refugies-citoyennete/organisation/rapports-statistiques/evaluations/examen-programme-elaboration-politiques-matiere-migration.html\">\\n                        \\n                            <span class=\"hidden-xs\">Fran&ccedil;ais</span>\\n                            <abbr title=\"Fran&ccedil;ais\" class=\"visible-xs h3 mrgn-tp-sm mrgn-bttm-0 text-uppercase\">fr</abbr>\\n                        \\n                        \\n                    </a>\\n                </li>\\n                \\n                \\n            </ul>\\n        </div>\\n    </div>\\n</section>\\n\\t\\t\\t\\t<div class=\"brand col-xs-9 col-sm-5 col-md-4\" property=\"publisher\" typeof=\"GovernmentOrganization\">\\n\\t\\t\\t\\t\\t\\n                    \\n\\t\\t\\t\\t\\t\\n\\t\\t\\t\\t\\t\\t\\n\\t\\t\\t\\t\\t\\t<a href=\"/en.html\" property=\"url\">\\n\\t\\t\\t\\t\\t\\t\\t<img src=\"/etc/designs/canada/wet-boew/assets/sig-blk-en.svg\" alt=\"Government of Canada\" property=\"logo\"/>\\n\\t\\t\\t\\t\\t\\t\\t<span class=\"wb-inv\"> /\\n\\t\\t\\t\\t\\t\\t\\t\\t\\n\\t\\t\\t\\t\\t\\t\\t\\t<span lang=\"fr\">Gouvernement du Canada</span>\\n\\t\\t\\t\\t\\t\\t\\t</span>\\n\\t\\t\\t\\t\\t\\t</a>\\n\\t\\t\\t\\t\\t\\n\\t\\t\\t\\t\\t<meta property=\"name\" content=\"Government of Canada\"/>\\n\\t\\t\\t\\t\\t<meta property=\"areaServed\" typeof=\"Country\" content=\"Canada\"/>\\n\\t\\t\\t\\t\\t<link property=\"logo\" href=\"/etc/designs/canada/wet-boew/assets/wmms-blk.svg\"/>\\n\\t\\t\\t\\t</div>\\n\\t\\t\\t\\t<section id=\"wb-srch\" class=\"col-lg-offset-4 col-md-offset-4 col-sm-offset-2 col-xs-12 col-sm-5 col-md-4\">\\n\\t\\t\\t\\t\\t<h2>Search</h2>\\n\\t\\t\\t\\t\\t\\n<form action=\"/en/services/immigration-citizenship/search.html\" method=\"get\" name=\"cse-search-box\" role=\"search\">\\n\\t<div class=\"form-group wb-srch-qry\">\\n\\t\\t<label for=\"wb-srch-q\" class=\"wb-inv\">Search Canada.ca</label>\\n\\t\\t<input name=\"cdn\" value=\"canada\" type=\"hidden\"/>\\n\\t\\t<input name=\"st\" value=\"s\" type=\"hidden\"/>\\n\\t\\t<input name=\"num\" value=\"10\" type=\"hidden\"/>\\n\\t\\t<input name=\"langs\" value=\"en\" type=\"hidden\"/>\\n\\t\\t<input name=\"st1rt\" value=\"1\" type=\"hidden\"/>\\n\\t\\t<input name=\"s5bm3ts21rch\" value=\"x\" type=\"hidden\"/>\\n\\t\\t    \\n\\t\\t\\n\\t\\t\\t<input id=\"wb-srch-q\" list=\"wb-srch-q-ac\" class=\"wb-srch-q form-control\" name=\"q\" type=\"search\" value=\"\" size=\"34\" maxlength=\"170\" placeholder=\"Search IRCC\"/>\\n\\t\\t\\n\\t\\t<input type=\"hidden\" name=\"_charset_\" value=\"UTF-8\"/>\\n\\n\\t\\t<datalist id=\"wb-srch-q-ac\">\\n\\t\\t</datalist>\\n\\t</div>\\n\\t<div class=\"form-group submit\">\\n\\t<button type=\"submit\" id=\"wb-srch-sub\" class=\"btn btn-primary btn-small\" name=\"wb-srch-sub\"><span class=\"glyphicon-search glyphicon\"></span><span class=\"wb-inv\">Search</span></button>\\n\\t</div>\\n</form>\\n\\n\\t\\t\\t\\t</section>\\n\\t\\t</div>\\n\\t</div>\\n\\t\\n\\t\\n\\t\\n\\t<nav class=\"gcweb-v2 gcweb-menu\" typeof=\"SiteNavigationElement\"><div class=\"container\">\\n\\t\\t<h2 class=\"wb-inv\">Menu</h2>\\n\\t\\t<button type=\"button\" aria-haspopup=\"true\" aria-expanded=\"false\"><span class=\"wb-inv\">Main </span>Menu <span class=\"expicon glyphicon glyphicon-chevron-down\"></span></button>\\n\\t\\t<ul role=\"menu\" aria-orientation=\"vertical\" data-ajax-replace=\"/content/dam/canada/sitemenu/sitemenu-v2-en.html\">\\n\\t<li role=\"presentation\"><a role=\"menuitem\" tabindex=\"-1\" href=\"https://www.canada.ca/en/services/jobs.html\">Jobs and the workplace</a></li>\\n\\t<li role=\"presentation\"><a role=\"menuitem\" tabindex=\"-1\" href=\"https://www.canada.ca/en/services/immigration-citizenship.html\">Immigration and citizenship</a></li>\\n\\t<li role=\"presentation\"><a role=\"menuitem\" tabindex=\"-1\" href=\"https://travel.gc.ca/\">Travel and tourism</a></li>\\n\\t<li role=\"presentation\"><a role=\"menuitem\" tabindex=\"-1\" href=\"https://www.canada.ca/en/services/business.html\">Business and industry</a></li>\\n\\t<li role=\"presentation\"><a role=\"menuitem\" tabindex=\"-1\" href=\"https://www.canada.ca/en/services/benefits.html\">Benefits</a></li>\\n\\t<li role=\"presentation\"><a role=\"menuitem\" tabindex=\"-1\" href=\"https://www.canada.ca/en/services/health.html\">Health</a></li>\\n\\t<li role=\"presentation\"><a role=\"menuitem\" tabindex=\"-1\" href=\"https://www.canada.ca/en/services/taxes.html\">Taxes</a></li>\\n\\t<li role=\"presentation\"><a role=\"menuitem\" tabindex=\"-1\" href=\"https://www.canada.ca/en/services/environment.html\">Environment and natural resources</a></li>\\n\\t<li role=\"presentation\"><a role=\"menuitem\" tabindex=\"-1\" href=\"https://www.canada.ca/en/services/defence.html\">National security and defence</a></li>\\n\\t<li role=\"presentation\"><a role=\"menuitem\" tabindex=\"-1\" href=\"https://www.canada.ca/en/services/culture.html\">Culture, history and sport</a></li>\\n\\t<li role=\"presentation\"><a role=\"menuitem\" tabindex=\"-1\" href=\"https://www.canada.ca/en/services/policing.html\">Policing, justice and emergencies</a></li>\\n\\t<li role=\"presentation\"><a role=\"menuitem\" tabindex=\"-1\" href=\"https://www.canada.ca/en/services/transport.html\">Transport and infrastructure</a></li>\\n\\t<li role=\"presentation\"><a role=\"menuitem\" tabindex=\"-1\" href=\"http://international.gc.ca/world-monde/index.aspx?lang=eng\">Canada and the world</a></li>\\n\\t<li role=\"presentation\"><a role=\"menuitem\" tabindex=\"-1\" href=\"https://www.canada.ca/en/services/finance.html\">Money and finances</a></li>\\n\\t<li role=\"presentation\"><a role=\"menuitem\" tabindex=\"-1\" href=\"https://www.canada.ca/en/services/science.html\">Science and innovation</a></li>\\n</ul>\\n\\t\\t\\n\\t</div></nav>\\n\\t\\n\\n\\t\\n\\t\\t<nav id=\"wb-bc\" property=\"breadcrumb\"><h2 class=\"wb-inv\">You are here:</h2><div class=\"container\"><ol class=\"breadcrumb\">\\n<li><a href=\\'/en.html\\'>Canada.ca</a></li>\\n<li><a href=\\'/en/immigration-refugees-citizenship.html\\'>Immigration, Refugees and Citizenship Canada</a></li>\\n<li><a href=\\'/en/immigration-refugees-citizenship/corporate.html\\'>Corporate information</a></li>\\n<li><a href=\\'/en/immigration-refugees-citizenship/corporate/reports-statistics.html\\'>Reports and statistics</a></li>\\n<li><a href=\\'/en/immigration-refugees-citizenship/corporate/reports-statistics/evaluations.html\\'>Evaluations</a></li>\\n</ol></div></nav>\\n\\n\\n\\n\\t\\n\\n\\n</header>\\n</div>\\n\\n    \\n\\n</div>\\n\\n    \\n\\n\\n\\n\\n\\t\\n\\n\\n\\n\\n\\n\\n\\n\\n\\n\\n\\n\\n\\n    <main property=\"mainContentOfPage\" resource=\"#wb-main\" typeof=\"WebPageElement\" class=\"container\">\\n        \\n\\n    <h1 property=\"name\" id=\"wb-cont\" dir=\"ltr\">\\nReview of the Migration Policy Development Program</h1>\\n\\n\\n\\n\\n        \\n\\t\\t\\t<div><div class=\"mwsbodytext text parbase section\">\\n    \\n\\n    \\n         <span class=\"wb-toggle\" data-toggle=\"{&quot;selector&quot;: &quot;main summary&quot;, &quot;print&quot;: &quot;on&quot;}\"></span>  \\n    \\n\\n\\n</div>\\n<div class=\"mwsbodytext text parbase section\">\\n    \\n\\n    \\n        <h2>February 2008</h2>\\n    \\n\\n\\n</div>\\n<div class=\"mwshorizontalrule parbase section\"><hr/>\\n</div>\\n<div class=\"mwsbodytext text parbase section\">\\n    \\n\\n    \\n        <h3>Table of contents</h3>\\n    \\n\\n\\n</div>\\n<div class=\"mwsbodytext text parbase section\">\\n    \\n\\n    \\n        <p><strong><a href=\"/en/immigration-refugees-citizenship/corporate/reports-statistics/evaluations/review-migration-policy-development-program/summary.html\" title=\"Executive summary\">Executive summary</a></strong></p>\\n<p><a href=\"/en/immigration-refugees-citizenship/corporate/reports-statistics/evaluations/review-migration-policy-development-program/acronyms.html\" title=\"List of acronyms and abbreviations\"><strong>List of acronyms and abbreviations</strong></a></p>\\n<p><strong><a href=\"/en/immigration-refugees-citizenship/corporate/reports-statistics/evaluations/review-migration-policy-development-program/intro.html\" title=\"1. Introduction\">1. Introduction</a></strong></p>\\n<p class=\"mrgn-lft-lg\"><a href=\"/en/immigration-refugees-citizenship/corporate/reports-statistics/evaluations/review-migration-policy-development-program/intro.html#overview\" title=\"1.1 Overview of MPDP\">1.1 Overview of <abbr title=\"Migration Policy Development Program\">MPDP</abbr></a><br>\\n<a href=\"/en/immigration-refugees-citizenship/corporate/reports-statistics/evaluations/review-migration-policy-development-program/intro.html#description\" title=\"1.2 MPDP description and resources\">1.2 <abbr title=\"Migration Policy Development Program\">MPDP</abbr> description and resources</a></p>\\n<p><strong><a href=\"/en/immigration-refugees-citizenship/corporate/reports-statistics/evaluations/review-migration-policy-development-program/methodology.html\" title=\"2. Methodology\">2. Methodology</a></strong></p>\\n<p class=\"mrgn-lft-lg\"><a href=\"/en/immigration-refugees-citizenship/corporate/reports-statistics/evaluations/review-migration-policy-development-program/methodology.html#context\" title=\"2.1 Review context\">2.1 Review context</a><br>\\n<a href=\"/en/immigration-refugees-citizenship/corporate/reports-statistics/evaluations/review-migration-policy-development-program/methodology.html#methodology\" title=\"2.2 Review methodology\">2.2 Review methodology</a></p>\\n<p><strong><a href=\"/en/immigration-refugees-citizenship/corporate/reports-statistics/evaluations/review-migration-policy-development-program/key-success.html\" title=\"3. Key findings: Success\">3. Key findings: Success</a></strong></p>\\n<p class=\"mrgn-lft-lg\"><a href=\"/en/immigration-refugees-citizenship/corporate/reports-statistics/evaluations/review-migration-policy-development-program/key-success.html#inter\" title=\"3.1 Inter-Governmental Consultations on Asylum, Refugee and Migration Policies\">3.1 Inter-Governmental Consultations on Asylum, Refugee and Migration Policies</a><br>\\n<a href=\"/en/immigration-refugees-citizenship/corporate/reports-statistics/evaluations/review-migration-policy-development-program/key-success.html#regional\" title=\"3.2 Regional Conference on Migration\">3.2 Regional Conference on Migration</a><br>\\n<a href=\"/en/immigration-refugees-citizenship/corporate/reports-statistics/evaluations/review-migration-policy-development-program/key-success.html#migration\" title=\"3.3 Migration Policy Institute\">3.3 Migration Policy Institute</a></p>\\n<p><strong><a href=\"/en/immigration-refugees-citizenship/corporate/reports-statistics/evaluations/review-migration-policy-development-program/key-relevance.html\" title=\"4. Key findings: Relevance\">4. Key findings: Relevance</a></strong></p>\\n<p class=\"mrgn-lft-lg\"><a href=\"/en/immigration-refugees-citizenship/corporate/reports-statistics/evaluations/review-migration-policy-development-program/key-relevance.html#inter\" title=\"4.1 Inter-Governmental Consultations on Asylum, Refugee and Migration Policies\">4.1 Inter-Governmental Consultations on Asylum, Refugee and Migration Policies</a><br>\\n<a href=\"/en/immigration-refugees-citizenship/corporate/reports-statistics/evaluations/review-migration-policy-development-program/key-relevance.html#regional\" title=\"4.2 Regional Conference on Migration\">4.2 Regional Conference on Migration</a><br>\\n<a href=\"/en/immigration-refugees-citizenship/corporate/reports-statistics/evaluations/review-migration-policy-development-program/key-relevance.html#migration\" title=\"4.3 Migration Policy Institute\">4.3 Migration Policy Institute</a></p>\\n<p><strong><a href=\"/en/immigration-refugees-citizenship/corporate/reports-statistics/evaluations/review-migration-policy-development-program/conclusions.html\" title=\"5. Conclusions\">5. Conclusions</a></strong></p>\\n<p><a href=\"/en/immigration-refugees-citizenship/corporate/reports-statistics/evaluations/review-migration-policy-development-program/response.html\" title=\"Migration Policy Development Program review management response\"><strong><abbr title=\"Migration Policy Development Program\">MPDP</abbr> review management response</strong></a></p>\\n<p><strong>List of annexes</strong></p>\\n<p class=\"mrgn-lft-lg\"><strong><a href=\"/en/immigration-refugees-citizenship/corporate/reports-statistics/evaluations/review-migration-policy-development-program/appendixa.html\" title=\"Annex A – List of documents reviewed\">Annex A – List of documents reviewed<br>\\n </a><a href=\"/en/immigration-refugees-citizenship/corporate/reports-statistics/evaluations/review-migration-policy-development-program/appendixb.html\" title=\"Annex B – Interview guide\">Annex B – Interview guide<br>\\n </a><a href=\"/en/immigration-refugees-citizenship/corporate/reports-statistics/evaluations/review-migration-policy-development-program/appendixc.html\" title=\"Annex C – Interview list\">Annex C – Interview list<br>\\n </a><a href=\"/en/immigration-refugees-citizenship/corporate/reports-statistics/evaluations/review-migration-policy-development-program/appendixd.html\" title=\"Annex D – IGC activities and outputs\">Annex D – <abbr title=\"Inter-Governmental Consultations on Asylum, Refugee and Migration Policies\">IGC</abbr> activities and outputs<br>\\n </a><a href=\"/en/immigration-refugees-citizenship/corporate/reports-statistics/evaluations/review-migration-policy-development-program/appendixe.html\" title=\"Annex E – RCM workshops\">Annex E – <abbr title=\"Regional Conference on Migration\">RCM</abbr> workshops<br>\\n </a><a href=\"/en/immigration-refugees-citizenship/corporate/reports-statistics/evaluations/review-migration-policy-development-program/appendixf.html\" title=\"Annex F – MPI outputs\">Annex F – <abbr title=\"Migration Policy Institute\">MPI</abbr> outputs</a></strong></p>\\n<p>Prepared for Research and Evaluation Branch<br>\\nCitizenship and Immigration Canada</p>\\n<p>In support of Treasury Board reporting requirements</p>\\n<ul class=\"pagination\">\\n<li class=\"disabled\"><a rel=\"prev\">Previous</a></li>\\n<li class=\"active\"><a href=\"/en/immigration-refugees-citizenship/corporate/reports-statistics/evaluations/review-migration-policy-development-program.html\">1 <span class=\"wb-inv\">(current)</span></a></li>\\n<li><a href=\"/en/immigration-refugees-citizenship/corporate/reports-statistics/evaluations/review-migration-policy-development-program/summary.html\">2</a></li>\\n<li><a href=\"/en/immigration-refugees-citizenship/corporate/reports-statistics/evaluations/review-migration-policy-development-program/acronyms.html\">3</a></li>\\n<li><a href=\"/en/immigration-refugees-citizenship/corporate/reports-statistics/evaluations/review-migration-policy-development-program/intro.html\">4</a></li>\\n<li><a href=\"/en/immigration-refugees-citizenship/corporate/reports-statistics/evaluations/review-migration-policy-development-program/methodology.html\">5</a></li>\\n<li><a href=\"/en/immigration-refugees-citizenship/corporate/reports-statistics/evaluations/review-migration-policy-development-program/key-success.html\">6</a></li>\\n<li><a href=\"/en/immigration-refugees-citizenship/corporate/reports-statistics/evaluations/review-migration-policy-development-program/key-relevance.html\">7</a></li>\\n<li><a href=\"/en/immigration-refugees-citizenship/corporate/reports-statistics/evaluations/review-migration-policy-development-program/conclusions.html\">8</a></li>\\n<li><a href=\"/en/immigration-refugees-citizenship/corporate/reports-statistics/evaluations/review-migration-policy-development-program/response.html\">9</a></li>\\n<li><a href=\"/en/immigration-refugees-citizenship/corporate/reports-statistics/evaluations/review-migration-policy-development-program/appendixa.html\">10</a></li>\\n<li><a href=\"/en/immigration-refugees-citizenship/corporate/reports-statistics/evaluations/review-migration-policy-development-program/appendixb.html\">11</a></li>\\n<li><a href=\"/en/immigration-refugees-citizenship/corporate/reports-statistics/evaluations/review-migration-policy-development-program/appendixc.html\">12</a></li>\\n<li><a href=\"/en/immigration-refugees-citizenship/corporate/reports-statistics/evaluations/review-migration-policy-development-program/appendixd.html\">13</a></li>\\n<li><a href=\"/en/immigration-refugees-citizenship/corporate/reports-statistics/evaluations/review-migration-policy-development-program/appendixe.html\">14</a></li>\\n<li><a href=\"/en/immigration-refugees-citizenship/corporate/reports-statistics/evaluations/review-migration-policy-development-program/appendixf.html\">15</a></li>\\n<li><a href=\"/en/immigration-refugees-citizenship/corporate/reports-statistics/evaluations/review-migration-policy-development-program/summary.html\" rel=\"next\">Next</a></li>\\n</ul>\\n\\n    \\n\\n\\n</div>\\n\\n</div>\\n        \\n        <div class=\"pagedetails \">\\n<div class=\"row\">\\n<div class=\"col-sm-6 col-md-5 col-lg-4\">\\n    <details class=\"brdr-0\">\\n        \\n<summary class=\"btn btn-default text-center\">Report a problem or mistake on this page</summary>\\n<div class=\"clearfix\"></div>\\n<div class=\"well row\">\\n    <div><div class=\"gc-rprt-prblm\">\\n    <div class=\"gc-rprt-prblm-frm gc-rprt-prblm-tggl\">\\t\\t\\t\\n\\t\\t\\t<form id=\"gc-rprt-prblm-form\" action=\"/gc/services/notify\" method=\"post\">\\n\\t\\t\\t\\n\\t\\t\\t<input name=\"emailTemplateservcanE\" type=\"hidden\" value=\"ZmVlZGJhY2stcmV0cm9hY3Rpb25AY2FuYWRh\">\\n\\t\\t\\t<input name=\"emailTemplate\" type=\"hidden\" value=\"90663d71-5f83-4e26-8817-f46db3e05513\">\\n\\t\\t\\t<input name=\"successUrl\" type=\"hidden\" value=\"/content/canadasite/en/contact/questionsthanks.html\"> \\n\\t\\t\\t<input name=\"failureUrl\" type=\"hidden\" value=\"/content/canadasite/en/contact/questionsfailure.html\"> \\n\\t\\t\\t\\n\\t\\t\\t<input type=\"hidden\" name=\"externalReferer\" value=\"\">\\n\\t\\t\\t\\t\\n            <input type=\"hidden\" name=\"pageTitle\" value=\"Review of the Migration Policy Development Program\">\\n            <input type=\"hidden\" name=\"submissionPage\" value=\"/content/canadasite/en/immigration-refugees-citizenship/corporate/reports-statistics/evaluations/review-migration-policy-development-program.html\">\\n            <input type=\"hidden\" name=\"lang\" value=\"en\">\\n            <input type=\"hidden\" name=\"pageOwner\" value=\"gc:institutions/department-of-citizenship-and-immigration\">\\n            <input name=\"subject\" type=\"hidden\" value=\"Report a problem or mistake on this page\">\\n            <fieldset>\\n                <legend><span class=\"field-name\">Please select all that apply:</span></legend>\\n                 <div class=\"checkbox\">\\n                    <label for=\"problem1\"><input name=\"problem1\" id=\"problem1\" type=\"checkbox\" value=\"Yes\" data-reveal=\"#broken\" data-gc-analytics-rap=\"A link, button or video is not working-Un lien, un bouton ou une vidéo ne fonctionne pas\">A link, button or video is not working</label>\\n                    <input name=\"problem1\" type=\"hidden\" value=\"\">\\n                </div>\\n                <div class=\"checkbox\">\\n                    <label for=\"problem2\"><input name=\"problem2\" id=\"problem2\" type=\"checkbox\" value=\"Yes\" data-reveal=\"#spelling\" data-gc-analytics-rap=\"It has a spelling mistake-Il y a une erreur d\\'orthographe ou de grammaire\">It has a spelling mistake</label>\\n                    <input name=\"problem2\" type=\"hidden\" value=\"\">\\n                </div>\\n                <div class=\"checkbox\">\\n                    <label for=\"problem3\"><input name=\"problem3\" id=\"problem3\" type=\"checkbox\" value=\"Yes\" data-reveal=\"#wrong\" data-gc-analytics-rap=\"Information is missing-Les renseignements sont incomplets\">Information is missing</label>\\n                    <input name=\"problem3\" type=\"hidden\" value=\"\">\\n               </div>\\n                <div class=\"checkbox\">\\n                    <label for=\"problem4\"><input name=\"problem4\" id=\"problem4\" type=\"checkbox\" value=\"Yes\" data-reveal=\"#outdated\" data-gc-analytics-rap=\" Information is outdated or wrong-L\\'information n\\'est plus à jour ou est erronée\">Information is outdated or wrong</label>\\n                    <input name=\"problem4\" type=\"hidden\" value=\"\">\\n                </div>\\n                <div class=\"checkbox\">\\n                    <label for=\"problem5\"><input name=\"problem5\" id=\"problem5\" type=\"checkbox\" value=\"Yes\" data-reveal=\"#find\" data-gc-analytics-rap=\" Login error when trying to access an account (e.g. My Service Canada Account)-Message d\\'erreur à l\\'ouverture de la session lorsque je tente d\\'accéder à un compte (ex. Mon dossier Service Canada)\">Login error when trying to access an account (e.g. My Service Canada Account)</label>\\n                    <input name=\"problem5\" type=\"hidden\" value=\"\">\\n                </div>\\n   \\t\\t\\t\\t\\t<ul>\\n\\t\\t\\t\\t\\t<li class=\"checkbox\">\\n                        <label for=\"problem6a\"><input name=\"problem6\" id=\"problem6a\" type=\"checkbox\" value=\"Yes\" data-reveal=\"#find\" data-gc-analytics-rap=\"GC Key access-Accès CléGC\">GC Key access</label>\\n                        <input name=\"problem6\" type=\"hidden\" value=\"\">\\n                     </li>\\n\\t\\t\\t\\t\\t<li class=\"checkbox\">\\n                        <label for=\"problem7\"><input name=\"problem7\" id=\"problem7\" type=\"checkbox\" value=\"Yes\" data-reveal=\"#find\" data-gc-analytics-rap=\"SecureKey Concierge (Banking Credential) access-Accès SecureKey Service de Concierge (justificatifs d\\'identité bancaires)\">SecureKey Concierge (Banking Credential) access </label>\\n                        <input name=\"problem7\" type=\"hidden\" value=\"\">\\n                     </li>\\n\\t\\t\\t\\t\\t<li class=\"checkbox\">\\n                        <label for=\"problem8\"><input name=\"problem8\" id=\"problem8\" type=\"checkbox\" value=\"Yes\" data-reveal=\"#find\" data-gc-analytics-rap=\"Personal Access Code (PAC) problems or EI Access Code (AC) problems-Problème avec le Code d\\'accès personnel (CAP) ou avec le Code d\\'accès (CA) de l\\'assurance emploi\">Personal Access Code (PAC) problems or EI Access Code (AC) problems</label>\\n                        <input name=\"problem8\" type=\"hidden\" value=\"\">\\n                     </li>\\t\\n\\t\\t\\t\\t\\t<li class=\"checkbox\">\\n                        <label for=\"problem9\"><input name=\"problem9\" id=\"problem9\" type=\"checkbox\" value=\"Yes\" data-reveal=\"#find\" data-gc-analytics-rap=\"Social Insurance Number (SIN) validation problems-Problème lié à la validation du numéro d\\'assurance sociale (NAS)\">Social Insurance Number (SIN) validation problems</label>\\n                        <input name=\"problem9\" type=\"hidden\" value=\"\">\\n                     </li>\\t\\t\\t\\t\\t\\t\\t\\t\\n\\t\\t\\t\\t\\t<li class=\"checkbox\">\\n                        <label for=\"problem10\"><input name=\"problem10\" id=\"problem10\" type=\"checkbox\" value=\"Yes\" data-reveal=\"#find\" data-gc-analytics-rap=\"Other login error not in this list-Autre erreur lors de l\\'ouverture de session qui ne figure pas sur cette liste\">Other login error not in this list</label>\\n                        <input name=\"problem10\" type=\"hidden\" value=\"\">\\n                     </li>\\t\\t \\n                     </ul>\\n\\t\\t\\t\\t    <div class=\"checkbox\">\\n                    <label for=\"problem11\"><input name=\"problem11\" id=\"problem11\" type=\"checkbox\" value=\"Yes\" data-reveal=\"#find\" data-gc-analytics-rap=\"I can\\'t find what I\\'m looking for-Je n\\'arrive pas à trouver ce que je cherche\">I can\\'t find what I\\'m looking for</label>\\n                    <input name=\"problem11\" type=\"hidden\" value=\"\">\\n                </div>\\n             \\t\\t<div class=\"checkbox\">\\n                    <label for=\"problem12\"><input name=\"problem12\" id=\"problem12\" type=\"checkbox\" value=\"Yes\" data-reveal=\"#find\" data-gc-analytics-rap=\"Other issue not in this list-Autre problème qui ne figure pas sur cette liste\">Other issue not in this list</label>\\n                    <input name=\"problem12\" type=\"hidden\" value=\"\">\\n                </div>                 \\n                   </fieldset>\\n            <button data-wb5-click=\"postback@#gc-rprt-prblm-form@\" type=\"submit\" class=\"btn btn-primary wb-toggle\" data-toggle=\\'{\"stateOff\": \"hide\", \"stateOn\": \"show\", \"selector\": \".gc-rprt-prblm-tggl\"}\\'>Submit</button>\\n\\n        </form>\\n    </div>\\n    <div class=\"gc-rprt-prblm-thnk gc-rprt-prblm-tggl hide\">\\n        <h3>Thank you for your help!</h3>\\n<p>You will not receive a reply. For enquiries,&nbsp;<a href=\"https://www.canada.ca/en/contact/index.html\">contact us</a>.</p>\\n\\n    </div>\\n</div></div>\\n</div>\\n\\n    </details>\\n</div>\\n       \\t<div class=\"col-sm-4 col-md-3 col-sm-offset-2 col-md-offset-4 col-lg-offset-5\">\\n        <div class=\"wb-share\" data-wb-share=\\'{&#34;lnkClass&#34;: &#34;btn btn-default btn-block&#34;}\\'></div>\\n        </div>\\n</div>\\n        <dl id=\"wb-dtmd\">\\n    <dt>Date modified:</dt>\\n    <dd><time property=\"dateModified\">2009-04-07</time></dd>\\n</dl>\\n</div>\\n    </main>\\n\\n\\n\\n    \\n\\n\\n\\n\\n    \\n        \\n        \\n        <div class=\"newpar new section\">\\n\\n</div>\\n\\n    \\n        \\n        \\n        <div class=\"par iparys_inherited\">\\n\\n    \\n    \\n    \\n    \\n\\n</div>\\n\\n    \\n\\n\\n\\n\\n    \\n\\n\\n\\n\\n    \\n        \\n        \\n        <div class=\"newpar new section\">\\n\\n</div>\\n\\n    \\n        \\n        \\n        <div class=\"par iparys_inherited\">\\n\\n    \\n    \\n    \\n    \\n        \\n        \\n        <div class=\"global-footer\">\\n    <footer id=\"wb-info\">\\n        <div class=\"landscape\">\\n        <nav class=\"container wb-navcurr\">\\n            <h2 class=\"wb-inv\">About government</h2>\\n            <ul class=\"list-unstyled colcount-sm-2 colcount-md-3\">\\n                \\n                     \\n                         <li><a href=\"/en/immigration-refugees-citizenship/corporate/contact-ircc.html\">Contact us </a></li>\\n                     \\n                \\n                \\n                    \\n                        <li><a href=\"/en/government/dept.html\">Departments and agencies</a></li>\\n                    \\n                \\n                \\n                    \\n                        <li><a href=\"/en/government/publicservice.html\">Public service and military</a></li>\\n                    \\n                \\n                \\n                    \\n                        <li><a href=\"/en/news.html\">News</a></li>\\n                    \\n                \\n                \\n                    \\n                        <li><a href=\"/en/government/system/laws.html\">Treaties, laws and regulations</a></li>\\n                    \\n                \\n                \\n                    \\n                        <li><a href=\"/en/transparency/reporting.html\">Government-wide reporting</a></li>\\n                    \\n                \\n                \\n                    \\n                        <li><a href=\"http://pm.gc.ca/en\">Prime Minister</a></li>\\n                    \\n                \\n                \\n                    \\n                        <li><a href=\"/en/government/system.html\">About government</a></li>\\n                    \\n                \\n                \\n                    \\n                        <li><a href=\"http://open.canada.ca/en\">Open government</a></li>\\n                    \\n                \\n            </ul>\\n        </nav>\\n        </div>\\n        <div class=\"brand\">\\n            <div class=\"container\">\\n                <div class=\"row\">\\n                    <nav class=\"col-md-10 ftr-urlt-lnk\">\\n                        <h2 class=\"wb-inv\">About this site</h2>\\n                        <ul>\\n                            \\n                                \\n                                    <li><a href=\"/en/social.html\">Social media</a></li>\\n                                \\n                            \\n                            \\n                                \\n                                    <li><a href=\"/en/mobile.html\">Mobile applications</a></li>\\n                                \\n                            \\n                            \\n                                \\n                                    <li><a href=\"/en/government/about.html\">About Canada.ca</a></li>\\n                                \\n                            \\n                            \\n                                \\n                                    <li><a href=\"/en/transparency/terms.html\">Terms and conditions</a></li>\\n                                \\n                            \\n                            \\n                                \\n                                    <li><a href=\"/en/transparency/privacy.html\">Privacy</a></li>\\n                                \\n                            \\n                            \\n                                \\n                            \\n                        </ul>\\n                    </nav>\\n                    <div class=\"col-xs-6 visible-sm visible-xs tofpg\">\\n                        <a href=\"#wb-cont\">Top of page <span class=\"glyphicon glyphicon-chevron-up\"></span></a>\\n                    </div>\\n                    <div class=\"col-xs-6 col-md-2 text-right\">\\n                        <img src=\"/etc/designs/canada/wet-boew/assets/wmms-blk.svg\" alt=\"Symbol of the Government of Canada\"/>\\n                    </div>\\n                </div>\\n            </div>\\n        </div>\\n    </footer>\\n\\n</div>\\n\\n    \\n\\n</div>\\n\\n    \\n\\n\\n\\n\\n    \\n\\n\\n\\n\\n\\n\\n\\n    <script type=\"text/javascript\">_satellite.pageBottom();</script>\\n\\n\\n\\n\\n\\n\\n\\n\\n    \\n<script src=\"/etc.clientlibs/clientlibs/granite/jquery.min.js\"></script>\\n<script src=\"/etc.clientlibs/clientlibs/granite/utils.min.js\"></script>\\n<script src=\"/etc/designs/canada/clientlib-publish.min.js\"></script>\\n\\n\\n\\n\\n<script src=\"//ajax.googleapis.com/ajax/libs/jquery/2.1.1/jquery.min.js\"></script>\\n<script src=\"/etc/designs/canada/wet-boew/js/wet-boew.min.js\"></script>\\n\\n<script src=\"/etc/designs/canada/wet-boew/js/theme.min.js\"></script>\\n</body>\\n</html>\\n', 'meta': {'name': 'file-10287.txt'}}, {'text': '<!doctype html>\\n\\n\\n<html class=\"no-js\" dir=\"ltr\" lang=\"en\" xmlns=\"http://www.w3.org/1999/xhtml\">\\n\\n<head prefix=\"og: http://ogp.me/ns#\">\\n    \\n<meta http-equiv=\"X-UA-Compatible\" content=\"IE=edge\"/>\\n<meta charset=\"utf-8\"/>\\n<title>Request to process overseas family members under the one-year window of opportunity provision (OYW) - Canada.ca</title>\\n<meta content=\"width=device-width,initial-scale=1\" name=\"viewport\"/>\\n\\n\\n\\t<link rel=\"schema.dcterms\" href=\"http://purl.org/dc/terms/\"/>\\n\\t\\n\\t\\t<meta name=\"description\" content=\"Request to process overseas family members under the one-year window of opportunity provision (OYW)\"/>\\n\\t\\n\\t\\n\\t\\t<meta name=\"keywords\" content=\"Applications; Forms; Family members; Adoption; Sponsorship; Family class immigrants\"/>\\n\\t\\n\\t\\n\\t\\t<meta name=\"author\" content=\"Immigration, Refugees and Citizenship Canada\"/>\\n\\t\\n\\t\\n\\t\\t<meta name=\"dcterms.title\" content=\"Request to process overseas family members under the one-year window of opportunity provision (OYW)\"/>\\n\\t\\n\\t\\n\\t\\t<meta name=\"dcterms.description\" content=\"Request to process overseas family members under the one-year window of opportunity provision (OYW)\"/>\\n\\t\\n\\t\\n\\t\\t<meta name=\"dcterms.creator\" content=\"Immigration, Refugees and Citizenship Canada\"/>\\n\\t\\n\\t\\n\\t\\n\\t\\t<meta name=\"dcterms.language\" title=\"ISO639-2/T\" content=\"eng\"/>\\n\\t\\n\\t\\n\\t\\n\\t\\t<meta name=\"dcterms.issued\" title=\"W3CDTF\" content=\"2006-01-23\"/>\\n\\t\\n\\t\\n\\t\\t<meta name=\"dcterms.modified\" title=\"W3CDTF\" content=\"2019-05-10\"/>\\n\\t\\n\\t\\n\\t\\t<meta name=\"dcterms.audience\" content=\"general public\"/>\\n\\t\\n\\t\\n\\t\\t<meta name=\"dcterms.spatial\" content=\"Canada\"/>\\n\\t\\n\\t\\n\\t\\t<meta name=\"dcterms.type\" content=\"not available\"/>\\n\\t\\n\\t\\n\\t\\n\\t\\n\\t\\n\\t\\t<meta name=\"dcterms.source\" content=\"aem\"/>\\n\\t\\n\\t\\n\\t\\t<meta name=\"dcterms.identifier\" content=\"Immigration _Refugees_and_Citizenship_Canada\"/>\\n\\t\\n\\t\\n\\t\\n\\t\\n    \\n    \\n\\n\\n\\n\\t<meta prefix=\"fb: https://www.facebook.com/2008/fbml\" property=\"fb:pages\" content=\"378967748836213, 160339344047502, 184605778338568, 237796269600506, 10860597051, 14498271095, 209857686718, 160504807323251, 111156792247197, 113429762015861, 502566449790031, 312292485564363, 1471831713076413, 22724568071, 17294463927, 1442463402719857, 247990812241506, 730097607131117, 1142481292546228, 1765602380419601, 131514060764735, 307780276294187, 427238637642566, 525934210910141, 1016214671785090, 192657607776229, 586856208161152, 1146080748799944, 408143085978521, 490290084411688, 163828286987751, 565688503775086, 460123390028, 318424514044, 632493333805962, 370233926766473, 173004244677, 1562729973959056, 362400293941960, 769857139754987, 167891083224996, 466882737009651, 126404198009505, 135409166525475, 664638680273646, 169011506491295, 217171551640146, 182842831756930, 1464645710444681, 218822426028, 218740415905, 123326971154939, 125058490980757, 1062292210514762, 1768389106741505, 310939332270090, 285960408117397, 985916134909087, 655533774808209, 1522633664630497, 686814348097821, 230798677012118, 320520588000085, 103201203106202, 273375356172196, 61263506236, 353102841161, 1061339807224729, 1090791104267764, 395867780593657, 1597876400459657, 388427768185631, 937815283021844, 207409132619743, 1952090675003143, 206529629372368, 218566908564369, 175257766291975, 118472908172897, 767088219985590, 478573952173735, 465264530180856, 317418191615817, 428040827230778, 222493134493922, 196833853688656, 194633827256676, 252002641498535, 398018420213195, 265626156847421, 202442683196210, 384350631577399, 385499078129720, 178433945604162, 398240836869162, 326182960762584, 354672164565195, 375081249171867, 333050716732105, 118996871563050, 240349086055056, 119579301504003, 185184131584797, 333647780005544, 306255172770146, 369589566399283, 117461228379000, 349774478396157, 201995959908210, 307017162692056, 145928592172074, 122656527842056\">\\n\\n\\n\\t\\n\\n\\n    \\n\\n\\n\\t<script src=\"//assets.adobedtm.com/be5dfd287373/abb618326704/launch-3eac5e076135.min.js\"></script>\\n\\n\\n\\n\\n\\n\\n\\n\\n\\n\\n<link rel=\"stylesheet\" href=\"/etc/designs/canada/wet-boew/css/wet-boew.min.css\"/>\\n<link rel=\"stylesheet\" href=\"/etc/designs/canada/wet-boew/css/theme.min.css\"/>\\n<link rel=\"stylesheet\" href=\"https://use.fontawesome.com/releases/v5.8.1/css/all.css\" integrity=\"sha384-50oBUHEmvpQ+1lW4y57PTFmhCaXp0ML5d60M1M7uH2+nqUivzIebhndOJK28anvf\" crossorigin=\"anonymous\"/>\\n\\n\\n<link href=\"/etc/designs/canada/wet-boew/assets/favicon.ico\" rel=\"icon\" type=\"image/x-icon\"/>\\n\\n\\n<noscript><link rel=\"stylesheet\" href=\"/etc/designs/canada/wet-boew/css/noscript.min.css\"/></noscript>\\n<script>dataLayer = []; dataLayer1 = [];</script>\\n\\n                          <script>!function(a){var e=\"https://s.go-mpulse.net/boomerang/\",t=\"addEventListener\";if(\"False\"==\"True\")a.BOOMR_config=a.BOOMR_config||{},a.BOOMR_config.PageParams=a.BOOMR_config.PageParams||{},a.BOOMR_config.PageParams.pci=!0,e=\"https://s2.go-mpulse.net/boomerang/\";if(window.BOOMR_API_key=\"KBFUZ-C9D7G-RB8SX-GRGEN-HGMC9\",function(){function n(e){a.BOOMR_onload=e&&e.timeStamp||(new Date).getTime()}if(!a.BOOMR||!a.BOOMR.version&&!a.BOOMR.snippetExecuted){a.BOOMR=a.BOOMR||{},a.BOOMR.snippetExecuted=!0;var i,_,o,r=document.createElement(\"iframe\");if(a[t])a[t](\"load\",n,!1);else if(a.attachEvent)a.attachEvent(\"onload\",n);r.src=\"javascript:void(0)\",r.title=\"\",r.role=\"presentation\",(r.frameElement||r).style.cssText=\"width:0;height:0;border:0;display:none;\",o=document.getElementsByTagName(\"script\")[0],o.parentNode.insertBefore(r,o);try{_=r.contentWindow.document}catch(O){i=document.domain,r.src=\"javascript:var d=document.open();d.domain=\\'\"+i+\"\\';void(0);\",_=r.contentWindow.document}_.open()._l=function(){var a=this.createElement(\"script\");if(i)this.domain=i;a.id=\"boomr-if-as\",a.src=e+\"KBFUZ-C9D7G-RB8SX-GRGEN-HGMC9\",BOOMR_lstart=(new Date).getTime(),this.body.appendChild(a)},_.write(\"<bo\"+\\'dy onload=\"document._l();\">\\'),_.close()}}(),\"\".length>0)if(a&&\"performance\"in a&&a.performance&&\"function\"==typeof a.performance.setResourceTimingBufferSize)a.performance.setResourceTimingBufferSize();!function(){if(BOOMR=a.BOOMR||{},BOOMR.plugins=BOOMR.plugins||{},!BOOMR.plugins.AK){var e=\"\"==\"true\"?1:0,t=\"\",n=\"ejlm673iouyqkybzpqda-f-c99cd6d2d-clientnsv4-s.akamaihd.net\",i={\"ak.v\":\"30\",\"ak.cp\":\"368225\",\"ak.ai\":parseInt(\"231651\",10),\"ak.ol\":\"0\",\"ak.cr\":1,\"ak.ipv\":4,\"ak.proto\":\"http/1.1\",\"ak.rid\":\"a3530dd\",\"ak.r\":26341,\"ak.a2\":e,\"ak.m\":\"dscb\",\"ak.n\":\"essl\",\"ak.bpcip\":\"34.86.207.0\",\"ak.cport\":48148,\"ak.gh\":\"65.158.180.167\",\"ak.quicv\":\"\",\"ak.tlsv\":\"tls1.3\",\"ak.0rtt\":\"\",\"ak.csrc\":\"-\",\"ak.acc\":\"reno\",\"ak.t\":\"1614380038\",\"ak.ak\":\"hOBiQwZUYzCg5VSAfCLimQ==I24ok1BAphfLwJHkjeW+lbiSwY+MYPPlGkbi08maNOchmGhoPAcubkxZfy+pOiztcxRYNzoMBDwPWCwYJ/RGR2IkqYZzDjGo5/alfVCZeozIU6khkUjV4k7wIycRtZhz/y+geFm6UAbETuGtChAf/8z4NfdBp5oFGZHqVsbZgmx7cde2csod1XJ0KIvvBDs4lW1I+gWD3ea0xyZC2Wc8NFMU8a8O8h7/AzGMYhmKwAuXREGxY/QDDOJKoufZ5iNSWkrfK/5sJeK02NqK9Z0FHG1lZpnhqpzzl0hF8pqZloXNJZvCxi8H2f4YUEwklbztJ3q9SlZ3+hPD4sMpUHmVU0XK4SpFjrH9PDO9PtHBVI0tgReNYjN4Wgyq+oHNOyA5kkdgLHhXNaMNUWfhxd91xVq5l3FOxQJXp+cynSXbEsY=\",\"ak.pv\":\"595\",\"ak.dpoabenc\":\"\"};if(\"\"!==t)i[\"ak.ruds\"]=t;var _={i:!1,av:function(e){var t=\"http.initiator\";if(e&&(!e[t]||\"spa_hard\"===e[t]))i[\"ak.feo\"]=void 0!==a.aFeoApplied?1:0,BOOMR.addVar(i)},rv:function(){var a=[\"ak.bpcip\",\"ak.cport\",\"ak.cr\",\"ak.csrc\",\"ak.gh\",\"ak.ipv\",\"ak.m\",\"ak.n\",\"ak.ol\",\"ak.proto\",\"ak.quicv\",\"ak.tlsv\",\"ak.0rtt\",\"ak.r\",\"ak.acc\",\"ak.t\"];BOOMR.removeVar(a)}};BOOMR.plugins.AK={akVars:i,akDNSPreFetchDomain:n,init:function(){if(!_.i){var a=BOOMR.subscribe;a(\"before_beacon\",_.av,null,null),a(\"onbeacon\",_.rv,null,null),_.i=!0}return this},is_complete:function(){return!0}}}}()}(window);</script></head>\\n\\n<body vocab=\"http://schema.org/\" typeof=\"WebPage\">\\n\\n    \\n\\n\\n\\n\\n    \\n        \\n        \\n        <div class=\"newpar new section\">\\n\\n</div>\\n\\n    \\n        \\n        \\n        <div class=\"par iparys_inherited\">\\n\\n    \\n    \\n    \\n    \\n        \\n        \\n        <div class=\"global-header\"><nav><ul id=\"wb-tphp\">\\n\\t<li class=\"wb-slc\"><a class=\"wb-sl\" href=\"#wb-cont\">Skip to main content</a></li>\\n\\t<li class=\"wb-slc\"><a class=\"wb-sl\" href=\"#wb-info\">Skip to &#34;About government&#34;</a></li>\\n\\t\\n</ul></nav>\\n\\n<header>\\n\\t<div id=\"wb-bnr\" class=\"container\">\\n\\t\\t<div class=\"row\">\\n\\t\\t\\t\\n\\t\\t\\t<section id=\"wb-lng\" class=\"col-xs-3 col-sm-12 pull-right text-right\">\\n    <h2 class=\"wb-inv\">Language selection</h2>\\n    <div class=\"row\">\\n        <div class=\"col-md-12\">\\n            <ul class=\"list-inline mrgn-bttm-0\">\\n                <li>\\n                    <a lang=\"fr\" href=\"/fr/immigration-refugies-citoyennete/services/demande/formulaires-demande-guides/demande-traitement-visant-membres-famille-delai-prescrit-un-an.html\">\\n                        \\n                            <span class=\"hidden-xs\">Fran&ccedil;ais</span>\\n                            <abbr title=\"Fran&ccedil;ais\" class=\"visible-xs h3 mrgn-tp-sm mrgn-bttm-0 text-uppercase\">fr</abbr>\\n                        \\n                        \\n                    </a>\\n                </li>\\n                \\n                \\n            </ul>\\n        </div>\\n    </div>\\n</section>\\n\\t\\t\\t\\t<div class=\"brand col-xs-9 col-sm-5 col-md-4\" property=\"publisher\" typeof=\"GovernmentOrganization\">\\n\\t\\t\\t\\t\\t\\n                    \\n\\t\\t\\t\\t\\t\\n\\t\\t\\t\\t\\t\\t\\n\\t\\t\\t\\t\\t\\t<a href=\"/en.html\" property=\"url\">\\n\\t\\t\\t\\t\\t\\t\\t<img src=\"/etc/designs/canada/wet-boew/assets/sig-blk-en.svg\" alt=\"Government of Canada\" property=\"logo\"/>\\n\\t\\t\\t\\t\\t\\t\\t<span class=\"wb-inv\"> /\\n\\t\\t\\t\\t\\t\\t\\t\\t\\n\\t\\t\\t\\t\\t\\t\\t\\t<span lang=\"fr\">Gouvernement du Canada</span>\\n\\t\\t\\t\\t\\t\\t\\t</span>\\n\\t\\t\\t\\t\\t\\t</a>\\n\\t\\t\\t\\t\\t\\n\\t\\t\\t\\t\\t<meta property=\"name\" content=\"Government of Canada\"/>\\n\\t\\t\\t\\t\\t<meta property=\"areaServed\" typeof=\"Country\" content=\"Canada\"/>\\n\\t\\t\\t\\t\\t<link property=\"logo\" href=\"/etc/designs/canada/wet-boew/assets/wmms-blk.svg\"/>\\n\\t\\t\\t\\t</div>\\n\\t\\t\\t\\t<section id=\"wb-srch\" class=\"col-lg-offset-4 col-md-offset-4 col-sm-offset-2 col-xs-12 col-sm-5 col-md-4\">\\n\\t\\t\\t\\t\\t<h2>Search</h2>\\n\\t\\t\\t\\t\\t\\n<form action=\"/en/services/immigration-citizenship/search.html\" method=\"get\" name=\"cse-search-box\" role=\"search\">\\n\\t<div class=\"form-group wb-srch-qry\">\\n\\t\\t<label for=\"wb-srch-q\" class=\"wb-inv\">Search Canada.ca</label>\\n\\t\\t<input name=\"cdn\" value=\"canada\" type=\"hidden\"/>\\n\\t\\t<input name=\"st\" value=\"s\" type=\"hidden\"/>\\n\\t\\t<input name=\"num\" value=\"10\" type=\"hidden\"/>\\n\\t\\t<input name=\"langs\" value=\"en\" type=\"hidden\"/>\\n\\t\\t<input name=\"st1rt\" value=\"1\" type=\"hidden\"/>\\n\\t\\t<input name=\"s5bm3ts21rch\" value=\"x\" type=\"hidden\"/>\\n\\t\\t    \\n\\t\\t\\n\\t\\t\\t<input id=\"wb-srch-q\" list=\"wb-srch-q-ac\" class=\"wb-srch-q form-control\" name=\"q\" type=\"search\" value=\"\" size=\"34\" maxlength=\"170\" placeholder=\"Search IRCC\"/>\\n\\t\\t\\n\\t\\t<input type=\"hidden\" name=\"_charset_\" value=\"UTF-8\"/>\\n\\n\\t\\t<datalist id=\"wb-srch-q-ac\">\\n\\t\\t</datalist>\\n\\t</div>\\n\\t<div class=\"form-group submit\">\\n\\t<button type=\"submit\" id=\"wb-srch-sub\" class=\"btn btn-primary btn-small\" name=\"wb-srch-sub\"><span class=\"glyphicon-search glyphicon\"></span><span class=\"wb-inv\">Search</span></button>\\n\\t</div>\\n</form>\\n\\n\\t\\t\\t\\t</section>\\n\\t\\t</div>\\n\\t</div>\\n\\t\\n\\t\\n\\t\\n\\t<nav class=\"gcweb-v2 gcweb-menu\" typeof=\"SiteNavigationElement\"><div class=\"container\">\\n\\t\\t<h2 class=\"wb-inv\">Menu</h2>\\n\\t\\t<button type=\"button\" aria-haspopup=\"true\" aria-expanded=\"false\"><span class=\"wb-inv\">Main </span>Menu <span class=\"expicon glyphicon glyphicon-chevron-down\"></span></button>\\n\\t\\t<ul role=\"menu\" aria-orientation=\"vertical\" data-ajax-replace=\"/content/dam/canada/sitemenu/sitemenu-v2-en.html\">\\n\\t<li role=\"presentation\"><a role=\"menuitem\" tabindex=\"-1\" href=\"https://www.canada.ca/en/services/jobs.html\">Jobs and the workplace</a></li>\\n\\t<li role=\"presentation\"><a role=\"menuitem\" tabindex=\"-1\" href=\"https://www.canada.ca/en/services/immigration-citizenship.html\">Immigration and citizenship</a></li>\\n\\t<li role=\"presentation\"><a role=\"menuitem\" tabindex=\"-1\" href=\"https://travel.gc.ca/\">Travel and tourism</a></li>\\n\\t<li role=\"presentation\"><a role=\"menuitem\" tabindex=\"-1\" href=\"https://www.canada.ca/en/services/business.html\">Business and industry</a></li>\\n\\t<li role=\"presentation\"><a role=\"menuitem\" tabindex=\"-1\" href=\"https://www.canada.ca/en/services/benefits.html\">Benefits</a></li>\\n\\t<li role=\"presentation\"><a role=\"menuitem\" tabindex=\"-1\" href=\"https://www.canada.ca/en/services/health.html\">Health</a></li>\\n\\t<li role=\"presentation\"><a role=\"menuitem\" tabindex=\"-1\" href=\"https://www.canada.ca/en/services/taxes.html\">Taxes</a></li>\\n\\t<li role=\"presentation\"><a role=\"menuitem\" tabindex=\"-1\" href=\"https://www.canada.ca/en/services/environment.html\">Environment and natural resources</a></li>\\n\\t<li role=\"presentation\"><a role=\"menuitem\" tabindex=\"-1\" href=\"https://www.canada.ca/en/services/defence.html\">National security and defence</a></li>\\n\\t<li role=\"presentation\"><a role=\"menuitem\" tabindex=\"-1\" href=\"https://www.canada.ca/en/services/culture.html\">Culture, history and sport</a></li>\\n\\t<li role=\"presentation\"><a role=\"menuitem\" tabindex=\"-1\" href=\"https://www.canada.ca/en/services/policing.html\">Policing, justice and emergencies</a></li>\\n\\t<li role=\"presentation\"><a role=\"menuitem\" tabindex=\"-1\" href=\"https://www.canada.ca/en/services/transport.html\">Transport and infrastructure</a></li>\\n\\t<li role=\"presentation\"><a role=\"menuitem\" tabindex=\"-1\" href=\"http://international.gc.ca/world-monde/index.aspx?lang=eng\">Canada and the world</a></li>\\n\\t<li role=\"presentation\"><a role=\"menuitem\" tabindex=\"-1\" href=\"https://www.canada.ca/en/services/finance.html\">Money and finances</a></li>\\n\\t<li role=\"presentation\"><a role=\"menuitem\" tabindex=\"-1\" href=\"https://www.canada.ca/en/services/science.html\">Science and innovation</a></li>\\n</ul>\\n\\t\\t\\n\\t</div></nav>\\n\\t\\n\\n\\t\\n\\t\\t<nav id=\"wb-bc\" property=\"breadcrumb\"><h2 class=\"wb-inv\">You are here:</h2><div class=\"container\"><ol class=\"breadcrumb\">\\n<li><a href=\\'/en.html\\'>Canada.ca</a></li>\\n<li><a href=\\'/en/services/immigration-citizenship.html\\'>Immigration and citizenship</a></li>\\n<li><a href=\\'/en/immigration-refugees-citizenship/services/application.html\\'>My immigration or citizenship application</a></li>\\n<li><a href=\\'/en/immigration-refugees-citizenship/services/application/application-forms-guides.html\\'>Find an IRCC application package or form</a></li>\\n</ol></div></nav>\\n\\n\\n\\n\\t\\n\\n\\n</header>\\n</div>\\n\\n    \\n\\n</div>\\n\\n    \\n\\n\\n\\n\\n\\t\\n\\n\\n\\n\\n\\n\\n\\n\\n\\n\\n\\n\\n\\n    <main property=\"mainContentOfPage\" resource=\"#wb-main\" typeof=\"WebPageElement\" class=\"container\">\\n        \\n\\n    <h1 property=\"name\" id=\"wb-cont\" dir=\"ltr\">Request to process overseas family members under the one-year window of opportunity provision (OYW)</h1>\\n\\n\\n\\n\\n        \\n\\t\\t\\t<div><div class=\"reference parbase section\"><div class=\"cq-dd-paragraph\"><div class=\"par parsys\"><div class=\"mwsgeneric-base-html parbase section\">\\n\\n\\n    \\n    <span data-incl-name=\"notice-pdf-application-eng\"></span>\\n\\n<p><img class=\"pull-left mrgn-rght-sm\" src=\"/content/dam/ircc/migration/ircc/english/helpcentre/images/icon_small.png\" width=\"25\" height=\"25\" alt=\"\">&nbsp;Get help to <a href=\"http://www.cic.gc.ca/english/helpcentre/answer.asp?qnum=660&amp;top=18\">open an application form</a> or <a href=\"http://www.cic.gc.ca/english/helpcentre/results-by-topic.asp?st=4.2\">to fill one out</a> in the <a href=\"http://www.cic.gc.ca/english/helpcentre/index-featured-can.asp#tab1\">Help Centre</a>.</p>\\n\\n\\n</div>\\n\\n</div>\\n</div>\\n</div>\\n<div class=\"mwshorizontalrule parbase section\"><hr/>\\n</div>\\n<div class=\"mwsbodytext text parbase section\">\\n    \\n\\n    \\n        <p>Use this application if:</p>\\n<ul>\\n<li>You are a permanent resident who arrived in Canada as a resettled refugee within the last year; and</li>\\n<li>You are requesting processing under the One year Window of Opportunity provision because you want to bring to Canada family members who were part of your permanent residence application overseas but could not travel with you to Canada.</li>\\n</ul>\\n<p>This application package includes the following items:</p>\\n<p>For you:</p>\\n<ul>\\n<li><a href=\"/en/immigration-refugees-citizenship/services/application/application-forms-guides/guide-5578-request-process-following-family-members-year-window-opportunity-provisions.html\">OYW Instruction Guide IMM 5578</a></li>\\n<li><a href=\"/content/dam/ircc/migration/ircc/english/pdf/kits/forms/imm5571e.pdf\">Request for Processing Family Members under the One-Year Window of Opportunity Provisions [IMM&nbsp;5571]&nbsp;(<abbr title=\"Portable Document Format\">PDF</abbr>, 661<abbr title=\"Kilobyte\">KB</abbr>)</a>&nbsp;</li>\\n</ul>\\n<p>For your family members overseas:</p>\\n<ul>\\n<li><a href=\"/en/immigration-refugees-citizenship/services/application/application-forms-guides/guide-6000-convention-refugees-abroad-humanitarian-protected-persons-abroad.html\">Guide 6000 – Convention Refugees Abroad and Humanitarian-Protected Persons Abroad</a><ul>\\n<li><a href=\"/content/dam/ircc/migration/ircc/english/pdf/kits/forms/imm0008enu_2d.pdf\">Generic Application Form for Canada IMM&nbsp;0008 (<abbr title=\"Portable Document Format\">PDF</abbr>,&nbsp;731&nbsp;<abbr title=\"Kilobyte\">KB</abbr>)</a></li>\\n<li><a href=\"/content/dam/ircc/migration/ircc/english/pdf/kits/forms/imm5669e.pdf\">Schedule A – Background/Declaration IMM&nbsp;5669 (<abbr title=\"Portable Document Format\">PDF</abbr>,&nbsp;776&nbsp;<abbr title=\"Kilobyte\">KB</abbr>)</a></li>\\n<li><a href=\"/content/dam/ircc/migration/ircc/english/pdf/kits/forms/imm5406e.pdf\">Additional Family Information (IMM&nbsp;5406) (PDF,&nbsp;1.85&nbsp;MB)</a></li>\\n</ul>\\n</li>\\n</ul>\\n<p>How to use this application package</p>\\n<ul>\\n<li>Read the instruction guides</li>\\n<li>Download and fill out the application forms</li>\\n<li>Ensure that all applications forms are signed and dated</li>\\n<li>Mail you fully completed application to the Resettlement Operations Center in Ottawa (ROC-O)</li>\\n</ul>\\n\\n    \\n\\n\\n</div>\\n<div class=\"mwsbodytext text parbase section\">\\n    \\n\\n    \\n        <h2 class=\"wb-inv\" id=\"push-message\">Features</h2>\\n    \\n\\n\\n</div>\\n<div class=\"mwscolumns section\">\\n\\n    <div class=\"row row\">\\n        \\n            <div class=\"col-sm-4 mrgn-tp-lg\">\\n                <div class=\"reference parbase section\"><div class=\"cq-dd-paragraph\"><div class=\"par parsys\"><div class=\"mwsgeneric-base-html parbase section\">\\n\\n\\n    \\n    <span data-incl-name=\"pushmessage-36-eng\"></span>\\n\\n\\n<section class=\"panel panel-info\">\\n  <header class=\"panel-heading\">\\n    <h3 class=\"panel-title\">How-to video</h3>\\n  </header>\\n  <div class=\"panel-body\">\\n    <figure> <img src=\"/content/dam/ircc/migration/ircc/images/videos/pm-complete-app-eng.jpg\" alt=\"\" class=\"full-width img-responsive cq-dd-image\" data-emptytext=\"Image\"> </figure>\\n    <a href=\"/en/immigration-refugees-citizenship/news/video/save-time-send-complete-application.html\" onclick=\"javascript:urchinTracker(\\'/linktracker/english/push-message/internal/complete-app-video-36\\');\"> Save Time: Send a Complete Application</a> </div>\\n</section>\\n\\n\\n\\n</div>\\n\\n</div>\\n</div>\\n</div>\\n\\n\\n            </div>\\n        \\n            <div class=\"col-sm-4 mrgn-tp-lg\">\\n                <div class=\"reference parbase section\"><div class=\"cq-dd-paragraph\"><div class=\"par parsys\"><div class=\"mwsgeneric-base-html parbase section\">\\n\\n\\n    \\n    <span data-incl-name=\"pushmessage-24-eng\"></span>\\n\\n<section class=\"panel panel-info\">\\n  <header class=\"panel-heading\">\\n    <h3 class=\"panel-title\">Find out if you are eligible</h3>\\n  </header>\\n  <div class=\"panel-body\">\\n    <figure> <img src=\"/content/dam/ircc/migration/ircc/images/pm-ctcvac-eng.jpg\" alt=\"\" class=\"full-width img-responsive cq-dd-image\" data-emptytext=\"Image\"> </figure>\\n    <a href=\"/en/immigration-refugees-citizenship/services/come-canada-tool.html\" onclick=\"javascript:urchinTracker(\\'/linktracker/english/push-message/internal/c2c-24\\');\"> Come to Canada</a> </div>\\n</section>\\n\\n\\n</div>\\n\\n</div>\\n</div>\\n</div>\\n\\n\\n            </div>\\n        \\n            <div class=\"col-sm-4 mrgn-tp-lg\">\\n                <div class=\"reference parbase section\"><div class=\"cq-dd-paragraph\"><div class=\"par parsys\"><div class=\"mwsgeneric-base-html parbase section\">\\n\\n\\n    \\n    <span data-incl-name=\"pushmessage-56-eng\"></span>\\n\\n<section class=\"panel panel-info\">\\n  <header class=\"panel-heading\">\\n    <h3 class=\"panel-title\">Living in Canada tool</h3>\\n  </header>\\n  <div class=\"panel-body\">\\n    <figure> <img src=\"/content/dam/ircc/migration/ircc/images/pm-live-canada-eng.jpg\" alt=\"\" class=\"full-width img-responsive cq-dd-image\" data-emptytext=\"Image\"> </figure>\\n    <a href=\"http://www.cic.gc.ca/appsurl.asp?id=7&amp;lang=eng\" onclick=\"javascript:urchinTracker(\\'/linktracker/english/push-message/internal/lct-56\\');\">Learn about what it\\'s like to live in Canada and which resources are available to you to help you settle here</a> </div>\\n</section>\\n\\n\\n\\n</div>\\n\\n</div>\\n</div>\\n</div>\\n\\n\\n            </div>\\n        \\n    </div>\\n\\n</div>\\n\\n</div>\\n        \\n        <div class=\"pagedetails \">\\n<div class=\"row\">\\n<div class=\"col-sm-6 col-md-5 col-lg-4\">\\n    <details class=\"brdr-0\">\\n        \\n<summary class=\"btn btn-default text-center\">Report a problem or mistake on this page</summary>\\n<div class=\"clearfix\"></div>\\n<div class=\"well row\">\\n    <div><div class=\"gc-rprt-prblm\">\\n    <div class=\"gc-rprt-prblm-frm gc-rprt-prblm-tggl\">\\t\\t\\t\\n\\t\\t\\t<form id=\"gc-rprt-prblm-form\" action=\"/gc/services/notify\" method=\"post\">\\n\\t\\t\\t\\n\\t\\t\\t<input name=\"emailTemplateservcanE\" type=\"hidden\" value=\"ZmVlZGJhY2stcmV0cm9hY3Rpb25AY2FuYWRh\">\\n\\t\\t\\t<input name=\"emailTemplate\" type=\"hidden\" value=\"90663d71-5f83-4e26-8817-f46db3e05513\">\\n\\t\\t\\t<input name=\"successUrl\" type=\"hidden\" value=\"/content/canadasite/en/contact/questionsthanks.html\"> \\n\\t\\t\\t<input name=\"failureUrl\" type=\"hidden\" value=\"/content/canadasite/en/contact/questionsfailure.html\"> \\n\\t\\t\\t\\n\\t\\t\\t<input type=\"hidden\" name=\"externalReferer\" value=\"\">\\n\\t\\t\\t\\t\\n            <input type=\"hidden\" name=\"pageTitle\" value=\"Request to process overseas family members under the one-year window of opportunity provision (OYW)\">\\n            <input type=\"hidden\" name=\"submissionPage\" value=\"/content/canadasite/en/immigration-refugees-citizenship/services/application/application-forms-guides/request-process-family-members-under-year-window-opportunity-provisions.html\">\\n            <input type=\"hidden\" name=\"lang\" value=\"en\">\\n            <input type=\"hidden\" name=\"pageOwner\" value=\"gc:institutions/department-of-citizenship-and-immigration\">\\n            <input name=\"subject\" type=\"hidden\" value=\"Report a problem or mistake on this page\">\\n            <fieldset>\\n                <legend><span class=\"field-name\">Please select all that apply:</span></legend>\\n                 <div class=\"checkbox\">\\n                    <label for=\"problem1\"><input name=\"problem1\" id=\"problem1\" type=\"checkbox\" value=\"Yes\" data-reveal=\"#broken\" data-gc-analytics-rap=\"A link, button or video is not working-Un lien, un bouton ou une vidéo ne fonctionne pas\">A link, button or video is not working</label>\\n                    <input name=\"problem1\" type=\"hidden\" value=\"\">\\n                </div>\\n                <div class=\"checkbox\">\\n                    <label for=\"problem2\"><input name=\"problem2\" id=\"problem2\" type=\"checkbox\" value=\"Yes\" data-reveal=\"#spelling\" data-gc-analytics-rap=\"It has a spelling mistake-Il y a une erreur d\\'orthographe ou de grammaire\">It has a spelling mistake</label>\\n                    <input name=\"problem2\" type=\"hidden\" value=\"\">\\n                </div>\\n                <div class=\"checkbox\">\\n                    <label for=\"problem3\"><input name=\"problem3\" id=\"problem3\" type=\"checkbox\" value=\"Yes\" data-reveal=\"#wrong\" data-gc-analytics-rap=\"Information is missing-Les renseignements sont incomplets\">Information is missing</label>\\n                    <input name=\"problem3\" type=\"hidden\" value=\"\">\\n               </div>\\n                <div class=\"checkbox\">\\n                    <label for=\"problem4\"><input name=\"problem4\" id=\"problem4\" type=\"checkbox\" value=\"Yes\" data-reveal=\"#outdated\" data-gc-analytics-rap=\" Information is outdated or wrong-L\\'information n\\'est plus à jour ou est erronée\">Information is outdated or wrong</label>\\n                    <input name=\"problem4\" type=\"hidden\" value=\"\">\\n                </div>\\n                <div class=\"checkbox\">\\n                    <label for=\"problem5\"><input name=\"problem5\" id=\"problem5\" type=\"checkbox\" value=\"Yes\" data-reveal=\"#find\" data-gc-analytics-rap=\" Login error when trying to access an account (e.g. My Service Canada Account)-Message d\\'erreur à l\\'ouverture de la session lorsque je tente d\\'accéder à un compte (ex. Mon dossier Service Canada)\">Login error when trying to access an account (e.g. My Service Canada Account)</label>\\n                    <input name=\"problem5\" type=\"hidden\" value=\"\">\\n                </div>\\n   \\t\\t\\t\\t\\t<ul>\\n\\t\\t\\t\\t\\t<li class=\"checkbox\">\\n                        <label for=\"problem6a\"><input name=\"problem6\" id=\"problem6a\" type=\"checkbox\" value=\"Yes\" data-reveal=\"#find\" data-gc-analytics-rap=\"GC Key access-Accès CléGC\">GC Key access</label>\\n                        <input name=\"problem6\" type=\"hidden\" value=\"\">\\n                     </li>\\n\\t\\t\\t\\t\\t<li class=\"checkbox\">\\n                        <label for=\"problem7\"><input name=\"problem7\" id=\"problem7\" type=\"checkbox\" value=\"Yes\" data-reveal=\"#find\" data-gc-analytics-rap=\"SecureKey Concierge (Banking Credential) access-Accès SecureKey Service de Concierge (justificatifs d\\'identité bancaires)\">SecureKey Concierge (Banking Credential) access </label>\\n                        <input name=\"problem7\" type=\"hidden\" value=\"\">\\n                     </li>\\n\\t\\t\\t\\t\\t<li class=\"checkbox\">\\n                        <label for=\"problem8\"><input name=\"problem8\" id=\"problem8\" type=\"checkbox\" value=\"Yes\" data-reveal=\"#find\" data-gc-analytics-rap=\"Personal Access Code (PAC) problems or EI Access Code (AC) problems-Problème avec le Code d\\'accès personnel (CAP) ou avec le Code d\\'accès (CA) de l\\'assurance emploi\">Personal Access Code (PAC) problems or EI Access Code (AC) problems</label>\\n                        <input name=\"problem8\" type=\"hidden\" value=\"\">\\n                     </li>\\t\\n\\t\\t\\t\\t\\t<li class=\"checkbox\">\\n                        <label for=\"problem9\"><input name=\"problem9\" id=\"problem9\" type=\"checkbox\" value=\"Yes\" data-reveal=\"#find\" data-gc-analytics-rap=\"Social Insurance Number (SIN) validation problems-Problème lié à la validation du numéro d\\'assurance sociale (NAS)\">Social Insurance Number (SIN) validation problems</label>\\n                        <input name=\"problem9\" type=\"hidden\" value=\"\">\\n                     </li>\\t\\t\\t\\t\\t\\t\\t\\t\\n\\t\\t\\t\\t\\t<li class=\"checkbox\">\\n                        <label for=\"problem10\"><input name=\"problem10\" id=\"problem10\" type=\"checkbox\" value=\"Yes\" data-reveal=\"#find\" data-gc-analytics-rap=\"Other login error not in this list-Autre erreur lors de l\\'ouverture de session qui ne figure pas sur cette liste\">Other login error not in this list</label>\\n                        <input name=\"problem10\" type=\"hidden\" value=\"\">\\n                     </li>\\t\\t \\n                     </ul>\\n\\t\\t\\t\\t    <div class=\"checkbox\">\\n                    <label for=\"problem11\"><input name=\"problem11\" id=\"problem11\" type=\"checkbox\" value=\"Yes\" data-reveal=\"#find\" data-gc-analytics-rap=\"I can\\'t find what I\\'m looking for-Je n\\'arrive pas à trouver ce que je cherche\">I can\\'t find what I\\'m looking for</label>\\n                    <input name=\"problem11\" type=\"hidden\" value=\"\">\\n                </div>\\n             \\t\\t<div class=\"checkbox\">\\n                    <label for=\"problem12\"><input name=\"problem12\" id=\"problem12\" type=\"checkbox\" value=\"Yes\" data-reveal=\"#find\" data-gc-analytics-rap=\"Other issue not in this list-Autre problème qui ne figure pas sur cette liste\">Other issue not in this list</label>\\n                    <input name=\"problem12\" type=\"hidden\" value=\"\">\\n                </div>                 \\n                   </fieldset>\\n            <button data-wb5-click=\"postback@#gc-rprt-prblm-form@\" type=\"submit\" class=\"btn btn-primary wb-toggle\" data-toggle=\\'{\"stateOff\": \"hide\", \"stateOn\": \"show\", \"selector\": \".gc-rprt-prblm-tggl\"}\\'>Submit</button>\\n\\n        </form>\\n    </div>\\n    <div class=\"gc-rprt-prblm-thnk gc-rprt-prblm-tggl hide\">\\n        <h3>Thank you for your help!</h3>\\n<p>You will not receive a reply. For enquiries,&nbsp;<a href=\"https://www.canada.ca/en/contact/index.html\">contact us</a>.</p>\\n\\n    </div>\\n</div></div>\\n</div>\\n\\n    </details>\\n</div>\\n       \\t<div class=\"col-sm-4 col-md-3 col-sm-offset-2 col-md-offset-4 col-lg-offset-5\">\\n        <div class=\"wb-share\" data-wb-share=\\'{&#34;lnkClass&#34;: &#34;btn btn-default btn-block&#34;}\\'></div>\\n        </div>\\n</div>\\n        <dl id=\"wb-dtmd\">\\n    <dt>Date modified:</dt>\\n    <dd><time property=\"dateModified\">2019-05-10</time></dd>\\n</dl>\\n</div>\\n    </main>\\n\\n\\n\\n    \\n\\n\\n\\n\\n    \\n        \\n        \\n        <div class=\"newpar new section\">\\n\\n</div>\\n\\n    \\n        \\n        \\n        <div class=\"par iparys_inherited\">\\n\\n    \\n    \\n    \\n    \\n\\n</div>\\n\\n    \\n\\n\\n\\n\\n    \\n\\n\\n\\n\\n    \\n        \\n        \\n        <div class=\"newpar new section\">\\n\\n</div>\\n\\n    \\n        \\n        \\n        <div class=\"par iparys_inherited\">\\n\\n    \\n    \\n    \\n    \\n        \\n        \\n        <div class=\"global-footer\">\\n    <footer id=\"wb-info\">\\n        <div class=\"landscape\">\\n        <nav class=\"container wb-navcurr\">\\n            <h2 class=\"wb-inv\">About government</h2>\\n            <ul class=\"list-unstyled colcount-sm-2 colcount-md-3\">\\n                \\n                     \\n                         <li><a href=\"/en/immigration-refugees-citizenship/corporate/contact-ircc.html\">Contact us </a></li>\\n                     \\n                \\n                \\n                    \\n                        <li><a href=\"/en/government/dept.html\">Departments and agencies</a></li>\\n                    \\n                \\n                \\n                    \\n                        <li><a href=\"/en/government/publicservice.html\">Public service and military</a></li>\\n                    \\n                \\n                \\n                    \\n                        <li><a href=\"/en/news.html\">News</a></li>\\n                    \\n                \\n                \\n                    \\n                        <li><a href=\"/en/government/system/laws.html\">Treaties, laws and regulations</a></li>\\n                    \\n                \\n                \\n                    \\n                        <li><a href=\"/en/transparency/reporting.html\">Government-wide reporting</a></li>\\n                    \\n                \\n                \\n                    \\n                        <li><a href=\"http://pm.gc.ca/en\">Prime Minister</a></li>\\n                    \\n                \\n                \\n                    \\n                        <li><a href=\"/en/government/system.html\">About government</a></li>\\n                    \\n                \\n                \\n                    \\n                        <li><a href=\"http://open.canada.ca/en\">Open government</a></li>\\n                    \\n                \\n            </ul>\\n        </nav>\\n        </div>\\n        <div class=\"brand\">\\n            <div class=\"container\">\\n                <div class=\"row\">\\n                    <nav class=\"col-md-10 ftr-urlt-lnk\">\\n                        <h2 class=\"wb-inv\">About this site</h2>\\n                        <ul>\\n                            \\n                                \\n                                    <li><a href=\"/en/social.html\">Social media</a></li>\\n                                \\n                            \\n                            \\n                                \\n                                    <li><a href=\"/en/mobile.html\">Mobile applications</a></li>\\n                                \\n                            \\n                            \\n                                \\n                                    <li><a href=\"/en/government/about.html\">About Canada.ca</a></li>\\n                                \\n                            \\n                            \\n                                \\n                                    <li><a href=\"/en/transparency/terms.html\">Terms and conditions</a></li>\\n                                \\n                            \\n                            \\n                                \\n                                    <li><a href=\"/en/transparency/privacy.html\">Privacy</a></li>\\n                                \\n                            \\n                            \\n                                \\n                            \\n                        </ul>\\n                    </nav>\\n                    <div class=\"col-xs-6 visible-sm visible-xs tofpg\">\\n                        <a href=\"#wb-cont\">Top of page <span class=\"glyphicon glyphicon-chevron-up\"></span></a>\\n                    </div>\\n                    <div class=\"col-xs-6 col-md-2 text-right\">\\n                        <img src=\"/etc/designs/canada/wet-boew/assets/wmms-blk.svg\" alt=\"Symbol of the Government of Canada\"/>\\n                    </div>\\n                </div>\\n            </div>\\n        </div>\\n    </footer>\\n\\n</div>\\n\\n    \\n\\n</div>\\n\\n    \\n\\n\\n\\n\\n    \\n\\n\\n\\n\\n\\n\\n\\n    <script type=\"text/javascript\">_satellite.pageBottom();</script>\\n\\n\\n\\n\\n\\n\\n\\n\\n    \\n<script src=\"/etc.clientlibs/clientlibs/granite/jquery.min.js\"></script>\\n<script src=\"/etc.clientlibs/clientlibs/granite/utils.min.js\"></script>\\n<script src=\"/etc/designs/canada/clientlib-publish.min.js\"></script>\\n\\n\\n\\n\\n<script src=\"//ajax.googleapis.com/ajax/libs/jquery/2.1.1/jquery.min.js\"></script>\\n<script src=\"/etc/designs/canada/wet-boew/js/wet-boew.min.js\"></script>\\n\\n<script src=\"/etc/designs/canada/wet-boew/js/theme.min.js\"></script>\\n</body>\\n</html>\\n', 'meta': {'name': 'file-10467.txt'}}, {'text': '<!doctype html>\\n\\n\\n<html class=\"no-js\" dir=\"ltr\" lang=\"en\" xmlns=\"http://www.w3.org/1999/xhtml\">\\n\\n<head prefix=\"og: http://ogp.me/ns#\">\\n    \\n<meta http-equiv=\"X-UA-Compatible\" content=\"IE=edge\"/>\\n<meta charset=\"utf-8\"/>\\n<title>Roles and responsibilities of citizenship judges - Canada.ca</title>\\n<meta content=\"width=device-width,initial-scale=1\" name=\"viewport\"/>\\n\\n\\n\\t<link rel=\"schema.dcterms\" href=\"http://purl.org/dc/terms/\"/>\\n\\t\\n\\t\\t<meta name=\"description\" content=\"Roles and responsibilities of citizenship judges\"/>\\n\\t\\n\\t\\n\\t\\t<meta name=\"keywords\" content=\"Mandate; Citizenship judges; Citizenship court\"/>\\n\\t\\n\\t\\n\\t\\t<meta name=\"author\" content=\"Immigration, Refugees and Citizenship Canada\"/>\\n\\t\\n\\t\\n\\t\\t<meta name=\"dcterms.title\" content=\"Roles and responsibilities of citizenship judges\"/>\\n\\t\\n\\t\\n\\t\\t<meta name=\"dcterms.description\" content=\"Roles and responsibilities of citizenship judges\"/>\\n\\t\\n\\t\\n\\t\\t<meta name=\"dcterms.creator\" content=\"Immigration, Refugees and Citizenship Canada\"/>\\n\\t\\n\\t\\n\\t\\n\\t\\t<meta name=\"dcterms.language\" title=\"ISO639-2/T\" content=\"eng\"/>\\n\\t\\n\\t\\n\\t\\n\\t\\t<meta name=\"dcterms.issued\" title=\"W3CDTF\" content=\"2007-03-31\"/>\\n\\t\\n\\t\\n\\t\\t<meta name=\"dcterms.modified\" title=\"W3CDTF\" content=\"2017-11-09\"/>\\n\\t\\n\\t\\n\\t\\t<meta name=\"dcterms.audience\" content=\"general public\"/>\\n\\t\\n\\t\\n\\t\\t<meta name=\"dcterms.spatial\" content=\"Canada\"/>\\n\\t\\n\\t\\n\\t\\t<meta name=\"dcterms.type\" content=\"not available\"/>\\n\\t\\n\\t\\n\\t\\n\\t\\n\\t\\n\\t\\t<meta name=\"dcterms.source\" content=\"aem\"/>\\n\\t\\n\\t\\n\\t\\t<meta name=\"dcterms.identifier\" content=\"Immigration _Refugees_and_Citizenship_Canada\"/>\\n\\t\\n\\t\\n\\t\\n\\t\\n    \\n    \\n\\n\\n\\n\\t<meta prefix=\"fb: https://www.facebook.com/2008/fbml\" property=\"fb:pages\" content=\"378967748836213, 160339344047502, 184605778338568, 237796269600506, 10860597051, 14498271095, 209857686718, 160504807323251, 111156792247197, 113429762015861, 502566449790031, 312292485564363, 1471831713076413, 22724568071, 17294463927, 1442463402719857, 247990812241506, 730097607131117, 1142481292546228, 1765602380419601, 131514060764735, 307780276294187, 427238637642566, 525934210910141, 1016214671785090, 192657607776229, 586856208161152, 1146080748799944, 408143085978521, 490290084411688, 163828286987751, 565688503775086, 460123390028, 318424514044, 632493333805962, 370233926766473, 173004244677, 1562729973959056, 362400293941960, 769857139754987, 167891083224996, 466882737009651, 126404198009505, 135409166525475, 664638680273646, 169011506491295, 217171551640146, 182842831756930, 1464645710444681, 218822426028, 218740415905, 123326971154939, 125058490980757, 1062292210514762, 1768389106741505, 310939332270090, 285960408117397, 985916134909087, 655533774808209, 1522633664630497, 686814348097821, 230798677012118, 320520588000085, 103201203106202, 273375356172196, 61263506236, 353102841161, 1061339807224729, 1090791104267764, 395867780593657, 1597876400459657, 388427768185631, 937815283021844, 207409132619743, 1952090675003143, 206529629372368, 218566908564369, 175257766291975, 118472908172897, 767088219985590, 478573952173735, 465264530180856, 317418191615817, 428040827230778, 222493134493922, 196833853688656, 194633827256676, 252002641498535, 398018420213195, 265626156847421, 202442683196210, 384350631577399, 385499078129720, 178433945604162, 398240836869162, 326182960762584, 354672164565195, 375081249171867, 333050716732105, 118996871563050, 240349086055056, 119579301504003, 185184131584797, 333647780005544, 306255172770146, 369589566399283, 117461228379000, 349774478396157, 201995959908210, 307017162692056, 145928592172074, 122656527842056\">\\n\\n\\n\\t\\n\\n\\n    \\n\\n\\n\\t<script src=\"//assets.adobedtm.com/be5dfd287373/abb618326704/launch-3eac5e076135.min.js\"></script>\\n\\n\\n\\n\\n\\n\\n\\n\\n\\n\\n<link rel=\"stylesheet\" href=\"/etc/designs/canada/wet-boew/css/wet-boew.min.css\"/>\\n<link rel=\"stylesheet\" href=\"/etc/designs/canada/wet-boew/css/theme.min.css\"/>\\n<link rel=\"stylesheet\" href=\"https://use.fontawesome.com/releases/v5.8.1/css/all.css\" integrity=\"sha384-50oBUHEmvpQ+1lW4y57PTFmhCaXp0ML5d60M1M7uH2+nqUivzIebhndOJK28anvf\" crossorigin=\"anonymous\"/>\\n\\n\\n<link href=\"/etc/designs/canada/wet-boew/assets/favicon.ico\" rel=\"icon\" type=\"image/x-icon\"/>\\n\\n\\n<noscript><link rel=\"stylesheet\" href=\"/etc/designs/canada/wet-boew/css/noscript.min.css\"/></noscript>\\n<script>dataLayer = []; dataLayer1 = [];</script>\\n\\n                          <script>!function(a){var e=\"https://s.go-mpulse.net/boomerang/\",t=\"addEventListener\";if(\"False\"==\"True\")a.BOOMR_config=a.BOOMR_config||{},a.BOOMR_config.PageParams=a.BOOMR_config.PageParams||{},a.BOOMR_config.PageParams.pci=!0,e=\"https://s2.go-mpulse.net/boomerang/\";if(window.BOOMR_API_key=\"KBFUZ-C9D7G-RB8SX-GRGEN-HGMC9\",function(){function n(e){a.BOOMR_onload=e&&e.timeStamp||(new Date).getTime()}if(!a.BOOMR||!a.BOOMR.version&&!a.BOOMR.snippetExecuted){a.BOOMR=a.BOOMR||{},a.BOOMR.snippetExecuted=!0;var i,_,o,r=document.createElement(\"iframe\");if(a[t])a[t](\"load\",n,!1);else if(a.attachEvent)a.attachEvent(\"onload\",n);r.src=\"javascript:void(0)\",r.title=\"\",r.role=\"presentation\",(r.frameElement||r).style.cssText=\"width:0;height:0;border:0;display:none;\",o=document.getElementsByTagName(\"script\")[0],o.parentNode.insertBefore(r,o);try{_=r.contentWindow.document}catch(O){i=document.domain,r.src=\"javascript:var d=document.open();d.domain=\\'\"+i+\"\\';void(0);\",_=r.contentWindow.document}_.open()._l=function(){var a=this.createElement(\"script\");if(i)this.domain=i;a.id=\"boomr-if-as\",a.src=e+\"KBFUZ-C9D7G-RB8SX-GRGEN-HGMC9\",BOOMR_lstart=(new Date).getTime(),this.body.appendChild(a)},_.write(\"<bo\"+\\'dy onload=\"document._l();\">\\'),_.close()}}(),\"\".length>0)if(a&&\"performance\"in a&&a.performance&&\"function\"==typeof a.performance.setResourceTimingBufferSize)a.performance.setResourceTimingBufferSize();!function(){if(BOOMR=a.BOOMR||{},BOOMR.plugins=BOOMR.plugins||{},!BOOMR.plugins.AK){var e=\"\"==\"true\"?1:0,t=\"\",n=\"ejlm673iouyqkybzpr3a-f-85dcd51f4-clientnsv4-s.akamaihd.net\",i={\"ak.v\":\"30\",\"ak.cp\":\"368225\",\"ak.ai\":parseInt(\"231651\",10),\"ak.ol\":\"0\",\"ak.cr\":1,\"ak.ipv\":4,\"ak.proto\":\"http/1.1\",\"ak.rid\":\"a390f93\",\"ak.r\":26341,\"ak.a2\":e,\"ak.m\":\"dscb\",\"ak.n\":\"essl\",\"ak.bpcip\":\"34.86.207.0\",\"ak.cport\":48446,\"ak.gh\":\"65.158.180.167\",\"ak.quicv\":\"\",\"ak.tlsv\":\"tls1.3\",\"ak.0rtt\":\"\",\"ak.csrc\":\"-\",\"ak.acc\":\"reno\",\"ak.t\":\"1614380150\",\"ak.ak\":\"hOBiQwZUYzCg5VSAfCLimQ==Cg7p3dD/t0qYLRnDfxpz4zY7YjJAmkeRfdaYBC9Oifqj6my4Pf07VD0U3BfuvhJQReaiJZkQfJObz7lSSancygf/HH3vl9pIfbOEcfNIEu4xAb64Hxu+XbymEPE+SO2+UCNX0Ze/oo0Mi8STbUyzF6V/ZF8C0UQMZkmmfxTCicde40BHENVgnr332mLRubqNV3OJbhajdzBQASd/HcR2oV6riufhLDPg/gZbhF4okKbeT+i10QONdjfmW64y0uNJWLIB4I9rUf+fvKSpxF8zJKexy1VkGwzhvrD5nzA8AFGOqh8dF3C3AsYhBG0jca4EvIZnj7EU5MPWBT3Mc/D/Zr6lcUfJgKzXaa5uVwzpS3drS+Ouv6ZO7JhmYOyRqa0rivjlkxeCrPAwb/3S57PhbOzvfmtffii9I5z8Gudqzm4=\",\"ak.pv\":\"595\",\"ak.dpoabenc\":\"\"};if(\"\"!==t)i[\"ak.ruds\"]=t;var _={i:!1,av:function(e){var t=\"http.initiator\";if(e&&(!e[t]||\"spa_hard\"===e[t]))i[\"ak.feo\"]=void 0!==a.aFeoApplied?1:0,BOOMR.addVar(i)},rv:function(){var a=[\"ak.bpcip\",\"ak.cport\",\"ak.cr\",\"ak.csrc\",\"ak.gh\",\"ak.ipv\",\"ak.m\",\"ak.n\",\"ak.ol\",\"ak.proto\",\"ak.quicv\",\"ak.tlsv\",\"ak.0rtt\",\"ak.r\",\"ak.acc\",\"ak.t\"];BOOMR.removeVar(a)}};BOOMR.plugins.AK={akVars:i,akDNSPreFetchDomain:n,init:function(){if(!_.i){var a=BOOMR.subscribe;a(\"before_beacon\",_.av,null,null),a(\"onbeacon\",_.rv,null,null),_.i=!0}return this},is_complete:function(){return!0}}}}()}(window);</script></head>\\n\\n<body vocab=\"http://schema.org/\" typeof=\"WebPage\">\\n\\n    \\n\\n\\n\\n\\n    \\n        \\n        \\n        <div class=\"newpar new section\">\\n\\n</div>\\n\\n    \\n        \\n        \\n        <div class=\"par iparys_inherited\">\\n\\n    \\n    \\n    \\n    \\n        \\n        \\n        <div class=\"global-header\"><nav><ul id=\"wb-tphp\">\\n\\t<li class=\"wb-slc\"><a class=\"wb-sl\" href=\"#wb-cont\">Skip to main content</a></li>\\n\\t<li class=\"wb-slc\"><a class=\"wb-sl\" href=\"#wb-info\">Skip to &#34;About government&#34;</a></li>\\n\\t<li class=\"wb-slc\"><a class=\"wb-sl\" href=\"#wb-sec\">Skip to section menu</a></li>\\n</ul></nav>\\n\\n<header>\\n\\t<div id=\"wb-bnr\" class=\"container\">\\n\\t\\t<div class=\"row\">\\n\\t\\t\\t\\n\\t\\t\\t<section id=\"wb-lng\" class=\"col-xs-3 col-sm-12 pull-right text-right\">\\n    <h2 class=\"wb-inv\">Language selection</h2>\\n    <div class=\"row\">\\n        <div class=\"col-md-12\">\\n            <ul class=\"list-inline mrgn-bttm-0\">\\n                <li>\\n                    <a lang=\"fr\" href=\"/fr/immigration-refugies-citoyennete/organisation/mandat/commission-citoyennete/roles-responsabilites-juges-citoyennete.html\">\\n                        \\n                            <span class=\"hidden-xs\">Fran&ccedil;ais</span>\\n                            <abbr title=\"Fran&ccedil;ais\" class=\"visible-xs h3 mrgn-tp-sm mrgn-bttm-0 text-uppercase\">fr</abbr>\\n                        \\n                        \\n                    </a>\\n                </li>\\n                \\n                \\n            </ul>\\n        </div>\\n    </div>\\n</section>\\n\\t\\t\\t\\t<div class=\"brand col-xs-9 col-sm-5 col-md-4\" property=\"publisher\" typeof=\"GovernmentOrganization\">\\n\\t\\t\\t\\t\\t\\n                    \\n\\t\\t\\t\\t\\t\\n\\t\\t\\t\\t\\t\\t\\n\\t\\t\\t\\t\\t\\t<a href=\"/en.html\" property=\"url\">\\n\\t\\t\\t\\t\\t\\t\\t<img src=\"/etc/designs/canada/wet-boew/assets/sig-blk-en.svg\" alt=\"Government of Canada\" property=\"logo\"/>\\n\\t\\t\\t\\t\\t\\t\\t<span class=\"wb-inv\"> /\\n\\t\\t\\t\\t\\t\\t\\t\\t\\n\\t\\t\\t\\t\\t\\t\\t\\t<span lang=\"fr\">Gouvernement du Canada</span>\\n\\t\\t\\t\\t\\t\\t\\t</span>\\n\\t\\t\\t\\t\\t\\t</a>\\n\\t\\t\\t\\t\\t\\n\\t\\t\\t\\t\\t<meta property=\"name\" content=\"Government of Canada\"/>\\n\\t\\t\\t\\t\\t<meta property=\"areaServed\" typeof=\"Country\" content=\"Canada\"/>\\n\\t\\t\\t\\t\\t<link property=\"logo\" href=\"/etc/designs/canada/wet-boew/assets/wmms-blk.svg\"/>\\n\\t\\t\\t\\t</div>\\n\\t\\t\\t\\t<section id=\"wb-srch\" class=\"col-lg-offset-4 col-md-offset-4 col-sm-offset-2 col-xs-12 col-sm-5 col-md-4\">\\n\\t\\t\\t\\t\\t<h2>Search</h2>\\n\\t\\t\\t\\t\\t\\n<form action=\"/en/services/immigration-citizenship/search.html\" method=\"get\" name=\"cse-search-box\" role=\"search\">\\n\\t<div class=\"form-group wb-srch-qry\">\\n\\t\\t<label for=\"wb-srch-q\" class=\"wb-inv\">Search Canada.ca</label>\\n\\t\\t<input name=\"cdn\" value=\"canada\" type=\"hidden\"/>\\n\\t\\t<input name=\"st\" value=\"s\" type=\"hidden\"/>\\n\\t\\t<input name=\"num\" value=\"10\" type=\"hidden\"/>\\n\\t\\t<input name=\"langs\" value=\"en\" type=\"hidden\"/>\\n\\t\\t<input name=\"st1rt\" value=\"1\" type=\"hidden\"/>\\n\\t\\t<input name=\"s5bm3ts21rch\" value=\"x\" type=\"hidden\"/>\\n\\t\\t    \\n\\t\\t\\n\\t\\t\\t<input id=\"wb-srch-q\" list=\"wb-srch-q-ac\" class=\"wb-srch-q form-control\" name=\"q\" type=\"search\" value=\"\" size=\"34\" maxlength=\"170\" placeholder=\"Search IRCC\"/>\\n\\t\\t\\n\\t\\t<input type=\"hidden\" name=\"_charset_\" value=\"UTF-8\"/>\\n\\n\\t\\t<datalist id=\"wb-srch-q-ac\">\\n\\t\\t</datalist>\\n\\t</div>\\n\\t<div class=\"form-group submit\">\\n\\t<button type=\"submit\" id=\"wb-srch-sub\" class=\"btn btn-primary btn-small\" name=\"wb-srch-sub\"><span class=\"glyphicon-search glyphicon\"></span><span class=\"wb-inv\">Search</span></button>\\n\\t</div>\\n</form>\\n\\n\\t\\t\\t\\t</section>\\n\\t\\t</div>\\n\\t</div>\\n\\t\\n\\t\\n\\t\\n\\t<nav class=\"gcweb-v2 gcweb-menu\" typeof=\"SiteNavigationElement\"><div class=\"container\">\\n\\t\\t<h2 class=\"wb-inv\">Menu</h2>\\n\\t\\t<button type=\"button\" aria-haspopup=\"true\" aria-expanded=\"false\"><span class=\"wb-inv\">Main </span>Menu <span class=\"expicon glyphicon glyphicon-chevron-down\"></span></button>\\n\\t\\t<ul role=\"menu\" aria-orientation=\"vertical\" data-ajax-replace=\"/content/dam/canada/sitemenu/sitemenu-v2-en.html\">\\n\\t<li role=\"presentation\"><a role=\"menuitem\" tabindex=\"-1\" href=\"https://www.canada.ca/en/services/jobs.html\">Jobs and the workplace</a></li>\\n\\t<li role=\"presentation\"><a role=\"menuitem\" tabindex=\"-1\" href=\"https://www.canada.ca/en/services/immigration-citizenship.html\">Immigration and citizenship</a></li>\\n\\t<li role=\"presentation\"><a role=\"menuitem\" tabindex=\"-1\" href=\"https://travel.gc.ca/\">Travel and tourism</a></li>\\n\\t<li role=\"presentation\"><a role=\"menuitem\" tabindex=\"-1\" href=\"https://www.canada.ca/en/services/business.html\">Business and industry</a></li>\\n\\t<li role=\"presentation\"><a role=\"menuitem\" tabindex=\"-1\" href=\"https://www.canada.ca/en/services/benefits.html\">Benefits</a></li>\\n\\t<li role=\"presentation\"><a role=\"menuitem\" tabindex=\"-1\" href=\"https://www.canada.ca/en/services/health.html\">Health</a></li>\\n\\t<li role=\"presentation\"><a role=\"menuitem\" tabindex=\"-1\" href=\"https://www.canada.ca/en/services/taxes.html\">Taxes</a></li>\\n\\t<li role=\"presentation\"><a role=\"menuitem\" tabindex=\"-1\" href=\"https://www.canada.ca/en/services/environment.html\">Environment and natural resources</a></li>\\n\\t<li role=\"presentation\"><a role=\"menuitem\" tabindex=\"-1\" href=\"https://www.canada.ca/en/services/defence.html\">National security and defence</a></li>\\n\\t<li role=\"presentation\"><a role=\"menuitem\" tabindex=\"-1\" href=\"https://www.canada.ca/en/services/culture.html\">Culture, history and sport</a></li>\\n\\t<li role=\"presentation\"><a role=\"menuitem\" tabindex=\"-1\" href=\"https://www.canada.ca/en/services/policing.html\">Policing, justice and emergencies</a></li>\\n\\t<li role=\"presentation\"><a role=\"menuitem\" tabindex=\"-1\" href=\"https://www.canada.ca/en/services/transport.html\">Transport and infrastructure</a></li>\\n\\t<li role=\"presentation\"><a role=\"menuitem\" tabindex=\"-1\" href=\"http://international.gc.ca/world-monde/index.aspx?lang=eng\">Canada and the world</a></li>\\n\\t<li role=\"presentation\"><a role=\"menuitem\" tabindex=\"-1\" href=\"https://www.canada.ca/en/services/finance.html\">Money and finances</a></li>\\n\\t<li role=\"presentation\"><a role=\"menuitem\" tabindex=\"-1\" href=\"https://www.canada.ca/en/services/science.html\">Science and innovation</a></li>\\n</ul>\\n\\t\\t\\n\\t</div></nav>\\n\\t\\n\\n\\t\\n\\t\\t<nav id=\"wb-bc\" property=\"breadcrumb\"><h2 class=\"wb-inv\">You are here:</h2><div class=\"container\"><ol class=\"breadcrumb\">\\n<li><a href=\\'/en.html\\'>Canada.ca</a></li>\\n<li><a href=\\'/en/immigration-refugees-citizenship.html\\'>Immigration, Refugees and Citizenship Canada</a></li>\\n<li><a href=\\'/en/immigration-refugees-citizenship/corporate.html\\'>Corporate information</a></li>\\n<li><a href=\\'/en/immigration-refugees-citizenship/corporate/mandate.html\\'>Mandate</a></li>\\n<li><a href=\\'/en/immigration-refugees-citizenship/corporate/mandate/citizenship-commission.html\\'>Citizenship Commission</a></li>\\n</ol></div></nav>\\n\\n\\n\\n\\t\\n\\n\\n</header>\\n</div>\\n\\n    \\n\\n</div>\\n\\n    \\n\\n\\n\\n\\n\\t\\n\\n\\n\\n\\n\\n\\n\\n\\n\\n<div class=\"container\">\\n    <div class=\"row\">\\n        <main property=\"mainContentOfPage\" resource=\"#wb-main\" typeof=\"WebPageElement\" class=\"col-md-9 col-md-push-3\">\\n            \\n\\n    <h1 property=\"name\" id=\"wb-cont\" dir=\"ltr\">\\nRoles and responsibilities of citizenship judges</h1>\\n\\n\\n\\n\\n                 \\n                    <div><div class=\"mwsbodytext text parbase section\">\\n    \\n\\n    \\n         <span class=\"wb-toggle\" data-toggle=\"{&quot;selector&quot;: &quot;main summary&quot;, &quot;print&quot;: &quot;on&quot;}\"></span>  \\n    \\n\\n\\n</div>\\n<div class=\"mwsbodytext text parbase section\">\\n    \\n\\n    \\n        <h2>Citizenship judges</h2>\\n    \\n\\n\\n</div>\\n<div class=\"mwsbodytext text parbase section\">\\n    \\n\\n    \\n         <p>Citizenship judges maintain an arms-length relationship to both the government and IRCC staff and play a number of roles:</p>  <ul> \\n <li>Citizenship judges are independent decision-makers who assess applications referred to them to ensure applicants meet the residence/physical presence requirements of the <em>Citizenship Act</em>, conduct hearings and provide written decisions setting out the reasons for the decision within prescribed timelines.</li> \\n <li>Judges preside over Citizenship ceremonies and administer the oath of citizenship and stress the rights and responsibilities of Canadian citizens.</li> \\n <li>Judges promote citizenship in their communities. </li> \\n <li>As independent decision-makers, judges play an important role in maintaining the integrity of the citizenship process</li> \\n</ul>  \\n    \\n\\n\\n</div>\\n<div class=\"mwsbodytext text parbase section\">\\n    \\n\\n    \\n        <h3>Role as decision makers</h3>\\n    \\n\\n\\n</div>\\n<div class=\"mwsbodytext text parbase section\">\\n    \\n\\n    \\n         <p>Citizenship judges are independent decision makers for certain citizenship applications. Applications are first processed by IRCC staff who assess applications to determine if the applicant meets the criteria set out in the <em>Citizenship Act</em> and the <em>Citizenship Regulations</em> to become a citizen. If a citizenship officer is not satisfied that the applicant meets the residence / physical presence requirement for citizenship, the file is referred to a citizenship judge who will make a decision on the application.</p>  <p>Before making a decision, a judge may hold a hearing with the applicant to obtain more information and assess whether the applicant meets the residence / physical presence requirement for citizenship. Depending on the nature of the hearing and at the request of the applicant, they may be accompanied by an interpreter or legal counsel.</p>  <p>The <em>Act</em> requires judges make a determination on an application within 60 days after the day on which the application is referred and provide the reasons for decision without delay. Decisions can be judicially reviewed with the leave of the Federal Court of Canada by either a non-approved applicant or the Minister of Citizenship and Immigration.</p>  \\n    \\n\\n\\n</div>\\n<div class=\"mwsbodytext text parbase section\">\\n    \\n\\n    \\n        <h3>Citizenship ceremonies and the promotion of Canadian citizenship</h3>\\n    \\n\\n\\n</div>\\n<div class=\"mwsbodytext text parbase section\">\\n    \\n\\n    \\n         <p>Although citizenship judges are independent decision makers, the public is much more aware of their ceremonial and ambassadorial roles.</p>  <p>Judges preside over <a href=\"/en/immigration-refugees-citizenship/services/canadian-citizenship/become-canadian-citizen/citizenship-ceremony.html\">citizenship ceremonies</a> where they welcome new citizens into the Canadian family. To reflect Canada’s bilingual nature, judges administer the oath of citizenship in both French and English. Citizenship judges speak to new citizens about the <a href=\"/en/immigration-refugees-citizenship/corporate/publications-manuals/discover-canada/read-online/rights-resonsibilities-citizenship.html\">rights and responsibilities of citizenship</a>, but it is also at these ceremonies and at promotional events that judges pass on their pride, enthusiasm and respect for the institution of Canadian citizenship.</p>  \\n    \\n\\n\\n</div>\\n<div class=\"mwsbodytext text parbase section\">\\n    \\n\\n    \\n        <h3>Appointment Opportunities </h3>\\n    \\n\\n\\n</div>\\n<div class=\"mwsbodytext text parbase section\">\\n    \\n\\n    \\n         <p>Citizenship judges are appointed by the Governor in Council. The Government of Canada posts <a href=\"http://www.appointments-nominations.gc.ca/slctnPrcs.asp?menu=1&amp;lang=eng\">opportunities for Governor in Council appointments</a>. Any Canadian citizen may submit their candidacy if they meet the requisite criteria.</p>  \\n    \\n\\n\\n</div>\\n<div class=\"mwsbodytext text parbase section\">\\n    \\n\\n    \\n        <h2 class=\"wb-inv\" id=\"push-message\">Features</h2>\\n    \\n\\n\\n</div>\\n<div class=\"mwscolumns section\">\\n\\n    <div class=\"row row\">\\n        \\n            <div class=\"col-sm-4 mrgn-tp-lg\">\\n                <div class=\"reference parbase section\"><div class=\"cq-dd-paragraph\"><div class=\"par parsys\"><div class=\"mwsgeneric-base-html parbase section\">\\n\\n\\n    \\n    \\n<span data-incl-name=\"pushmessage-87-eng\"></span>\\n\\n<section class=\"panel panel-info\">\\n  <header class=\"panel-heading\">\\n    <h3 class=\"panel-title\">Find a citizenship ceremony</h3>\\n  </header>\\n  <div class=\"panel-body\"> <a href=\"#covid-19\" class=\"wb-lbx\">Find a citizenship ceremony in your area</a> </div>\\n</section>\\n\\n<section id=\"covid-19\" class=\"mfp-hide modal-dialog modal-content overlay-def\">\\n\\t\\t\\t<header class=\"modal-header\">\\n\\t\\t\\t\\t<h2 class=\"modal-title\">COVID-19: safety measures</h2>\\n\\t\\t\\t</header>\\n\\t\\t\\t<div class=\"modal-body\">\\n\\t\\t\\t\\t<p>To keep everyone safe, Immigration, Refugees and Citizenship Canada has cancelled all citizenship ceremonies until further notice.</p>\\n\\n\\t\\t\\t</div>\\n\\t\\t</section>\\n\\n\\n</div>\\n\\n</div>\\n</div>\\n</div>\\n\\n\\n            </div>\\n        \\n            <div class=\"col-sm-4 mrgn-tp-lg\">\\n                <div class=\"reference parbase section\"><div class=\"cq-dd-paragraph\"><div class=\"par parsys\"><div class=\"mwsgeneric-base-html parbase section\">\\n\\n\\n    \\n    <span data-incl-name=\"pushmessage-9-eng\"></span>\\n\\n<section class=\"panel panel-info\">\\n  <header class=\"panel-heading\">\\n    <h3 class=\"panel-title\">Application form</h3>\\n  </header>\\n  <div class=\"panel-body\"> <a href=\"/en/immigration-refugees-citizenship/services/application/application-forms-guides/application-citizenship-certificate-adults-minors.html\">Apply for a citizenship certificate</a> </div>\\n</section>\\n\\n\\n\\n</div>\\n\\n</div>\\n</div>\\n</div>\\n\\n\\n            </div>\\n        \\n    </div>\\n\\n</div>\\n\\n</div>\\n                \\n            <div class=\"pagedetails \">\\n<div class=\"row\">\\n<div class=\"col-sm-6 col-md-5 col-lg-4\">\\n    <details class=\"brdr-0\">\\n        \\n<summary class=\"btn btn-default text-center\">Report a problem or mistake on this page</summary>\\n<div class=\"clearfix\"></div>\\n<div class=\"well row\">\\n    <div><div class=\"gc-rprt-prblm\">\\n    <div class=\"gc-rprt-prblm-frm gc-rprt-prblm-tggl\">\\t\\t\\t\\n\\t\\t\\t<form id=\"gc-rprt-prblm-form\" action=\"/gc/services/notify\" method=\"post\">\\n\\t\\t\\t\\n\\t\\t\\t<input name=\"emailTemplateservcanE\" type=\"hidden\" value=\"ZmVlZGJhY2stcmV0cm9hY3Rpb25AY2FuYWRh\">\\n\\t\\t\\t<input name=\"emailTemplate\" type=\"hidden\" value=\"90663d71-5f83-4e26-8817-f46db3e05513\">\\n\\t\\t\\t<input name=\"successUrl\" type=\"hidden\" value=\"/content/canadasite/en/contact/questionsthanks.html\"> \\n\\t\\t\\t<input name=\"failureUrl\" type=\"hidden\" value=\"/content/canadasite/en/contact/questionsfailure.html\"> \\n\\t\\t\\t\\n\\t\\t\\t<input type=\"hidden\" name=\"externalReferer\" value=\"\">\\n\\t\\t\\t\\t\\n            <input type=\"hidden\" name=\"pageTitle\" value=\"Roles and responsibilities of citizenship judges\">\\n            <input type=\"hidden\" name=\"submissionPage\" value=\"/content/canadasite/en/immigration-refugees-citizenship/corporate/mandate/citizenship-commission/roles-responsibilities-citizenship-judges.html\">\\n            <input type=\"hidden\" name=\"lang\" value=\"en\">\\n            <input type=\"hidden\" name=\"pageOwner\" value=\"gc:institutions/department-of-citizenship-and-immigration\">\\n            <input name=\"subject\" type=\"hidden\" value=\"Report a problem or mistake on this page\">\\n            <fieldset>\\n                <legend><span class=\"field-name\">Please select all that apply:</span></legend>\\n                 <div class=\"checkbox\">\\n                    <label for=\"problem1\"><input name=\"problem1\" id=\"problem1\" type=\"checkbox\" value=\"Yes\" data-reveal=\"#broken\" data-gc-analytics-rap=\"A link, button or video is not working-Un lien, un bouton ou une vidéo ne fonctionne pas\">A link, button or video is not working</label>\\n                    <input name=\"problem1\" type=\"hidden\" value=\"\">\\n                </div>\\n                <div class=\"checkbox\">\\n                    <label for=\"problem2\"><input name=\"problem2\" id=\"problem2\" type=\"checkbox\" value=\"Yes\" data-reveal=\"#spelling\" data-gc-analytics-rap=\"It has a spelling mistake-Il y a une erreur d\\'orthographe ou de grammaire\">It has a spelling mistake</label>\\n                    <input name=\"problem2\" type=\"hidden\" value=\"\">\\n                </div>\\n                <div class=\"checkbox\">\\n                    <label for=\"problem3\"><input name=\"problem3\" id=\"problem3\" type=\"checkbox\" value=\"Yes\" data-reveal=\"#wrong\" data-gc-analytics-rap=\"Information is missing-Les renseignements sont incomplets\">Information is missing</label>\\n                    <input name=\"problem3\" type=\"hidden\" value=\"\">\\n               </div>\\n                <div class=\"checkbox\">\\n                    <label for=\"problem4\"><input name=\"problem4\" id=\"problem4\" type=\"checkbox\" value=\"Yes\" data-reveal=\"#outdated\" data-gc-analytics-rap=\" Information is outdated or wrong-L\\'information n\\'est plus à jour ou est erronée\">Information is outdated or wrong</label>\\n                    <input name=\"problem4\" type=\"hidden\" value=\"\">\\n                </div>\\n                <div class=\"checkbox\">\\n                    <label for=\"problem5\"><input name=\"problem5\" id=\"problem5\" type=\"checkbox\" value=\"Yes\" data-reveal=\"#find\" data-gc-analytics-rap=\" Login error when trying to access an account (e.g. My Service Canada Account)-Message d\\'erreur à l\\'ouverture de la session lorsque je tente d\\'accéder à un compte (ex. Mon dossier Service Canada)\">Login error when trying to access an account (e.g. My Service Canada Account)</label>\\n                    <input name=\"problem5\" type=\"hidden\" value=\"\">\\n                </div>\\n   \\t\\t\\t\\t\\t<ul>\\n\\t\\t\\t\\t\\t<li class=\"checkbox\">\\n                        <label for=\"problem6a\"><input name=\"problem6\" id=\"problem6a\" type=\"checkbox\" value=\"Yes\" data-reveal=\"#find\" data-gc-analytics-rap=\"GC Key access-Accès CléGC\">GC Key access</label>\\n                        <input name=\"problem6\" type=\"hidden\" value=\"\">\\n                     </li>\\n\\t\\t\\t\\t\\t<li class=\"checkbox\">\\n                        <label for=\"problem7\"><input name=\"problem7\" id=\"problem7\" type=\"checkbox\" value=\"Yes\" data-reveal=\"#find\" data-gc-analytics-rap=\"SecureKey Concierge (Banking Credential) access-Accès SecureKey Service de Concierge (justificatifs d\\'identité bancaires)\">SecureKey Concierge (Banking Credential) access </label>\\n                        <input name=\"problem7\" type=\"hidden\" value=\"\">\\n                     </li>\\n\\t\\t\\t\\t\\t<li class=\"checkbox\">\\n                        <label for=\"problem8\"><input name=\"problem8\" id=\"problem8\" type=\"checkbox\" value=\"Yes\" data-reveal=\"#find\" data-gc-analytics-rap=\"Personal Access Code (PAC) problems or EI Access Code (AC) problems-Problème avec le Code d\\'accès personnel (CAP) ou avec le Code d\\'accès (CA) de l\\'assurance emploi\">Personal Access Code (PAC) problems or EI Access Code (AC) problems</label>\\n                        <input name=\"problem8\" type=\"hidden\" value=\"\">\\n                     </li>\\t\\n\\t\\t\\t\\t\\t<li class=\"checkbox\">\\n                        <label for=\"problem9\"><input name=\"problem9\" id=\"problem9\" type=\"checkbox\" value=\"Yes\" data-reveal=\"#find\" data-gc-analytics-rap=\"Social Insurance Number (SIN) validation problems-Problème lié à la validation du numéro d\\'assurance sociale (NAS)\">Social Insurance Number (SIN) validation problems</label>\\n                        <input name=\"problem9\" type=\"hidden\" value=\"\">\\n                     </li>\\t\\t\\t\\t\\t\\t\\t\\t\\n\\t\\t\\t\\t\\t<li class=\"checkbox\">\\n                        <label for=\"problem10\"><input name=\"problem10\" id=\"problem10\" type=\"checkbox\" value=\"Yes\" data-reveal=\"#find\" data-gc-analytics-rap=\"Other login error not in this list-Autre erreur lors de l\\'ouverture de session qui ne figure pas sur cette liste\">Other login error not in this list</label>\\n                        <input name=\"problem10\" type=\"hidden\" value=\"\">\\n                     </li>\\t\\t \\n                     </ul>\\n\\t\\t\\t\\t    <div class=\"checkbox\">\\n                    <label for=\"problem11\"><input name=\"problem11\" id=\"problem11\" type=\"checkbox\" value=\"Yes\" data-reveal=\"#find\" data-gc-analytics-rap=\"I can\\'t find what I\\'m looking for-Je n\\'arrive pas à trouver ce que je cherche\">I can\\'t find what I\\'m looking for</label>\\n                    <input name=\"problem11\" type=\"hidden\" value=\"\">\\n                </div>\\n             \\t\\t<div class=\"checkbox\">\\n                    <label for=\"problem12\"><input name=\"problem12\" id=\"problem12\" type=\"checkbox\" value=\"Yes\" data-reveal=\"#find\" data-gc-analytics-rap=\"Other issue not in this list-Autre problème qui ne figure pas sur cette liste\">Other issue not in this list</label>\\n                    <input name=\"problem12\" type=\"hidden\" value=\"\">\\n                </div>                 \\n                   </fieldset>\\n            <button data-wb5-click=\"postback@#gc-rprt-prblm-form@\" type=\"submit\" class=\"btn btn-primary wb-toggle\" data-toggle=\\'{\"stateOff\": \"hide\", \"stateOn\": \"show\", \"selector\": \".gc-rprt-prblm-tggl\"}\\'>Submit</button>\\n\\n        </form>\\n    </div>\\n    <div class=\"gc-rprt-prblm-thnk gc-rprt-prblm-tggl hide\">\\n        <h3>Thank you for your help!</h3>\\n<p>You will not receive a reply. For enquiries,&nbsp;<a href=\"https://www.canada.ca/en/contact/index.html\">contact us</a>.</p>\\n\\n    </div>\\n</div></div>\\n</div>\\n\\n    </details>\\n</div>\\n       \\t<div class=\"col-sm-4 col-md-3 col-sm-offset-2 col-md-offset-4 col-lg-offset-5\">\\n        <div class=\"wb-share\" data-wb-share=\\'{&#34;lnkClass&#34;: &#34;btn btn-default btn-block&#34;}\\'></div>\\n        </div>\\n</div>\\n        <dl id=\"wb-dtmd\">\\n    <dt>Date modified:</dt>\\n    <dd><time property=\"dateModified\">2017-11-09</time></dd>\\n</dl>\\n</div>\\n        </main>\\n        <nav class=\"wb-sec col-md-3 col-md-pull-9\" typeof=\"SiteNavigationElement\" id=\"wb-sec\">\\n            <div>\\n    <h2 id=\"wb-sec-h\" class=\"wb-inv\">Section Menu</h2>\\n    <section class=\"list-group menu list-unstyled\">\\n        <h3 class=\"wb-navcurr\"><a href=\"/en/immigration-refugees-citizenship/corporate/mandate/citizenship-commission.html\">Citizenship Commission</a></h3>\\n        <ul class=\"list-group menu list-unstyled\">\\n            <li><a href=\"/en/immigration-refugees-citizenship/corporate/mandate/citizenship-commission/profiles-citizenship-judges.html\" class=\"list-group-item\">Profiles of citizenship judges</a>\\n                \\n            </li>\\n        \\n            <li><a href=\"/en/immigration-refugees-citizenship/corporate/mandate/citizenship-commission/roles-responsibilities-citizenship-judges.html\" class=\"list-group-item wb-navcurr\">Roles and responsibilities of citizenship judges</a>\\n                \\n            </li>\\n        \\n            <li><a href=\"/en/immigration-refugees-citizenship/corporate/mandate/citizenship-commission/citizenship-judge-code-conduct.html\" class=\"list-group-item\">Citizenship judge code of conduct</a>\\n                \\n            </li>\\n        \\n            <li><a href=\"/en/immigration-refugees-citizenship/corporate/mandate/citizenship-commission/protocol-addressing-citizenship-judge-conduct-issues.html\" class=\"list-group-item\">Protocol addressing citizenship judge conduct issues</a>\\n                \\n            </li>\\n        </ul>\\n    </section>\\n <!-- comment --></div>\\n        </nav>\\n    </div>\\n</div>\\n\\n\\n\\n\\n\\n    \\n\\n\\n\\n\\n    \\n        \\n        \\n        <div class=\"newpar new section\">\\n\\n</div>\\n\\n    \\n        \\n        \\n        <div class=\"par iparys_inherited\">\\n\\n    \\n    \\n    \\n    \\n\\n</div>\\n\\n    \\n\\n\\n\\n\\n    \\n\\n\\n\\n\\n    \\n        \\n        \\n        <div class=\"newpar new section\">\\n\\n</div>\\n\\n    \\n        \\n        \\n        <div class=\"par iparys_inherited\">\\n\\n    \\n    \\n    \\n    \\n        \\n        \\n        <div class=\"global-footer\">\\n    <footer id=\"wb-info\">\\n        <div class=\"landscape\">\\n        <nav class=\"container wb-navcurr\">\\n            <h2 class=\"wb-inv\">About government</h2>\\n            <ul class=\"list-unstyled colcount-sm-2 colcount-md-3\">\\n                \\n                     \\n                         <li><a href=\"/en/immigration-refugees-citizenship/corporate/contact-ircc.html\">Contact us </a></li>\\n                     \\n                \\n                \\n                    \\n                        <li><a href=\"/en/government/dept.html\">Departments and agencies</a></li>\\n                    \\n                \\n                \\n                    \\n                        <li><a href=\"/en/government/publicservice.html\">Public service and military</a></li>\\n                    \\n                \\n                \\n                    \\n                        <li><a href=\"/en/news.html\">News</a></li>\\n                    \\n                \\n                \\n                    \\n                        <li><a href=\"/en/government/system/laws.html\">Treaties, laws and regulations</a></li>\\n                    \\n                \\n                \\n                    \\n                        <li><a href=\"/en/transparency/reporting.html\">Government-wide reporting</a></li>\\n                    \\n                \\n                \\n                    \\n                        <li><a href=\"http://pm.gc.ca/en\">Prime Minister</a></li>\\n                    \\n                \\n                \\n                    \\n                        <li><a href=\"/en/government/system.html\">About government</a></li>\\n                    \\n                \\n                \\n                    \\n                        <li><a href=\"http://open.canada.ca/en\">Open government</a></li>\\n                    \\n                \\n            </ul>\\n        </nav>\\n        </div>\\n        <div class=\"brand\">\\n            <div class=\"container\">\\n                <div class=\"row\">\\n                    <nav class=\"col-md-10 ftr-urlt-lnk\">\\n                        <h2 class=\"wb-inv\">About this site</h2>\\n                        <ul>\\n                            \\n                                \\n                                    <li><a href=\"/en/social.html\">Social media</a></li>\\n                                \\n                            \\n                            \\n                                \\n                                    <li><a href=\"/en/mobile.html\">Mobile applications</a></li>\\n                                \\n                            \\n                            \\n                                \\n                                    <li><a href=\"/en/government/about.html\">About Canada.ca</a></li>\\n                                \\n                            \\n                            \\n                                \\n                                    <li><a href=\"/en/transparency/terms.html\">Terms and conditions</a></li>\\n                                \\n                            \\n                            \\n                                \\n                                    <li><a href=\"/en/transparency/privacy.html\">Privacy</a></li>\\n                                \\n                            \\n                            \\n                                \\n                            \\n                        </ul>\\n                    </nav>\\n                    <div class=\"col-xs-6 visible-sm visible-xs tofpg\">\\n                        <a href=\"#wb-cont\">Top of page <span class=\"glyphicon glyphicon-chevron-up\"></span></a>\\n                    </div>\\n                    <div class=\"col-xs-6 col-md-2 text-right\">\\n                        <img src=\"/etc/designs/canada/wet-boew/assets/wmms-blk.svg\" alt=\"Symbol of the Government of Canada\"/>\\n                    </div>\\n                </div>\\n            </div>\\n        </div>\\n    </footer>\\n\\n</div>\\n\\n    \\n\\n</div>\\n\\n    \\n\\n\\n\\n\\n    \\n\\n\\n\\n\\n\\n\\n\\n    <script type=\"text/javascript\">_satellite.pageBottom();</script>\\n\\n\\n\\n\\n\\n\\n\\n\\n    \\n<script src=\"/etc.clientlibs/clientlibs/granite/jquery.min.js\"></script>\\n<script src=\"/etc.clientlibs/clientlibs/granite/utils.min.js\"></script>\\n<script src=\"/etc/designs/canada/clientlib-publish.min.js\"></script>\\n\\n\\n\\n\\n<script src=\"//ajax.googleapis.com/ajax/libs/jquery/2.1.1/jquery.min.js\"></script>\\n<script src=\"/etc/designs/canada/wet-boew/js/wet-boew.min.js\"></script>\\n\\n<script src=\"/etc/designs/canada/wet-boew/js/theme.min.js\"></script>\\n</body>\\n</html>\\n', 'meta': {'name': 'file-10567.txt'}}]\n"
          ],
          "name": "stdout"
        },
        {
          "output_type": "stream",
          "text": [
            "02/26/2021 23:28:41 - INFO - elasticsearch -   POST http://localhost:9200/_bulk?refresh=wait_for [status:200 request:4.934s]\n",
            "02/26/2021 23:28:43 - INFO - elasticsearch -   POST http://localhost:9200/_bulk?refresh=wait_for [status:200 request:1.148s]\n"
          ],
          "name": "stderr"
        }
      ]
    },
    {
      "cell_type": "markdown",
      "metadata": {
        "id": "8QkRFq0mleVM"
      },
      "source": [
        "## Initalize Retriever, Reader,  & Finder\n",
        "\n",
        "### Retriever\n",
        "\n",
        "Retrievers help narrowing down the scope for the Reader to smaller units of text where a given question could be answered.\n",
        "They use some simple but fast algorithm.\n",
        "\n",
        "**Here:** We use Elasticsearch's default BM25 algorithm\n",
        "\n",
        "**Alternatives:**\n",
        "\n",
        "- Customize the `ElasticsearchRetriever`with custom queries (e.g. boosting) and filters\n",
        "- Use `TfidfRetriever` in combination with a SQL or InMemory Document store for simple prototyping and debugging\n",
        "- Use `EmbeddingRetriever` to find candidate documents based on the similarity of embeddings (e.g. created via Sentence-BERT)\n",
        "- Use `DensePassageRetriever` to use different embedding models for passage and query (see Tutorial 6)"
      ]
    },
    {
      "cell_type": "code",
      "metadata": {
        "id": "hc2oPgBQleVO"
      },
      "source": [
        "from haystack.retriever.sparse import ElasticsearchRetriever\n",
        "retriever = ElasticsearchRetriever(document_store=document_store)"
      ],
      "execution_count": 36,
      "outputs": []
    },
    {
      "cell_type": "code",
      "metadata": {
        "pycharm": {
          "is_executing": false,
          "name": "#%%\n"
        },
        "id": "KaKfqEU_leVP"
      },
      "source": [
        "# Alternative: An in-memory TfidfRetriever based on Pandas dataframes for building quick-prototypes with SQLite document store.\n",
        "\n",
        "# from haystack.retriever.sparse import TfidfRetriever\n",
        "# retriever = TfidfRetriever(document_store=document_store)"
      ],
      "execution_count": 37,
      "outputs": []
    },
    {
      "cell_type": "markdown",
      "metadata": {
        "id": "XPRGK8xyleVP"
      },
      "source": [
        "### Reader\n",
        "\n",
        "A Reader scans the texts returned by retrievers in detail and extracts the k best answers. They are based\n",
        "on powerful, but slower deep learning models.\n",
        "\n",
        "Haystack currently supports Readers based on the frameworks FARM and Transformers.\n",
        "With both you can either load a local model or one from Hugging Face's model hub (https://huggingface.co/models).\n",
        "\n",
        "**Here:** a medium sized RoBERTa QA model using a Reader based on FARM (https://huggingface.co/deepset/roberta-base-squad2)\n",
        "\n",
        "**Alternatives (Reader):** TransformersReader (leveraging the `pipeline` of the Transformers package)\n",
        "\n",
        "**Alternatives (Models):** e.g. \"distilbert-base-uncased-distilled-squad\" (fast) or \"deepset/bert-large-uncased-whole-word-masking-squad2\" (good accuracy)\n",
        "\n",
        "**Hint:** You can adjust the model to return \"no answer possible\" with the no_ans_boost. Higher values mean the model prefers \"no answer possible\"\n",
        "\n",
        "#### FARMReader"
      ]
    },
    {
      "cell_type": "code",
      "metadata": {
        "pycharm": {
          "is_executing": false
        },
        "id": "aX5rLrylleVR",
        "colab": {
          "base_uri": "https://localhost:8080/",
          "height": 807,
          "referenced_widgets": [
            "e7d54e219f5441ab92aa1693e9aeddac",
            "6e141520c1ba437580a9b6d375f1bfa2",
            "faa3b335bbb841b5aac55566ab224074",
            "db3c59cfc5904d328a26504d470bb350",
            "0a07c68a033c4e9c9d94d7e8b335e10f",
            "063b0a1f57a447568c02f72882ee18f9",
            "21244cb5d47e4263b9d6f5564834f85a",
            "c03c58e5720543818c419fdd79934706",
            "bb497eb7a122488a817e70385780b7e9",
            "73e808f3a8974b98989c4919db92f7e3",
            "cb5e5d9bd47e4ac9af0a2aa4b626493a",
            "88ef74ff10d248aeb401075a488a318a",
            "a49748e871da427a9f54d2cb50a30f28",
            "d2cda2b998cf46309cf9cb2542e99429",
            "ce53682d998d486fb627a1de7ab182de",
            "73446ad8f4a34df28f3183a37542c293",
            "a9911e420d844b538f8b38afaf398085",
            "4491cac23d5f4c5a897de102987ee33c",
            "9a66e13731d94d48be2bf2477da02516",
            "0ddf7dadd5754f29af026502513f9d5d",
            "ceb2959a5a6b4227ac10cc053662f9b0",
            "9928164ed74443c5b99173cfde9bed60",
            "c9975bf1eec14ef2966dd28befc16323",
            "b8b55e3e968b42adbb259b95f7d1b795",
            "3a1721b3458a4e188cce2a6da4593a14",
            "9f96fa17d1bb424ea00d2da9249741e3",
            "5cbfbf753a6e47cc8a2c46d677e46452",
            "1fbc17f4b89242d2b9f535c9248a49e1",
            "0401504a8da34440869e9689be422e33",
            "42105b6664b9449ab1a4cb31bd8f428b",
            "922b354253e74cfdbfd1937a00e1c8f4",
            "98e643ccd1674c70bd679529188ec019",
            "5cfb981d375047878b1d2804a8fff199",
            "dbe2750c4d9b4cf2bcb98c3503a34a7b",
            "bf0eba7943b547ac807af132b220ce82",
            "6392d5e1bf6443edaacd2e250f665bd6",
            "333261a6e7174a768d57d8a96f27b6c7",
            "814be7343bbf47a0aaee2df7de515c8b",
            "442c4b68a9b449f69a123fd201abbe02",
            "aad5a06e1b764b48b7ed6313eea685ee",
            "b1330f77af984010a96445e22b81141a",
            "a71975476e764af495b35ba96c46d978",
            "48fcbcc7163b4162871dfed4f239a861",
            "30637ab1a02c4750990fa563e0c6df10",
            "44742e06618245df86a8e6cf9e00ae29",
            "042eefd81f39404c9adf45ba096bd1d9",
            "8d48de9142aa4eaabefbe54f4711456c",
            "8da57e01ac8d4f3c9f9dbedce639bde1"
          ]
        },
        "outputId": "44337a63-9a82-4650-8d78-979a033b51e9"
      },
      "source": [
        "# Load a  local model or any of the QA models on\n",
        "# Hugging Face's model hub (https://huggingface.co/models)\n",
        "\n",
        "reader = FARMReader(model_name_or_path=\"deepset/roberta-base-squad2\", use_gpu=True)"
      ],
      "execution_count": 38,
      "outputs": [
        {
          "output_type": "stream",
          "text": [
            "02/26/2021 23:29:13 - INFO - farm.utils -   Using device: CUDA \n",
            "02/26/2021 23:29:13 - INFO - farm.utils -   Number of GPUs: 1\n",
            "02/26/2021 23:29:13 - INFO - farm.utils -   Distributed Training: False\n",
            "02/26/2021 23:29:13 - INFO - farm.utils -   Automatic Mixed Precision: None\n",
            "02/26/2021 23:29:13 - INFO - filelock -   Lock 140139225830992 acquired on /root/.cache/huggingface/transformers/c40d0abb589629c48763f271020d0b1f602f5208c432c0874d420491ed37e28b.122ed338b3591c07dba452777c59ff52330edb340d3d56d67aa9117ad9905673.lock\n"
          ],
          "name": "stderr"
        },
        {
          "output_type": "display_data",
          "data": {
            "application/vnd.jupyter.widget-view+json": {
              "model_id": "e7d54e219f5441ab92aa1693e9aeddac",
              "version_minor": 0,
              "version_major": 2
            },
            "text/plain": [
              "HBox(children=(FloatProgress(value=0.0, description='Downloading', max=571.0, style=ProgressStyle(description_…"
            ]
          },
          "metadata": {
            "tags": []
          }
        },
        {
          "output_type": "stream",
          "text": [
            "02/26/2021 23:29:13 - INFO - filelock -   Lock 140139225830992 released on /root/.cache/huggingface/transformers/c40d0abb589629c48763f271020d0b1f602f5208c432c0874d420491ed37e28b.122ed338b3591c07dba452777c59ff52330edb340d3d56d67aa9117ad9905673.lock\n",
            "02/26/2021 23:29:13 - INFO - filelock -   Lock 140142269740944 acquired on /root/.cache/huggingface/transformers/eac3273a8097dda671e3bea1db32c616e74f36a306c65b4858171c98d6db83e9.084aa7284f3a51fa1c8f0641aa04c47d366fbd18711f29d0a995693cfdbc9c9e.lock\n"
          ],
          "name": "stderr"
        },
        {
          "output_type": "stream",
          "text": [
            "\n"
          ],
          "name": "stdout"
        },
        {
          "output_type": "display_data",
          "data": {
            "application/vnd.jupyter.widget-view+json": {
              "model_id": "bb497eb7a122488a817e70385780b7e9",
              "version_minor": 0,
              "version_major": 2
            },
            "text/plain": [
              "HBox(children=(FloatProgress(value=0.0, description='Downloading', max=496313727.0, style=ProgressStyle(descri…"
            ]
          },
          "metadata": {
            "tags": []
          }
        },
        {
          "output_type": "stream",
          "text": [
            "02/26/2021 23:29:23 - INFO - filelock -   Lock 140142269740944 released on /root/.cache/huggingface/transformers/eac3273a8097dda671e3bea1db32c616e74f36a306c65b4858171c98d6db83e9.084aa7284f3a51fa1c8f0641aa04c47d366fbd18711f29d0a995693cfdbc9c9e.lock\n"
          ],
          "name": "stderr"
        },
        {
          "output_type": "stream",
          "text": [
            "\n"
          ],
          "name": "stdout"
        },
        {
          "output_type": "stream",
          "text": [
            "Some weights of RobertaModel were not initialized from the model checkpoint at deepset/roberta-base-squad2 and are newly initialized: ['roberta.pooler.dense.weight', 'roberta.pooler.dense.bias']\n",
            "You should probably TRAIN this model on a down-stream task to be able to use it for predictions and inference.\n",
            "02/26/2021 23:29:45 - INFO - filelock -   Lock 140139683011920 acquired on /root/.cache/huggingface/transformers/81c80edb4c6cefa5cae64ccfdb34b3b309ecaf60da99da7cd1c17e24a5d36eb5.647b4548b6d9ea817e82e7a9231a320231a1c9ea24053cc9e758f3fe68216f05.lock\n"
          ],
          "name": "stderr"
        },
        {
          "output_type": "display_data",
          "data": {
            "application/vnd.jupyter.widget-view+json": {
              "model_id": "a9911e420d844b538f8b38afaf398085",
              "version_minor": 0,
              "version_major": 2
            },
            "text/plain": [
              "HBox(children=(FloatProgress(value=0.0, description='Downloading', max=898822.0, style=ProgressStyle(descripti…"
            ]
          },
          "metadata": {
            "tags": []
          }
        },
        {
          "output_type": "stream",
          "text": [
            "02/26/2021 23:29:45 - INFO - filelock -   Lock 140139683011920 released on /root/.cache/huggingface/transformers/81c80edb4c6cefa5cae64ccfdb34b3b309ecaf60da99da7cd1c17e24a5d36eb5.647b4548b6d9ea817e82e7a9231a320231a1c9ea24053cc9e758f3fe68216f05.lock\n",
            "02/26/2021 23:29:45 - INFO - filelock -   Lock 140139190725904 acquired on /root/.cache/huggingface/transformers/b87d46371731376b11768b7839b1a5938a4f77d6bd2d9b683f167df0026af432.5d12962c5ee615a4c803841266e9c3be9a691a924f72d395d3a6c6c81157788b.lock\n"
          ],
          "name": "stderr"
        },
        {
          "output_type": "stream",
          "text": [
            "\n"
          ],
          "name": "stdout"
        },
        {
          "output_type": "display_data",
          "data": {
            "application/vnd.jupyter.widget-view+json": {
              "model_id": "3a1721b3458a4e188cce2a6da4593a14",
              "version_minor": 0,
              "version_major": 2
            },
            "text/plain": [
              "HBox(children=(FloatProgress(value=0.0, description='Downloading', max=456318.0, style=ProgressStyle(descripti…"
            ]
          },
          "metadata": {
            "tags": []
          }
        },
        {
          "output_type": "stream",
          "text": [
            "02/26/2021 23:29:45 - INFO - filelock -   Lock 140139190725904 released on /root/.cache/huggingface/transformers/b87d46371731376b11768b7839b1a5938a4f77d6bd2d9b683f167df0026af432.5d12962c5ee615a4c803841266e9c3be9a691a924f72d395d3a6c6c81157788b.lock\n",
            "02/26/2021 23:29:45 - INFO - filelock -   Lock 140139187398608 acquired on /root/.cache/huggingface/transformers/c9d2c178fac8d40234baa1833a3b1903d393729bf93ea34da247c07db24900d0.cb2244924ab24d706b02fd7fcedaea4531566537687a539ebb94db511fd122a0.lock\n"
          ],
          "name": "stderr"
        },
        {
          "output_type": "stream",
          "text": [
            "\n"
          ],
          "name": "stdout"
        },
        {
          "output_type": "display_data",
          "data": {
            "application/vnd.jupyter.widget-view+json": {
              "model_id": "5cfb981d375047878b1d2804a8fff199",
              "version_minor": 0,
              "version_major": 2
            },
            "text/plain": [
              "HBox(children=(FloatProgress(value=0.0, description='Downloading', max=772.0, style=ProgressStyle(description_…"
            ]
          },
          "metadata": {
            "tags": []
          }
        },
        {
          "output_type": "stream",
          "text": [
            "02/26/2021 23:29:45 - INFO - filelock -   Lock 140139187398608 released on /root/.cache/huggingface/transformers/c9d2c178fac8d40234baa1833a3b1903d393729bf93ea34da247c07db24900d0.cb2244924ab24d706b02fd7fcedaea4531566537687a539ebb94db511fd122a0.lock\n",
            "02/26/2021 23:29:45 - INFO - filelock -   Lock 140139187337936 acquired on /root/.cache/huggingface/transformers/e8a600814b69e3ee74bb4a7398cc6fef9812475010f16a6c9f151b2c2772b089.451739a2f3b82c3375da0dfc6af295bedc4567373b171f514dd09a4cc4b31513.lock\n"
          ],
          "name": "stderr"
        },
        {
          "output_type": "stream",
          "text": [
            "\n"
          ],
          "name": "stdout"
        },
        {
          "output_type": "display_data",
          "data": {
            "application/vnd.jupyter.widget-view+json": {
              "model_id": "b1330f77af984010a96445e22b81141a",
              "version_minor": 0,
              "version_major": 2
            },
            "text/plain": [
              "HBox(children=(FloatProgress(value=0.0, description='Downloading', max=79.0, style=ProgressStyle(description_w…"
            ]
          },
          "metadata": {
            "tags": []
          }
        },
        {
          "output_type": "stream",
          "text": [
            "02/26/2021 23:29:45 - INFO - filelock -   Lock 140139187337936 released on /root/.cache/huggingface/transformers/e8a600814b69e3ee74bb4a7398cc6fef9812475010f16a6c9f151b2c2772b089.451739a2f3b82c3375da0dfc6af295bedc4567373b171f514dd09a4cc4b31513.lock\n"
          ],
          "name": "stderr"
        },
        {
          "output_type": "stream",
          "text": [
            "\n"
          ],
          "name": "stdout"
        },
        {
          "output_type": "stream",
          "text": [
            "02/26/2021 23:29:45 - WARNING - farm.utils -   ML Logging is turned off. No parameters, metrics or artifacts will be logged to MLFlow.\n",
            "02/26/2021 23:29:45 - INFO - farm.utils -   Using device: CUDA \n",
            "02/26/2021 23:29:45 - INFO - farm.utils -   Number of GPUs: 1\n",
            "02/26/2021 23:29:45 - INFO - farm.utils -   Distributed Training: False\n",
            "02/26/2021 23:29:45 - INFO - farm.utils -   Automatic Mixed Precision: None\n",
            "02/26/2021 23:29:45 - INFO - farm.infer -   Got ya 2 parallel workers to do inference ...\n",
            "02/26/2021 23:29:45 - INFO - farm.infer -    0    0 \n",
            "02/26/2021 23:29:45 - INFO - farm.infer -   /w\\  /w\\\n",
            "02/26/2021 23:29:45 - INFO - farm.infer -   /'\\  / \\\n",
            "02/26/2021 23:29:45 - INFO - farm.infer -     \n"
          ],
          "name": "stderr"
        }
      ]
    },
    {
      "cell_type": "markdown",
      "metadata": {
        "id": "JErUvzplleVS"
      },
      "source": [
        "#### TransformersReader"
      ]
    },
    {
      "cell_type": "code",
      "metadata": {
        "id": "crMuaRhVleVT"
      },
      "source": [
        "# Alternative:\n",
        "# reader = TransformersReader(model_name_or_path=\"distilbert-base-uncased-distilled-squad\", tokenizer=\"distilbert-base-uncased\", use_gpu=-1)"
      ],
      "execution_count": null,
      "outputs": []
    },
    {
      "cell_type": "markdown",
      "metadata": {
        "id": "_--AupVwleVU"
      },
      "source": [
        "### Pipeline\n",
        "\n",
        "With a Haystack `Pipeline` you can stick together your building blocks to a search pipeline.\n",
        "Under the hood, `Pipelines` are Directed Acyclic Graphs (DAGs) that you can easily customize for your own use cases.\n",
        "To speed things up, Haystack also comes with a few predefined Pipelines. One of them is the `ExtractiveQAPipeline` that combines a retriever and a reader to answer our questions.\n",
        "You can learn more about `Pipelines` in the [docs](https://haystack.deepset.ai/docs/latest/pipelinesmd)."
      ]
    },
    {
      "cell_type": "code",
      "metadata": {
        "pycharm": {
          "is_executing": false
        },
        "id": "W-c2m5o5leVV"
      },
      "source": [
        "from haystack.pipeline import ExtractiveQAPipeline\n",
        "pipe = ExtractiveQAPipeline(reader, retriever)"
      ],
      "execution_count": 39,
      "outputs": []
    },
    {
      "cell_type": "markdown",
      "metadata": {
        "id": "WTa5lPg7leVV"
      },
      "source": [
        "## Voilà! Ask a question!"
      ]
    },
    {
      "cell_type": "code",
      "metadata": {
        "pycharm": {
          "is_executing": false
        },
        "id": "Vtsvlj2kleVW",
        "colab": {
          "base_uri": "https://localhost:8080/"
        },
        "outputId": "43344caf-d540-4c8d-f575-c9cdbf07ba98"
      },
      "source": [
        "# You can configure how many candidates the reader and retriever shall return\n",
        "# The higher top_k_retriever, the better (but also the slower) your answers. \n",
        "prediction = pipe.run(query=\"who can get a work permit in canada?\", top_k_retriever=10, top_k_reader=5)"
      ],
      "execution_count": 48,
      "outputs": [
        {
          "output_type": "stream",
          "text": [
            "02/26/2021 23:36:47 - INFO - elasticsearch -   POST http://localhost:9200/document/_search [status:200 request:0.024s]\n",
            "Inferencing Samples: 100%|██████████| 8/8 [00:05<00:00,  1.41 Batches/s]\n",
            "Inferencing Samples: 100%|██████████| 4/4 [00:02<00:00,  1.44 Batches/s]\n",
            "Inferencing Samples: 100%|██████████| 3/3 [00:01<00:00,  1.54 Batches/s]\n",
            "Inferencing Samples: 100%|██████████| 9/9 [00:06<00:00,  1.45 Batches/s]\n",
            "Inferencing Samples: 100%|██████████| 4/4 [00:02<00:00,  1.35 Batches/s]\n",
            "Inferencing Samples: 100%|██████████| 4/4 [00:02<00:00,  1.67 Batches/s]\n",
            "Inferencing Samples: 100%|██████████| 4/4 [00:02<00:00,  1.44 Batches/s]\n",
            "Inferencing Samples: 100%|██████████| 5/5 [00:03<00:00,  1.50 Batches/s]\n",
            "Inferencing Samples: 100%|██████████| 3/3 [00:02<00:00,  1.26 Batches/s]\n",
            "Inferencing Samples: 100%|██████████| 3/3 [00:02<00:00,  1.37 Batches/s]\n"
          ],
          "name": "stderr"
        }
      ]
    },
    {
      "cell_type": "code",
      "metadata": {
        "id": "pRaxFkOwleVY"
      },
      "source": [
        "# prediction = pipe.run(query=\"Who created the Dothraki vocabulary?\", top_k_reader=5)\n",
        "# prediction = pipe.run(query=\"Who is the sister of Sansa?\", top_k_reader=5)"
      ],
      "execution_count": 49,
      "outputs": []
    },
    {
      "cell_type": "code",
      "metadata": {
        "pycharm": {
          "is_executing": false,
          "name": "#%%\n"
        },
        "id": "OPxjLcN8leVZ",
        "colab": {
          "base_uri": "https://localhost:8080/"
        },
        "outputId": "a4764293-9a3d-4c53-a961-f75272720bd9"
      },
      "source": [
        "print_answers(prediction, details=\"minimal\")"
      ],
      "execution_count": 50,
      "outputs": [
        {
          "output_type": "stream",
          "text": [
            "[   {   'answer': 'Mexican citizens who have been admitted to Canada as '\n",
            "                  'visitors',\n",
            "        'context': ' was not issued at a port of entry;</li>\\n'\n",
            "                   '<li>Mexican citizens who have been admitted to Canada as '\n",
            "                   'visitors may apply for a work permit under any <abbr'},\n",
            "    {   'answer': 'a person who is not a Canadian citizen or a permanent '\n",
            "                  'resident of Canada',\n",
            "        'context': 'work in Canada issued by an officer to a person who is not '\n",
            "                   'a Canadian citizen or a permanent resident of Canada. It '\n",
            "                   'is required if the employment loca'},\n",
            "    {   'answer': 'spouse or common-law partner',\n",
            "        'context': 'rmit pilot program for permanent residence applicants in '\n",
            "                   'the spouse or common-law partner in Canada class '\n",
            "                   '(A70)</li>\\n'\n",
            "                   '      <li>Foreign physicians comi'},\n",
            "    {   'answer': 'Mexican citizens',\n",
            "        'context': 'road, where the permit was not issued at a port of '\n",
            "                   'entry;</li>\\n'\n",
            "                   '<li>Mexican citizens who have been admitted to Canada as '\n",
            "                   'visitors may apply for a work '},\n",
            "    {   'answer': 'spouse or common-law partner',\n",
            "        'context': 'rmit pilot program for permanent residence applicants in '\n",
            "                   'the spouse or common-law partner in Canada class '\n",
            "                   '(A70)</li>\\n'\n",
            "                   '      <li>Foreign physicians comi'}]\n"
          ],
          "name": "stdout"
        }
      ]
    }
  ]
}